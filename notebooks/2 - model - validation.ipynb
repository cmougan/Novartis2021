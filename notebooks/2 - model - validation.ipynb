{
 "cells": [
  {
   "cell_type": "code",
   "execution_count": 1,
   "id": "49b648a6",
   "metadata": {},
   "outputs": [],
   "source": [
    "import sys\n",
    "sys.path.append(\"../\")\n",
    "sys.path.append(\"../..\")"
   ]
  },
  {
   "cell_type": "code",
   "execution_count": 3,
   "id": "8a8f20b3",
   "metadata": {},
   "outputs": [],
   "source": [
    "# For reproducibility\n",
    "import random\n",
    "random.seed(0)\n",
    "VAL_SIZE = 38\n",
    "SUBMISSION_NAME = \"first_lightgbm\""
   ]
  },
  {
   "cell_type": "code",
   "execution_count": null,
   "id": "d92a1c59",
   "metadata": {},
   "outputs": [],
   "source": [
    "# %% Imports\n",
    "import pandas as pd\n",
    "import sys\n",
    "from metrics.metric_participants import ComputeMetrics\n",
    "from sklearn.pipeline import Pipeline\n",
    "from sklearn.impute import SimpleImputer\n",
    "from lightgbm import LGBMRegressor\n",
    "import random\n",
    "\n",
    "from eda.checker import check_train_test"
   ]
  },
  {
   "cell_type": "markdown",
   "id": "41a020ab",
   "metadata": {},
   "source": [
    "# read data"
   ]
  },
  {
   "cell_type": "code",
   "execution_count": null,
   "id": "baeca2d0",
   "metadata": {},
   "outputs": [],
   "source": [
    "sales_train = pd.read_csv(\"../data/data_raw/sales_train.csv\")\n",
    "df_full = pd.read_csv(\"../data/split.csv\")\n",
    "df_region = pd.read_csv(\"../data/data_raw/regions.csv\")\n",
    "regions_hcps = pd.read_csv(\"../data/data_raw/regions_hcps.csv\")\n",
    "activity_features = pd.read_csv(\"../data/features/activity_features.csv\")\n",
    "train_correlation_features = pd.read_csv(\"../data/features/train_correlation_features_for_validation.csv\")\n",
    "test_correlation_features = pd.read_csv(\"../data/features/test_correlation_features_for_validation.csv\")\n",
    "correlation_features = pd.concat([train_correlation_features, test_correlation_features]).reset_index(drop=True)"
   ]
  },
  {
   "cell_type": "markdown",
   "id": "06ab4553",
   "metadata": {},
   "source": [
    "# merge"
   ]
  },
  {
   "cell_type": "code",
   "execution_count": null,
   "id": "e361e296",
   "metadata": {
    "scrolled": true
   },
   "outputs": [],
   "source": [
    "# %% Add region data\n",
    "df_feats = df_full.merge(df_region, on=\"region\", how=\"left\")\n",
    "df_feats = pd.merge(left=df_feats, right=regions_hcps, how=\"left\", on=\"region\")\n",
    "df_feats = df_feats.merge(\n",
    "    activity_features, on=[\"month\", \"region\", \"brand\"], how=\"left\"\n",
    ")\n",
    "# df_feats = df_feats.merge(\n",
    "#     correlation_features, on=[\"month\", \"region\"], how=\"left\"\n",
    "# )"
   ]
  },
  {
   "cell_type": "code",
   "execution_count": null,
   "id": "cd2787e5",
   "metadata": {},
   "outputs": [],
   "source": [
    "# drop sum variables\n",
    "cols_to_drop = [\"month\", \"region\", \"brand\", \"sales\", \"validation\"]\n",
    "\n",
    "\n",
    "# %% Split train val test\n",
    "X_train = df_feats.query(\"validation == 0\").drop(columns=cols_to_drop)\n",
    "y_train = df_feats.query(\"validation == 0\").sales\n",
    "\n",
    "X_val = df_feats.query(\"validation == 1\").drop(columns=cols_to_drop)\n",
    "y_val = df_feats.query(\"validation == 1\").sales"
   ]
  },
  {
   "cell_type": "code",
   "execution_count": null,
   "id": "783d8f90",
   "metadata": {},
   "outputs": [],
   "source": [
    "check_train_test(X_train, X_val)"
   ]
  },
  {
   "cell_type": "markdown",
   "id": "5c706641",
   "metadata": {},
   "source": [
    "# fit"
   ]
  },
  {
   "cell_type": "code",
   "execution_count": null,
   "id": "da122244",
   "metadata": {},
   "outputs": [],
   "source": [
    "# %%\n",
    "lgbms = {}\n",
    "pipes = {}\n",
    "train_preds = {}\n",
    "val_preds = {}\n",
    "test_preds = {}\n",
    "\n",
    "for quantile in [0.5, 0.1, 0.9]:\n",
    "\n",
    "    lgbms[quantile] = LGBMRegressor(\n",
    "        n_jobs=-1,\n",
    "        n_estimators=50,\n",
    "        objective=\"quantile\",\n",
    "        alpha=quantile,\n",
    "    )\n",
    "\n",
    "    pipes[quantile] = Pipeline(\n",
    "        [(\"imputer\", SimpleImputer(strategy=\"median\")), (\"lgb\", lgbms[quantile])]\n",
    "    )\n",
    "\n",
    "    # Fit cv model\n",
    "    pipes[quantile].fit(X_train, y_train)\n",
    "\n",
    "    train_preds[quantile] = pipes[quantile].predict(X_train)\n",
    "    val_preds[quantile] = pipes[quantile].predict(X_val)"
   ]
  },
  {
   "cell_type": "code",
   "execution_count": null,
   "id": "190c43df",
   "metadata": {},
   "outputs": [],
   "source": [
    "# %% Train prediction\n",
    "train_preds_df = (\n",
    "    df_feats.query(\"validation == 0\")\n",
    "    .loc[:, [\"month\", \"region\", \"brand\"]]\n",
    "    .assign(sales=train_preds[0.5])\n",
    "    .assign(lower=train_preds[0.1].clip(0))\n",
    "    .assign(upper=train_preds[0.9])\n",
    ")"
   ]
  },
  {
   "cell_type": "code",
   "execution_count": null,
   "id": "36da1a6e",
   "metadata": {},
   "outputs": [],
   "source": [
    "ground_truth_train = df_feats.query(\"validation == 0\").loc[\n",
    "    :, [\"month\", \"region\", \"brand\", \"sales\"]\n",
    "]"
   ]
  },
  {
   "cell_type": "code",
   "execution_count": null,
   "id": "fbafad2b",
   "metadata": {},
   "outputs": [],
   "source": [
    "ComputeMetrics(train_preds_df, sales_train, ground_truth_train)"
   ]
  },
  {
   "cell_type": "markdown",
   "id": "6e250379",
   "metadata": {},
   "source": [
    "(33.38105759717777, 102.31712168606201)"
   ]
  },
  {
   "cell_type": "code",
   "execution_count": null,
   "id": "55587002",
   "metadata": {},
   "outputs": [],
   "source": [
    "# %% Validation prediction\n",
    "val_preds_df = (\n",
    "    df_feats.query(\"validation == 1\")\n",
    "    .loc[:, [\"month\", \"region\", \"brand\"]]\n",
    "    .assign(sales=val_preds[0.5])\n",
    "    .assign(lower=val_preds[0.1].clip(0))\n",
    "    .assign(upper=val_preds[0.9])\n",
    ")\n",
    "\n",
    "ground_truth_val = df_feats.query(\"validation == 1\").loc[\n",
    "    :, [\"month\", \"region\", \"brand\", \"sales\"]\n",
    "]\n",
    "\n",
    "ComputeMetrics(val_preds_df, sales_train, ground_truth_val)"
   ]
  },
  {
   "cell_type": "markdown",
   "id": "b11500ca",
   "metadata": {},
   "source": [
    "(68.04061865181535, 184.6997685505819)\n"
   ]
  },
  {
   "cell_type": "code",
   "execution_count": null,
   "id": "bf276562",
   "metadata": {},
   "outputs": [],
   "source": []
  }
 ],
 "metadata": {
  "kernelspec": {
   "display_name": "Python 3",
   "language": "python",
   "name": "python3"
  },
  "language_info": {
   "codemirror_mode": {
    "name": "ipython",
    "version": 3
   },
   "file_extension": ".py",
   "mimetype": "text/x-python",
   "name": "python",
   "nbconvert_exporter": "python",
   "pygments_lexer": "ipython3",
   "version": "3.7.7"
  }
 },
 "nbformat": 4,
 "nbformat_minor": 5
}
