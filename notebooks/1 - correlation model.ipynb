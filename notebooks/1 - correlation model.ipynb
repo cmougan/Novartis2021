{
 "cells": [
  {
   "cell_type": "code",
   "execution_count": 2,
   "id": "a5baef42",
   "metadata": {},
   "outputs": [
    {
     "name": "stdout",
     "output_type": "stream",
     "text": [
      "The autoreload extension is already loaded. To reload it, use:\n",
      "  %reload_ext autoreload\n"
     ]
    }
   ],
   "source": [
    "%load_ext autoreload\n",
    "%autoreload 2"
   ]
  },
  {
   "cell_type": "markdown",
   "id": "a1982c01",
   "metadata": {},
   "source": [
    "The main idea behind this model is:\n",
    "\n",
    "1. find `N` similar `(brand, region)` in the train dataset using the `brand_3`, `brand_3_market` and `brand_12_market` features.\n",
    "2. compute the `mean` and the `std` deviation of these `N` groups\n",
    "3. predict `(mean - X * std, mean + X * std)`, where `X ~ 1.2815`."
   ]
  },
  {
   "cell_type": "code",
   "execution_count": 3,
   "id": "36edb84f",
   "metadata": {},
   "outputs": [],
   "source": [
    "# CONSTANTS \n",
    "N = 5\n",
    "X = 1.2815"
   ]
  },
  {
   "cell_type": "markdown",
   "id": "0ca6e8b8",
   "metadata": {},
   "source": [
    "# 1 - read data"
   ]
  },
  {
   "cell_type": "code",
   "execution_count": 4,
   "id": "f6c1dd78",
   "metadata": {},
   "outputs": [],
   "source": [
    "from utils import get_data_from_path"
   ]
  },
  {
   "cell_type": "code",
   "execution_count": 5,
   "id": "24cfcbd6",
   "metadata": {},
   "outputs": [],
   "source": [
    "train_path = '../data/data_split/train'\n",
    "train_data = get_data_from_path(train_path)\n",
    "\n",
    "val_path = '../data/data_split/val'\n",
    "val_data = get_data_from_path(val_path)\n",
    "\n",
    "test_path = '../data/data_split/test'\n",
    "test_data = get_data_from_path(test_path)"
   ]
  },
  {
   "cell_type": "markdown",
   "id": "f845b23d",
   "metadata": {},
   "source": [
    "# 2 - correlations"
   ]
  },
  {
   "cell_type": "code",
   "execution_count": 6,
   "id": "9f1e2b64",
   "metadata": {},
   "outputs": [],
   "source": [
    "import numpy as np\n",
    "import pandas as pd"
   ]
  },
  {
   "cell_type": "code",
   "execution_count": 7,
   "id": "e775334a",
   "metadata": {},
   "outputs": [],
   "source": [
    "index = ['month', 'region']\n",
    "correlation_features = ['brand_3', 'brand_3_market', 'brand_12_market']"
   ]
  },
  {
   "cell_type": "code",
   "execution_count": 8,
   "id": "d023f8ff",
   "metadata": {},
   "outputs": [],
   "source": [
    "train_sales = train_data['sales_train']\n",
    "val_sales = val_data['sales_train']\n",
    "test_sales = test_data['sales_train']"
   ]
  },
  {
   "cell_type": "code",
   "execution_count": 9,
   "id": "8c6cf948",
   "metadata": {
    "scrolled": true
   },
   "outputs": [],
   "source": [
    "pivoted_train_sales = pd.pivot(train_sales, index=index,columns='brand', values='sales').reset_index()\n",
    "pivoted_val_sales = pd.pivot(val_sales, index=index,columns='brand', values='sales').reset_index()\n",
    "pivoted_test_sales = pd.pivot(test_sales, index=index,columns='brand', values='sales').reset_index()"
   ]
  },
  {
   "cell_type": "markdown",
   "id": "1050bfd9",
   "metadata": {},
   "source": [
    "## 2.1 - datasets for validation"
   ]
  },
  {
   "cell_type": "code",
   "execution_count": 149,
   "id": "34c0c720",
   "metadata": {},
   "outputs": [],
   "source": [
    "def get_correlation_dict(A: pd.DataFrame, B: pd.DataFrame, n: int):\n",
    "    d = dict()\n",
    "    for a_group, a_group_data in A.groupby('region'):\n",
    "        tmp = dict()\n",
    "        for b_group, b_group_data in B.groupby('region'):\n",
    "            if a_group == b_group:\n",
    "                continue\n",
    "            corrs = []\n",
    "            for cf in correlation_features:\n",
    "                c = np.corrcoef(a_group_data[cf], b_group_data[cf])[0][1]\n",
    "                corrs.append(c)\n",
    "            tmp[b_group] = np.mean(corrs)\n",
    "            \n",
    "        d[a_group] = sorted(tmp, reverse=True, key = lambda x: tmp[x])[:n]\n",
    "    return d, tmp"
   ]
  },
  {
   "cell_type": "code",
   "execution_count": 151,
   "id": "e129437d",
   "metadata": {},
   "outputs": [],
   "source": [
    "_, tmp = corr_dict_train = get_correlation_dict(A, B, n=N)"
   ]
  },
  {
   "cell_type": "code",
   "execution_count": 152,
   "id": "9ac3e74e",
   "metadata": {},
   "outputs": [
    {
     "data": {
      "text/plain": [
       "{'region_0': 0.6582416535935377,\n",
       " 'region_1': 0.7846026705095182,\n",
       " 'region_10': 0.7277913664052148,\n",
       " 'region_100': 0.7337227033677758,\n",
       " 'region_101': 0.5780563981933647,\n",
       " 'region_102': 0.6280860401164047,\n",
       " 'region_103': 0.5646658046171983,\n",
       " 'region_104': 0.7046965172920299,\n",
       " 'region_105': 0.5357161150783791,\n",
       " 'region_106': 0.6672154216005725,\n",
       " 'region_107': 0.7018781711821173,\n",
       " 'region_108': 0.8002431632189406,\n",
       " 'region_109': -0.018691019500649952,\n",
       " 'region_11': 0.7641073447123574,\n",
       " 'region_110': 0.33863982198988585,\n",
       " 'region_111': 0.7515492692727835,\n",
       " 'region_112': 0.6270180151465773,\n",
       " 'region_113': 0.3221960139985767,\n",
       " 'region_114': 0.7358264286653311,\n",
       " 'region_115': 0.8449410268207934,\n",
       " 'region_116': 0.7741244789079743,\n",
       " 'region_117': 0.5459592641971396,\n",
       " 'region_118': 0.5797097185434944,\n",
       " 'region_119': 0.8400963634528628,\n",
       " 'region_12': 0.7028219003686661,\n",
       " 'region_120': 0.8754372762151915,\n",
       " 'region_121': 0.5710675949704852,\n",
       " 'region_122': 0.6429027916065323,\n",
       " 'region_123': 0.7470217452063395,\n",
       " 'region_124': 0.7206476809201021,\n",
       " 'region_125': 0.6904401335360993,\n",
       " 'region_126': 0.8261079931545162,\n",
       " 'region_127': 0.6798925872125244,\n",
       " 'region_128': 0.828590163866974,\n",
       " 'region_129': 0.7474801908905881,\n",
       " 'region_13': 0.7229645693330027,\n",
       " 'region_130': 0.558938072868243,\n",
       " 'region_131': 0.06311060696866248,\n",
       " 'region_132': 0.7463422808335896,\n",
       " 'region_133': 0.7161399815321947,\n",
       " 'region_134': 0.6010318415739848,\n",
       " 'region_135': 0.6376168001111608,\n",
       " 'region_136': 0.590816913225564,\n",
       " 'region_137': 0.692774173040061,\n",
       " 'region_138': 0.6279580591977977,\n",
       " 'region_139': 0.700001308603842,\n",
       " 'region_14': 0.7631869388337781,\n",
       " 'region_140': 0.8168000280621938,\n",
       " 'region_141': 0.6082535473440159,\n",
       " 'region_142': 0.45481326435889907,\n",
       " 'region_143': 0.7926333441551895,\n",
       " 'region_144': 0.7968107378389231,\n",
       " 'region_145': 0.6858619595985719,\n",
       " 'region_146': 0.6526203330688333,\n",
       " 'region_147': 0.7535417870849349,\n",
       " 'region_148': 0.7427716501339542,\n",
       " 'region_149': 0.5611850608715478,\n",
       " 'region_15': -0.04291306600979055,\n",
       " 'region_150': 0.8795775191172762,\n",
       " 'region_16': 0.6577049639248501,\n",
       " 'region_17': 0.6996049200275253,\n",
       " 'region_18': 0.6704885171689264,\n",
       " 'region_19': 0.5452293327572526,\n",
       " 'region_2': 0.7161124557259849,\n",
       " 'region_20': 0.28336488864508114,\n",
       " 'region_21': 0.6666609917497948,\n",
       " 'region_22': 0.7081311367981851,\n",
       " 'region_23': 0.7928328161473329,\n",
       " 'region_24': 0.8288524054874645,\n",
       " 'region_25': 0.7468801285163341,\n",
       " 'region_26': 0.7323882324635451,\n",
       " 'region_27': 0.7674590640017757,\n",
       " 'region_28': 0.7996600231352128,\n",
       " 'region_29': 0.7101416243532759,\n",
       " 'region_3': 0.7880872375984338,\n",
       " 'region_30': 0.43299751653020824,\n",
       " 'region_31': 0.6549754642331725,\n",
       " 'region_32': 0.794750112289643,\n",
       " 'region_33': 0.8000056539907495,\n",
       " 'region_34': 0.7192603099687392,\n",
       " 'region_35': 0.3675453733111449,\n",
       " 'region_36': 0.7103346721411978,\n",
       " 'region_37': 0.15211571849055464,\n",
       " 'region_38': 0.757657910651815,\n",
       " 'region_39': 0.7252783867798657,\n",
       " 'region_4': 0.6526035019958737,\n",
       " 'region_40': 0.7322734714613172,\n",
       " 'region_41': 0.6539406091865555,\n",
       " 'region_42': 0.6806124322342586,\n",
       " 'region_43': 0.4949485570636749,\n",
       " 'region_44': 0.1396311816733948,\n",
       " 'region_45': 0.557749254523784,\n",
       " 'region_46': 0.6530650282795051,\n",
       " 'region_47': 0.6448357056089716,\n",
       " 'region_48': 0.7049618046971359,\n",
       " 'region_49': 0.8342896649572248,\n",
       " 'region_5': 0.6606179499074183,\n",
       " 'region_50': 0.8063962493631944,\n",
       " 'region_51': 0.849206059645739,\n",
       " 'region_52': 0.5937827255221726,\n",
       " 'region_53': 0.7691362522396256,\n",
       " 'region_54': 0.7745833269638115,\n",
       " 'region_55': 0.8992743364496777,\n",
       " 'region_56': 0.2816274780937038,\n",
       " 'region_57': 0.7344798815833927,\n",
       " 'region_58': 0.799560654093229,\n",
       " 'region_59': 0.08964267212947284,\n",
       " 'region_6': 0.4169860775445066,\n",
       " 'region_60': 0.2942219788157067,\n",
       " 'region_61': 0.30082554548401824,\n",
       " 'region_62': 0.7229602116239171,\n",
       " 'region_63': 0.43943306609209953,\n",
       " 'region_64': 0.8191148960521398,\n",
       " 'region_65': 0.6909555893772321,\n",
       " 'region_66': 0.5936666088089556,\n",
       " 'region_67': 0.7970204819289882,\n",
       " 'region_68': 0.7335373977242465,\n",
       " 'region_69': 0.7849328341354695,\n",
       " 'region_7': 0.4182486439602475,\n",
       " 'region_70': 0.7598598522138742,\n",
       " 'region_71': 0.4494273514354243,\n",
       " 'region_72': 0.6836035705499611,\n",
       " 'region_73': 0.7690164656095796,\n",
       " 'region_74': 0.8642188236129034,\n",
       " 'region_75': 0.6408710598309768,\n",
       " 'region_76': 0.768594802025115,\n",
       " 'region_77': 0.7905617840228406,\n",
       " 'region_78': 0.6817130735889462,\n",
       " 'region_79': 0.7169944817288164,\n",
       " 'region_8': 0.33891197084917873,\n",
       " 'region_80': 0.6568278197241115,\n",
       " 'region_81': 0.5869873752608895,\n",
       " 'region_82': 0.6932415276471072,\n",
       " 'region_83': 0.7836189939216505,\n",
       " 'region_84': 0.606904785590736,\n",
       " 'region_85': 0.7415466081937693,\n",
       " 'region_86': 0.7233301865459576,\n",
       " 'region_87': 0.7423994391723593,\n",
       " 'region_88': 0.8559097159918533,\n",
       " 'region_89': 0.6887089082950567,\n",
       " 'region_9': 0.38800060232207145,\n",
       " 'region_90': 0.1701647166370325,\n",
       " 'region_91': 0.7841395425446082,\n",
       " 'region_92': 0.5274578086644559,\n",
       " 'region_93': 0.7088596860629623,\n",
       " 'region_94': 0.8327917143142924,\n",
       " 'region_95': 0.6653258726693975,\n",
       " 'region_96': 0.868966375255788,\n",
       " 'region_97': 0.8481397128814144,\n",
       " 'region_98': 0.7348928925606795,\n",
       " 'region_99': 0.4549467498636801}"
      ]
     },
     "execution_count": 152,
     "metadata": {},
     "output_type": "execute_result"
    }
   ],
   "source": [
    "tmp"
   ]
  },
  {
   "cell_type": "code",
   "execution_count": 112,
   "id": "34dd8cf2",
   "metadata": {},
   "outputs": [],
   "source": [
    "def percentile(n):\n",
    "    def percentile_(x):\n",
    "        return np.percentile(x, n)\n",
    "    percentile_.__name__ = 'percentile_%s' % n\n",
    "    return percentile_\n",
    "\n",
    "FEATURES = ('mean', 'std', percentile(10), percentile(90), 'min', 'max')\n",
    "\n",
    "def get_features_using_correlations(train, test, corrs):\n",
    "    test_features = []\n",
    "    for region, region_data in test.groupby(['region']):\n",
    "        x = train[train['region'].isin(corrs[region])].groupby('month').agg({'brand_1': FEATURES,\n",
    "                                                                             'brand_2': FEATURES})\n",
    "        for _, c in x.columns:\n",
    "            region_data[f'brand_1_similar_{c}'] = x['brand_1'][c].values\n",
    "            region_data[f'brand_2_similar_{c}'] = x['brand_2'][c].values\n",
    "            \n",
    "        test_features.append(region_data)\n",
    "    return pd.concat(test_features).reset_index(drop=True)"
   ]
  },
  {
   "cell_type": "code",
   "execution_count": 103,
   "id": "1427db23",
   "metadata": {
    "scrolled": true
   },
   "outputs": [],
   "source": [
    "# dataset to train the validation model\n",
    "A = pivoted_train_sales.copy()\n",
    "B = pivoted_train_sales.copy()\n",
    "corr_dict_train = get_correlation_dict(A, B, n=N)\n",
    "validation_train_features = get_features_using_correlations(train=A, test=B, corrs=corr_dict_train)"
   ]
  },
  {
   "cell_type": "code",
   "execution_count": 108,
   "id": "88dc8ca1",
   "metadata": {},
   "outputs": [],
   "source": [
    "# dataset to test the validation model\n",
    "A = pivoted_val_sales.copy()\n",
    "B = pivoted_train_sales.copy()\n",
    "corr_dict_val = get_correlation_dict(A, B, n=N)\n",
    "validation_test_features = get_features_using_correlations(train=B, test=A, corrs=corr_dict_val)"
   ]
  },
  {
   "cell_type": "code",
   "execution_count": 142,
   "id": "090863ff",
   "metadata": {},
   "outputs": [],
   "source": [
    "to_drop = ['brand_1', 'brand_12_market', 'brand_2', 'brand_3', 'brand_3_market']"
   ]
  },
  {
   "cell_type": "code",
   "execution_count": 143,
   "id": "69cd30a9",
   "metadata": {
    "scrolled": true
   },
   "outputs": [],
   "source": [
    "validation_train_features.drop(to_drop, axis=1).to_csv(\"train_correlation_features_for_validation.csv\", index=False)\n",
    "validation_test_features.drop(to_drop, axis=1).to_csv(\"test_correlation_features_for_validation.csv\", index=False)"
   ]
  },
  {
   "cell_type": "markdown",
   "id": "79d6b3e6",
   "metadata": {},
   "source": [
    "## 2.2 - dataset for test"
   ]
  },
  {
   "cell_type": "code",
   "execution_count": 135,
   "id": "8a078c80",
   "metadata": {
    "scrolled": true
   },
   "outputs": [],
   "source": [
    "# dataset to train the test model\n",
    "A = pd.concat([pivoted_train_sales, pivoted_val_sales])\n",
    "B = pd.concat([pivoted_train_sales, pivoted_val_sales])\n",
    "corr_dict_train = get_correlation_dict(A, B, n=N)\n",
    "train_train_features = get_features_using_correlations(train=A, test=B, corrs=corr_dict_train)"
   ]
  },
  {
   "cell_type": "code",
   "execution_count": 136,
   "id": "f1baae78",
   "metadata": {},
   "outputs": [],
   "source": [
    "# dataset to test the test model\n",
    "A = pivoted_test_sales.copy()\n",
    "B = pd.concat([pivoted_train_sales, pivoted_val_sales])\n",
    "corr_dict_test = get_correlation_dict(A, B, n=N)\n",
    "train_test_features = get_features_using_correlations(train=B, test=A, corrs=corr_dict_test)"
   ]
  },
  {
   "cell_type": "code",
   "execution_count": 145,
   "id": "ee268c46",
   "metadata": {},
   "outputs": [],
   "source": [
    "to_drop = ['brand_12_market', 'brand_3', 'brand_3_market']"
   ]
  },
  {
   "cell_type": "code",
   "execution_count": 146,
   "id": "928d34be",
   "metadata": {
    "scrolled": true
   },
   "outputs": [],
   "source": [
    "train_train_features.drop(to_drop, axis=1).to_csv(\"train_correlation_features_for_test.csv\", index=False)\n",
    "train_test_features.drop(to_drop, axis=1).to_csv(\"test_correlation_features_for_test.csv\", index=False)"
   ]
  },
  {
   "cell_type": "code",
   "execution_count": null,
   "id": "881eba1d",
   "metadata": {},
   "outputs": [],
   "source": []
  }
 ],
 "metadata": {
  "kernelspec": {
   "display_name": "Python 3",
   "language": "python",
   "name": "python3"
  },
  "language_info": {
   "codemirror_mode": {
    "name": "ipython",
    "version": 3
   },
   "file_extension": ".py",
   "mimetype": "text/x-python",
   "name": "python",
   "nbconvert_exporter": "python",
   "pygments_lexer": "ipython3",
   "version": "3.7.7"
  }
 },
 "nbformat": 4,
 "nbformat_minor": 5
}
