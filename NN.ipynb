{
 "cells": [
  {
   "cell_type": "code",
   "execution_count": 1,
   "id": "9516f4f9",
   "metadata": {},
   "outputs": [],
   "source": [
    "%config Completer.use_jedi = False"
   ]
  },
  {
   "cell_type": "code",
   "execution_count": 2,
   "id": "03e8db3a",
   "metadata": {
    "scrolled": false
   },
   "outputs": [
    {
     "name": "stdout",
     "output_type": "stream",
     "text": [
      "/Users/cmougan/Desktop/Novartis2021/NN_files\n"
     ]
    }
   ],
   "source": [
    "cd NN_files/"
   ]
  },
  {
   "cell_type": "code",
   "execution_count": 3,
   "id": "6b24bcce",
   "metadata": {},
   "outputs": [],
   "source": [
    "from torch.utils.data import TensorDataset\n",
    "\n",
    "import numpy as np\n",
    "import pandas as pd\n",
    "import matplotlib.pyplot as plt\n",
    "\n",
    "plt.style.use(\"seaborn\")\n",
    "import torch\n",
    "import torch.nn as nn\n",
    "import torch.optim as optim\n",
    "from torch.utils.data import Dataset, DataLoader, random_split\n",
    "from sklearn.metrics import mean_squared_error\n",
    "from gauss_rank_scaler import GaussRankScaler\n",
    "\n",
    "from nnet import ReadDataset, Net\n",
    "import time\n",
    "from loss_functions import interval_score_loss\n",
    "\n",
    "from sklearn.pipeline import Pipeline\n",
    "\n",
    "tic = time.time()\n"
   ]
  },
  {
   "cell_type": "code",
   "execution_count": 4,
   "id": "db6a7256",
   "metadata": {},
   "outputs": [],
   "source": [
    "import random\n",
    "from eda.checker import check_train_test\n",
    "\n",
    "random.seed(0)\n",
    "\n",
    "sales_train = pd.read_csv(\"../data/data_raw/sales_train.csv\")\n",
    "df_full = pd.read_csv(\"../data/split.csv\")\n",
    "df_region = pd.read_csv(\"../data/data_raw/regions.csv\")\n",
    "regions_hcps = pd.read_csv(\"../data/data_raw/regions_hcps.csv\")\n",
    "activity_features = pd.read_csv(\"../data/features/activity_features.csv\")\n",
    "brands_3_12 = pd.read_csv(\"../data/features/brand_3_12_market_features_lagged.csv\")\n",
    "rte_basic = pd.read_csv(\"../data/features/rte_basic_features.csv\").drop(\n",
    "    columns=[\"sales\", \"validation\"]\n",
    ")\n",
    "\n",
    "market_size = pd.read_csv(\"../data/market_size.csv\")\n",
    "\n",
    "# For reproducibility\n",
    "random.seed(0)\n",
    "VAL_SIZE = 38\n",
    "SUBMISSION_NAME = \"empty_extractor_target_encoder\"\n",
    "RETRAIN = True\n",
    "\n",
    "# %% Training weights\n",
    "market_size = (\n",
    "    market_size\n",
    "    .assign(weight=lambda x: 100 / x['sales'])\n",
    "    .rename(columns={\"sales\": 'market_size'})\n",
    ")\n",
    "\n",
    "market_size\n",
    "\n",
    "# %% Add region data\n",
    "df_feats = df_full.merge(df_region, on=\"region\", how=\"left\")\n",
    "df_feats = pd.merge(left=df_feats, right=regions_hcps, how=\"left\", on=\"region\")\n",
    "df_feats = df_feats.merge(\n",
    "    activity_features, on=[\"month\", \"region\", \"brand\"], how=\"left\"\n",
    ")\n",
    "df_feats = df_feats.merge(rte_basic, on=[\"month\", \"region\", \"brand\"], how=\"left\")\n",
    "df_feats = df_feats.merge(brands_3_12, on=[\"month\", \"region\"], how=\"left\")\n",
    "df_feats[\"whichBrand\"] = np.where(df_feats.brand == \"brand_1\", 1, 0)\n",
    "\n",
    "df_feats = df_feats.merge(market_size, on='region', how=\"left\")\n",
    "\n",
    "df_feats['month_brand'] = df_feats.month + '_' + df_feats.brand\n",
    "\n",
    "# drop sum variables\n",
    "cols_to_drop = [\"region\", \"sales\", \"validation\", \"market_size\", \"weight\"]\n",
    "\n",
    "# %% Split train val test\n",
    "X_train = df_feats.query(\"validation == 0\").drop(columns=cols_to_drop)\n",
    "y_train = df_feats.query(\"validation == 0\").sales\n",
    "weights_train = df_feats.query(\"validation == 0\").weight\n",
    "\n",
    "X_val = df_feats.query(\"validation == 1\").drop(columns=cols_to_drop)\n",
    "y_val = df_feats.query(\"validation == 1\").sales\n",
    "\n",
    "X_full = df_feats.query(\"validation.notnull()\", engine=\"python\").drop(\n",
    "    columns=cols_to_drop\n",
    ")\n",
    "y_full = df_feats.query(\"validation.notnull()\", engine=\"python\").sales\n",
    "weights_full = df_feats.query(\"validation.notnull()\", engine=\"python\").weight\n",
    "\n",
    "X_test = df_feats.query(\"validation.isnull()\", engine=\"python\").drop(\n",
    "    columns=cols_to_drop\n",
    ")\n",
    "y_test = df_feats.query(\"validation.isnull()\", engine=\"python\").sales\n",
    "\n"
   ]
  },
  {
   "cell_type": "code",
   "execution_count": 5,
   "id": "095cdd50",
   "metadata": {},
   "outputs": [],
   "source": [
    "from category_encoders import TargetEncoder\n",
    "from sklego.preprocessing import ColumnSelector\n",
    "from sktools import IsEmptyExtractor\n",
    "from sklearn.impute import SimpleImputer\n",
    "from sklearn.linear_model import LinearRegression"
   ]
  },
  {
   "cell_type": "code",
   "execution_count": 6,
   "id": "7f457b37",
   "metadata": {},
   "outputs": [],
   "source": [
    "select_cols = [\n",
    "    'whichBrand',\n",
    "    # 'Internal medicine',\n",
    "    # 'Pediatrician',\n",
    "    # 'null_tiers_Internal medicine',\n",
    "    'count',\n",
    "    'inverse_tier_f2f',\n",
    "    'hcp_distinct_Internal medicine / pneumology',\n",
    "    'sales_brand_3',\n",
    "    'sales_brand_3_market',\n",
    "    'sales_brand_12_market',\n",
    "    'month_brand',\n",
    "    'month',\n",
    "]"
   ]
  },
  {
   "cell_type": "code",
   "execution_count": 7,
   "id": "ae0196fe",
   "metadata": {},
   "outputs": [],
   "source": [
    "model = LinearRegression()\n",
    "pipe = Pipeline(\n",
    "        [   \n",
    "            (\"te\", TargetEncoder(cols=[\"month_brand\", \"month\", \"brand\"])),\n",
    "            (\"selector\", ColumnSelector(columns=select_cols)),\n",
    "            (\"empty\", IsEmptyExtractor()),\n",
    "            (\"imputer\", SimpleImputer(strategy=\"median\")), \n",
    "            (\"lgb\", model)\n",
    "        ]\n",
    "    )\n"
   ]
  },
  {
   "cell_type": "code",
   "execution_count": 8,
   "id": "3ee51301",
   "metadata": {},
   "outputs": [],
   "source": [
    "pipe.fit(X_train,y_train);"
   ]
  },
  {
   "cell_type": "code",
   "execution_count": 9,
   "id": "ac17648d",
   "metadata": {},
   "outputs": [],
   "source": [
    "X_train = pipe[:-1].transform(X_train)\n",
    "X_val = pipe[:-1].transform(X_val)\n"
   ]
  },
  {
   "cell_type": "code",
   "execution_count": 10,
   "id": "acdbc048",
   "metadata": {},
   "outputs": [
    {
     "data": {
      "text/plain": [
       "GaussRankScaler()"
      ]
     },
     "execution_count": 10,
     "metadata": {},
     "output_type": "execute_result"
    }
   ],
   "source": [
    "scaler = GaussRankScaler()\n",
    "scaler.fit(X_train,y_train)"
   ]
  },
  {
   "cell_type": "code",
   "execution_count": 11,
   "id": "7cb7100f",
   "metadata": {},
   "outputs": [
    {
     "data": {
      "text/plain": [
       "array([[  1.,  77.,  27., ...,   1.,   1.,   1.],\n",
       "       [  0.,  15.,  18., ...,   0.,   0.,   1.],\n",
       "       [  1.,  77.,  27., ...,   1.,   1.,   1.],\n",
       "       ...,\n",
       "       [  0.,  53.,  32., ...,   0.,   0.,   1.],\n",
       "       [  1., 312.,  90., ...,   0.,   0.,   0.],\n",
       "       [  0., 317.,  86., ...,   0.,   0.,   0.]])"
      ]
     },
     "execution_count": 11,
     "metadata": {},
     "output_type": "execute_result"
    }
   ],
   "source": [
    "X_train"
   ]
  },
  {
   "cell_type": "code",
   "execution_count": 12,
   "id": "cf64f5e0",
   "metadata": {},
   "outputs": [],
   "source": [
    "X_train = scaler.transform(X_train)\n",
    "X_val = scaler.transform(X_val)"
   ]
  },
  {
   "cell_type": "code",
   "execution_count": 13,
   "id": "81441cfd",
   "metadata": {},
   "outputs": [],
   "source": [
    "# Use gpu if available\n",
    "device = torch.device(\"cuda:0\" if torch.cuda.is_available() else \"cpu\")\n",
    "\n",
    "\n",
    "# Neural Network\n",
    "nnet = Net(X_train.shape[1]).to(device)"
   ]
  },
  {
   "cell_type": "code",
   "execution_count": 14,
   "id": "08dbcb00",
   "metadata": {},
   "outputs": [],
   "source": [
    "X_train = torch.tensor(X_train)\n",
    "y_train = torch.tensor(y_train.values)\n",
    "X_val = torch.tensor(X_val)\n",
    "y_val = torch.tensor(y_val.values)"
   ]
  },
  {
   "cell_type": "code",
   "execution_count": 15,
   "id": "21408767",
   "metadata": {},
   "outputs": [],
   "source": [
    "data_set = TensorDataset(X_train, y_train)\n",
    "train_batches = DataLoader(data_set, batch_size=128, shuffle=False)"
   ]
  },
  {
   "cell_type": "code",
   "execution_count": 16,
   "id": "ff83aa48",
   "metadata": {},
   "outputs": [],
   "source": [
    "# Loss function\n",
    "criterion = nn.MSELoss()\n",
    "\n",
    "# Optimizer\n",
    "optimizer = optim.Adam(\n",
    "    nnet.parameters(), lr=0.0000001, betas=(0.9, 0.999), eps=1e-08, weight_decay=0.0001\n",
    ")\n",
    "\n",
    "\n",
    "# Train the net\n",
    "loss_per_iter = []\n",
    "loss_per_batch = []\n",
    "\n",
    "\n",
    "# Train the net\n",
    "losses = []\n",
    "auc_train = []\n",
    "auc_test = []\n",
    "\n",
    "# hyperparameteres\n",
    "n_epochs = 100\n"
   ]
  },
  {
   "cell_type": "code",
   "execution_count": 17,
   "id": "8afd4253",
   "metadata": {
    "scrolled": true
   },
   "outputs": [
    {
     "name": "stderr",
     "output_type": "stream",
     "text": [
      "<ipython-input-17-a2234029ffd9>:32: UserWarning: To copy construct from a tensor, it is recommended to use sourceTensor.clone().detach() or sourceTensor.clone().detach().requires_grad_(True), rather than torch.tensor(sourceTensor).\n",
      "  pred = nnet(torch.tensor(X_val.float()))\n"
     ]
    },
    {
     "name": "stdout",
     "output_type": "stream",
     "text": [
      "Elapsed time:  26.49464702606201\n",
      "done\n"
     ]
    }
   ],
   "source": [
    "for epoch in range(n_epochs):\n",
    "\n",
    "    i = 0\n",
    "    for inputs, labels in train_batches:\n",
    "        i = i + 1\n",
    "\n",
    "        X = inputs.to(device)\n",
    "        y = labels.to(device)\n",
    "\n",
    "        # Zero the parameter gradients\n",
    "        optimizer.zero_grad()\n",
    "\n",
    "        # Forwarde\n",
    "        outputs = nnet(X.float())\n",
    "\n",
    "        # Compute diff\n",
    "\n",
    "        loss = interval_score_loss(outputs, y.float())\n",
    "\n",
    "        # Compute gradient\n",
    "        loss.backward()\n",
    "\n",
    "        # update weights\n",
    "        optimizer.step()\n",
    "\n",
    "        # Save loss to plot\n",
    "\n",
    "        losses.append(loss.item())\n",
    "\n",
    "\n",
    "    auc_train.append(loss.detach().numpy())\n",
    "    pred = nnet(torch.tensor(X_val.float()))\n",
    "    auctest = interval_score_loss(pred,y_val).detach().numpy()\n",
    "    auc_test.append(auctest)\n",
    "\n",
    "    # Figure\n",
    "    plt.figure()\n",
    "    plt.plot(auc_train, label=\"train\")\n",
    "    plt.plot(auc_test, label=\"test\")\n",
    "    plt.legend()\n",
    "            #plt.ylim([0, 3000])\n",
    "    plt.savefig(\"output/auc_NN.png\")\n",
    "    plt.savefig(\"output/auc_NN.svg\", format=\"svg\")\n",
    "    plt.close()\n",
    "    \n",
    "\n",
    "print(\"Elapsed time: \", np.abs(tic - time.time()))\n",
    "print(\"done\")"
   ]
  },
  {
   "cell_type": "code",
   "execution_count": 18,
   "id": "9dfa398b",
   "metadata": {},
   "outputs": [
    {
     "data": {
      "text/plain": [
       "tensor([[ 2.1955,  0.0367],\n",
       "        [-0.4875, -0.5762],\n",
       "        [ 2.1234, -0.7024],\n",
       "        ...,\n",
       "        [ 0.1152,  0.0806],\n",
       "        [-0.0432, -0.6146],\n",
       "        [ 0.7388,  0.9459]], grad_fn=<SqueezeBackward0>)"
      ]
     },
     "execution_count": 18,
     "metadata": {},
     "output_type": "execute_result"
    }
   ],
   "source": [
    "nnet(X_train.float())"
   ]
  },
  {
   "cell_type": "code",
   "execution_count": null,
   "id": "abdd93f8",
   "metadata": {},
   "outputs": [],
   "source": []
  }
 ],
 "metadata": {
  "kernelspec": {
   "display_name": "novartis",
   "language": "python",
   "name": "novartis"
  },
  "language_info": {
   "codemirror_mode": {
    "name": "ipython",
    "version": 3
   },
   "file_extension": ".py",
   "mimetype": "text/x-python",
   "name": "python",
   "nbconvert_exporter": "python",
   "pygments_lexer": "ipython3",
   "version": "3.8.0"
  }
 },
 "nbformat": 4,
 "nbformat_minor": 5
}
