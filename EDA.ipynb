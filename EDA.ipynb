{
 "cells": [
  {
   "cell_type": "code",
   "execution_count": 3,
   "id": "658bb503",
   "metadata": {},
   "outputs": [],
   "source": [
    "%config Completer.use_jedi = False"
   ]
  },
  {
   "cell_type": "code",
   "execution_count": 2,
   "id": "4f30f558",
   "metadata": {},
   "outputs": [],
   "source": [
    "import pandas as pd"
   ]
  },
  {
   "cell_type": "code",
   "execution_count": 6,
   "id": "9097150f",
   "metadata": {
    "scrolled": true
   },
   "outputs": [
    {
     "name": "stdout",
     "output_type": "stream",
     "text": [
      "activity.csv           regions_hcps.csv       split.csv\r\n",
      "hcps.csv               rtes.csv               submission_sample.csv\r\n",
      "regions.csv            sales_train.csv\r\n"
     ]
    }
   ],
   "source": [
    "ls data/data_raw"
   ]
  },
  {
   "cell_type": "code",
   "execution_count": null,
   "id": "23dc42d9",
   "metadata": {},
   "outputs": [],
   "source": [
    "ls"
   ]
  },
  {
   "cell_type": "code",
   "execution_count": 8,
   "id": "0f06fb33",
   "metadata": {},
   "outputs": [],
   "source": [
    "ac = pd.read_csv('data/data_raw/activity.csv')\n",
    "hcps = pd.read_csv('data/data_raw/hcps.csv')\n",
    "reg_hcps = pd.read_csv('data/data_raw/regions_hcps.csv')\n",
    "sales = pd.read_csv('data/data_raw/sales_train.csv')"
   ]
  },
  {
   "cell_type": "code",
   "execution_count": 13,
   "id": "d1d7536c",
   "metadata": {},
   "outputs": [
    {
     "data": {
      "text/plain": [
       "32137    45\n",
       "59771    44\n",
       "79877    37\n",
       "26277    37\n",
       "55843    36\n",
       "         ..\n",
       "50037     1\n",
       "49478     1\n",
       "14274     1\n",
       "48857     1\n",
       "82349     1\n",
       "Name: hcp, Length: 15819, dtype: int64"
      ]
     },
     "execution_count": 13,
     "metadata": {},
     "output_type": "execute_result"
    }
   ],
   "source": [
    "ac.hcp.value_counts()"
   ]
  },
  {
   "cell_type": "code",
   "execution_count": 15,
   "id": "f935803d",
   "metadata": {},
   "outputs": [
    {
     "data": {
      "text/plain": [
       "General practicioner                          25349\n",
       "Internal medicine / pneumology                14536\n",
       "Internal medicine                             12533\n",
       "Pediatrician                                   1129\n",
       "Internal medicine and general practicioner      391\n",
       "Name: specialty, dtype: int64"
      ]
     },
     "execution_count": 15,
     "metadata": {},
     "output_type": "execute_result"
    }
   ],
   "source": [
    "ac.specialty.value_counts()"
   ]
  },
  {
   "cell_type": "code",
   "execution_count": 26,
   "id": "15b8996a",
   "metadata": {
    "scrolled": true
   },
   "outputs": [
    {
     "data": {
      "text/plain": [
       "specialty\n",
       "General practicioner                          1861\n",
       "Internal medicine                             1227\n",
       "Internal medicine / pneumology                1766\n",
       "Internal medicine and general practicioner      49\n",
       "Pediatrician                                    36\n",
       "Name: hcp, dtype: int64"
      ]
     },
     "execution_count": 26,
     "metadata": {},
     "output_type": "execute_result"
    }
   ],
   "source": [
    "hcps.groupby('specialty').hcp.count()"
   ]
  },
  {
   "cell_type": "code",
   "execution_count": 30,
   "id": "96ee35a5",
   "metadata": {
    "scrolled": true
   },
   "outputs": [
    {
     "data": {
      "text/plain": [
       "region_52     75\n",
       "region_200    75\n",
       "region_150    71\n",
       "region_131    69\n",
       "region_88     60\n",
       "              ..\n",
       "region_100     6\n",
       "region_141     6\n",
       "region_125     6\n",
       "region_104     5\n",
       "region_56      3\n",
       "Name: region, Length: 201, dtype: int64"
      ]
     },
     "execution_count": 30,
     "metadata": {},
     "output_type": "execute_result"
    }
   ],
   "source": [
    "hcps.region.value_counts()"
   ]
  },
  {
   "cell_type": "code",
   "execution_count": 31,
   "id": "edc04544",
   "metadata": {},
   "outputs": [
    {
     "data": {
      "text/html": [
       "<div>\n",
       "<style scoped>\n",
       "    .dataframe tbody tr th:only-of-type {\n",
       "        vertical-align: middle;\n",
       "    }\n",
       "\n",
       "    .dataframe tbody tr th {\n",
       "        vertical-align: top;\n",
       "    }\n",
       "\n",
       "    .dataframe thead th {\n",
       "        text-align: right;\n",
       "    }\n",
       "</style>\n",
       "<table border=\"1\" class=\"dataframe\">\n",
       "  <thead>\n",
       "    <tr style=\"text-align: right;\">\n",
       "      <th></th>\n",
       "      <th>hcp</th>\n",
       "      <th>tier</th>\n",
       "      <th>region</th>\n",
       "      <th>specialty</th>\n",
       "    </tr>\n",
       "  </thead>\n",
       "  <tbody>\n",
       "    <tr>\n",
       "      <th>0</th>\n",
       "      <td>83</td>\n",
       "      <td>2</td>\n",
       "      <td>region_59</td>\n",
       "      <td>Internal medicine</td>\n",
       "    </tr>\n",
       "    <tr>\n",
       "      <th>1</th>\n",
       "      <td>112</td>\n",
       "      <td>1</td>\n",
       "      <td>region_103</td>\n",
       "      <td>Internal medicine</td>\n",
       "    </tr>\n",
       "    <tr>\n",
       "      <th>2</th>\n",
       "      <td>307</td>\n",
       "      <td>2</td>\n",
       "      <td>region_33</td>\n",
       "      <td>Internal medicine / pneumology</td>\n",
       "    </tr>\n",
       "    <tr>\n",
       "      <th>3</th>\n",
       "      <td>387</td>\n",
       "      <td>2</td>\n",
       "      <td>region_97</td>\n",
       "      <td>Internal medicine / pneumology</td>\n",
       "    </tr>\n",
       "    <tr>\n",
       "      <th>4</th>\n",
       "      <td>426</td>\n",
       "      <td>1</td>\n",
       "      <td>region_118</td>\n",
       "      <td>General practicioner</td>\n",
       "    </tr>\n",
       "    <tr>\n",
       "      <th>...</th>\n",
       "      <td>...</td>\n",
       "      <td>...</td>\n",
       "      <td>...</td>\n",
       "      <td>...</td>\n",
       "    </tr>\n",
       "    <tr>\n",
       "      <th>4934</th>\n",
       "      <td>93927</td>\n",
       "      <td>2</td>\n",
       "      <td>region_67</td>\n",
       "      <td>Pediatrician</td>\n",
       "    </tr>\n",
       "    <tr>\n",
       "      <th>4935</th>\n",
       "      <td>93928</td>\n",
       "      <td>2</td>\n",
       "      <td>region_25</td>\n",
       "      <td>Pediatrician</td>\n",
       "    </tr>\n",
       "    <tr>\n",
       "      <th>4936</th>\n",
       "      <td>93929</td>\n",
       "      <td>2</td>\n",
       "      <td>region_126</td>\n",
       "      <td>Pediatrician</td>\n",
       "    </tr>\n",
       "    <tr>\n",
       "      <th>4937</th>\n",
       "      <td>93930</td>\n",
       "      <td>1</td>\n",
       "      <td>region_17</td>\n",
       "      <td>Internal medicine / pneumology</td>\n",
       "    </tr>\n",
       "    <tr>\n",
       "      <th>4938</th>\n",
       "      <td>93931</td>\n",
       "      <td>1</td>\n",
       "      <td>region_147</td>\n",
       "      <td>Internal medicine / pneumology</td>\n",
       "    </tr>\n",
       "  </tbody>\n",
       "</table>\n",
       "<p>4939 rows × 4 columns</p>\n",
       "</div>"
      ],
      "text/plain": [
       "        hcp  tier      region                       specialty\n",
       "0        83     2   region_59               Internal medicine\n",
       "1       112     1  region_103               Internal medicine\n",
       "2       307     2   region_33  Internal medicine / pneumology\n",
       "3       387     2   region_97  Internal medicine / pneumology\n",
       "4       426     1  region_118            General practicioner\n",
       "...     ...   ...         ...                             ...\n",
       "4934  93927     2   region_67                    Pediatrician\n",
       "4935  93928     2   region_25                    Pediatrician\n",
       "4936  93929     2  region_126                    Pediatrician\n",
       "4937  93930     1   region_17  Internal medicine / pneumology\n",
       "4938  93931     1  region_147  Internal medicine / pneumology\n",
       "\n",
       "[4939 rows x 4 columns]"
      ]
     },
     "execution_count": 31,
     "metadata": {},
     "output_type": "execute_result"
    }
   ],
   "source": [
    "hcps"
   ]
  },
  {
   "cell_type": "code",
   "execution_count": 29,
   "id": "11f0be48",
   "metadata": {},
   "outputs": [
    {
     "data": {
      "text/plain": [
       "array(['brand_1', 'brand_2', 'brand_3', 'brand_12_market',\n",
       "       'brand_3_market'], dtype=object)"
      ]
     },
     "execution_count": 29,
     "metadata": {},
     "output_type": "execute_result"
    }
   ],
   "source": [
    "sales.brand.unique()"
   ]
  },
  {
   "cell_type": "code",
   "execution_count": null,
   "id": "be4d4eb2",
   "metadata": {},
   "outputs": [],
   "source": [
    "sales.groupby('month')"
   ]
  }
 ],
 "metadata": {
  "kernelspec": {
   "display_name": "novartis",
   "language": "python",
   "name": "novartis"
  },
  "language_info": {
   "codemirror_mode": {
    "name": "ipython",
    "version": 3
   },
   "file_extension": ".py",
   "mimetype": "text/x-python",
   "name": "python",
   "nbconvert_exporter": "python",
   "pygments_lexer": "ipython3",
   "version": "3.8.0"
  }
 },
 "nbformat": 4,
 "nbformat_minor": 5
}
