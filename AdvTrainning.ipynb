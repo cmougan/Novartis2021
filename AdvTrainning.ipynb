{
 "cells": [
  {
   "cell_type": "markdown",
   "metadata": {
    "heading_collapsed": true
   },
   "source": [
    "#### Libraries"
   ]
  },
  {
   "cell_type": "code",
   "execution_count": 1,
   "metadata": {
    "ExecuteTime": {
     "end_time": "2020-11-27T05:01:17.709674Z",
     "start_time": "2020-11-27T05:01:17.698143Z"
    },
    "hidden": true
   },
   "outputs": [
    {
     "data": {
      "application/javascript": [
       "utils.load_extension('collapsible_headings/main')\n",
       "utils.load_extension('hide_input/main')\n",
       "utils.load_extension('autosavetime/main')\n",
       "utils.load_extension('execute_time/ExecuteTime')\n",
       "utils.load_extension('code_prettify/code_prettify')\n",
       "utils.load_extension('scroll_down/main')\n",
       "utils.load_extension('jupyter-js-widgets/extension')\n"
      ],
      "text/plain": [
       "<IPython.core.display.Javascript object>"
      ]
     },
     "metadata": {},
     "output_type": "display_data"
    }
   ],
   "source": [
    "\n",
    "%%javascript\n",
    "utils.load_extension('collapsible_headings/main')\n",
    "utils.load_extension('hide_input/main')\n",
    "utils.load_extension('autosavetime/main')\n",
    "utils.load_extension('execute_time/ExecuteTime')\n",
    "utils.load_extension('code_prettify/code_prettify')\n",
    "utils.load_extension('scroll_down/main')\n",
    "utils.load_extension('jupyter-js-widgets/extension')"
   ]
  },
  {
   "cell_type": "code",
   "execution_count": 2,
   "metadata": {
    "ExecuteTime": {
     "end_time": "2020-11-27T05:29:17.734724Z",
     "start_time": "2020-11-27T05:29:17.724367Z"
    },
    "hidden": true
   },
   "outputs": [],
   "source": [
    "import pandas as pd\n",
    "import numpy as np\n",
    "import matplotlib.pyplot as plt\n",
    "\n",
    "np.random.seed(0)\n",
    "\n",
    "from sklearn.metrics import roc_auc_score"
   ]
  },
  {
   "cell_type": "code",
   "execution_count": 3,
   "metadata": {
    "ExecuteTime": {
     "end_time": "2020-11-27T05:29:17.955967Z",
     "start_time": "2020-11-27T05:29:17.935769Z"
    },
    "hidden": true
   },
   "outputs": [],
   "source": [
    "def plot_feature_importance(\n",
    "    columnas, model_features, columns_ploted=10, model_name=\"Catboost\"\n",
    "):\n",
    "    \"\"\"\n",
    "    This method is yet non-tested\n",
    "\n",
    "    This function receives a set of columns feeded to a model, and the importance of each of feature.\n",
    "    Returns a graphical visualization\n",
    "\n",
    "    Call it fot catboost pipe example:\n",
    "    plot_feature_importance(pipe_best_estimator[:-1].transform(X_tr).columns,pipe_best_estimator.named_steps['cb'].get_feature_importance(),20)\n",
    "\n",
    "    Call it for lasso pipe example:\n",
    "    plot_feature_importance(pipe_best_estimator[:-1].transform(X_tr).columns,np.array(pipe_best_estimator.named_steps['clf'].coef_.squeeze()),20)\n",
    "    \"\"\"\n",
    "\n",
    "    feature_importance = pd.Series(index=columnas, data=np.abs(model_features))\n",
    "    n_selected_features = (feature_importance > 0).sum()\n",
    "    print(\n",
    "        \"{0:d} features, reduction of {1:2.2f}%\".format(\n",
    "            n_selected_features,\n",
    "            (1 - n_selected_features / len(feature_importance)) * 100,\n",
    "        )\n",
    "    )\n",
    "    plt.figure()\n",
    "    feature_importance.sort_values().tail(columns_ploted).plot(\n",
    "        kind=\"bar\", figsize=(18, 6)\n",
    "    )\n",
    "    plt.title(\"Feature Importance for {}\".format(model_name))\n",
    "    plt.show()"
   ]
  },
  {
   "cell_type": "code",
   "execution_count": 4,
   "metadata": {
    "ExecuteTime": {
     "end_time": "2020-11-27T05:29:19.267158Z",
     "start_time": "2020-11-27T05:29:19.135040Z"
    },
    "hidden": true
   },
   "outputs": [
    {
     "name": "stderr",
     "output_type": "stream",
     "text": [
      "'ls' is not recognized as an internal or external command,\n",
      "operable program or batch file.\n"
     ]
    }
   ],
   "source": [
    "!ls"
   ]
  },
  {
   "cell_type": "markdown",
   "metadata": {},
   "source": [
    "## Joins"
   ]
  },
  {
   "cell_type": "markdown",
   "metadata": {},
   "source": [
    "### Generic"
   ]
  },
  {
   "cell_type": "code",
   "execution_count": 5,
   "metadata": {
    "ExecuteTime": {
     "end_time": "2020-11-26T18:36:21.208868Z",
     "start_time": "2020-11-26T18:36:21.114931Z"
    },
    "scrolled": false
   },
   "outputs": [
    {
     "ename": "FileNotFoundError",
     "evalue": "[Errno 2] No such file or directory: 'gx_num_generics.csv'",
     "output_type": "error",
     "traceback": [
      "\u001b[1;31m---------------------------------------------------------------------------\u001b[0m",
      "\u001b[1;31mFileNotFoundError\u001b[0m                         Traceback (most recent call last)",
      "\u001b[1;32m~\\AppData\\Local\\Temp/ipykernel_1840/3834849122.py\u001b[0m in \u001b[0;36m<module>\u001b[1;34m\u001b[0m\n\u001b[1;32m----> 1\u001b[1;33m \u001b[0mgeneric\u001b[0m \u001b[1;33m=\u001b[0m \u001b[0mpd\u001b[0m\u001b[1;33m.\u001b[0m\u001b[0mread_csv\u001b[0m\u001b[1;33m(\u001b[0m\u001b[1;34m'gx_num_generics.csv'\u001b[0m\u001b[1;33m)\u001b[0m\u001b[1;33m.\u001b[0m\u001b[0mdrop\u001b[0m\u001b[1;33m(\u001b[0m\u001b[0mcolumns\u001b[0m\u001b[1;33m=\u001b[0m\u001b[1;34m'Unnamed: 0'\u001b[0m\u001b[1;33m)\u001b[0m\u001b[1;33m\u001b[0m\u001b[1;33m\u001b[0m\u001b[0m\n\u001b[0m\u001b[0;32m      2\u001b[0m \u001b[0mgeneric\u001b[0m\u001b[1;33m.\u001b[0m\u001b[0mhead\u001b[0m\u001b[1;33m(\u001b[0m\u001b[1;36m1\u001b[0m\u001b[1;33m)\u001b[0m\u001b[1;33m\u001b[0m\u001b[1;33m\u001b[0m\u001b[0m\n",
      "\u001b[1;32m~\\.conda\\envs\\basic\\lib\\site-packages\\pandas\\util\\_decorators.py\u001b[0m in \u001b[0;36mwrapper\u001b[1;34m(*args, **kwargs)\u001b[0m\n\u001b[0;32m    309\u001b[0m                     \u001b[0mstacklevel\u001b[0m\u001b[1;33m=\u001b[0m\u001b[0mstacklevel\u001b[0m\u001b[1;33m,\u001b[0m\u001b[1;33m\u001b[0m\u001b[1;33m\u001b[0m\u001b[0m\n\u001b[0;32m    310\u001b[0m                 )\n\u001b[1;32m--> 311\u001b[1;33m             \u001b[1;32mreturn\u001b[0m \u001b[0mfunc\u001b[0m\u001b[1;33m(\u001b[0m\u001b[1;33m*\u001b[0m\u001b[0margs\u001b[0m\u001b[1;33m,\u001b[0m \u001b[1;33m**\u001b[0m\u001b[0mkwargs\u001b[0m\u001b[1;33m)\u001b[0m\u001b[1;33m\u001b[0m\u001b[1;33m\u001b[0m\u001b[0m\n\u001b[0m\u001b[0;32m    312\u001b[0m \u001b[1;33m\u001b[0m\u001b[0m\n\u001b[0;32m    313\u001b[0m         \u001b[1;32mreturn\u001b[0m \u001b[0mwrapper\u001b[0m\u001b[1;33m\u001b[0m\u001b[1;33m\u001b[0m\u001b[0m\n",
      "\u001b[1;32m~\\.conda\\envs\\basic\\lib\\site-packages\\pandas\\io\\parsers\\readers.py\u001b[0m in \u001b[0;36mread_csv\u001b[1;34m(filepath_or_buffer, sep, delimiter, header, names, index_col, usecols, squeeze, prefix, mangle_dupe_cols, dtype, engine, converters, true_values, false_values, skipinitialspace, skiprows, skipfooter, nrows, na_values, keep_default_na, na_filter, verbose, skip_blank_lines, parse_dates, infer_datetime_format, keep_date_col, date_parser, dayfirst, cache_dates, iterator, chunksize, compression, thousands, decimal, lineterminator, quotechar, quoting, doublequote, escapechar, comment, encoding, encoding_errors, dialect, error_bad_lines, warn_bad_lines, on_bad_lines, delim_whitespace, low_memory, memory_map, float_precision, storage_options)\u001b[0m\n\u001b[0;32m    584\u001b[0m     \u001b[0mkwds\u001b[0m\u001b[1;33m.\u001b[0m\u001b[0mupdate\u001b[0m\u001b[1;33m(\u001b[0m\u001b[0mkwds_defaults\u001b[0m\u001b[1;33m)\u001b[0m\u001b[1;33m\u001b[0m\u001b[1;33m\u001b[0m\u001b[0m\n\u001b[0;32m    585\u001b[0m \u001b[1;33m\u001b[0m\u001b[0m\n\u001b[1;32m--> 586\u001b[1;33m     \u001b[1;32mreturn\u001b[0m \u001b[0m_read\u001b[0m\u001b[1;33m(\u001b[0m\u001b[0mfilepath_or_buffer\u001b[0m\u001b[1;33m,\u001b[0m \u001b[0mkwds\u001b[0m\u001b[1;33m)\u001b[0m\u001b[1;33m\u001b[0m\u001b[1;33m\u001b[0m\u001b[0m\n\u001b[0m\u001b[0;32m    587\u001b[0m \u001b[1;33m\u001b[0m\u001b[0m\n\u001b[0;32m    588\u001b[0m \u001b[1;33m\u001b[0m\u001b[0m\n",
      "\u001b[1;32m~\\.conda\\envs\\basic\\lib\\site-packages\\pandas\\io\\parsers\\readers.py\u001b[0m in \u001b[0;36m_read\u001b[1;34m(filepath_or_buffer, kwds)\u001b[0m\n\u001b[0;32m    480\u001b[0m \u001b[1;33m\u001b[0m\u001b[0m\n\u001b[0;32m    481\u001b[0m     \u001b[1;31m# Create the parser.\u001b[0m\u001b[1;33m\u001b[0m\u001b[1;33m\u001b[0m\u001b[1;33m\u001b[0m\u001b[0m\n\u001b[1;32m--> 482\u001b[1;33m     \u001b[0mparser\u001b[0m \u001b[1;33m=\u001b[0m \u001b[0mTextFileReader\u001b[0m\u001b[1;33m(\u001b[0m\u001b[0mfilepath_or_buffer\u001b[0m\u001b[1;33m,\u001b[0m \u001b[1;33m**\u001b[0m\u001b[0mkwds\u001b[0m\u001b[1;33m)\u001b[0m\u001b[1;33m\u001b[0m\u001b[1;33m\u001b[0m\u001b[0m\n\u001b[0m\u001b[0;32m    483\u001b[0m \u001b[1;33m\u001b[0m\u001b[0m\n\u001b[0;32m    484\u001b[0m     \u001b[1;32mif\u001b[0m \u001b[0mchunksize\u001b[0m \u001b[1;32mor\u001b[0m \u001b[0miterator\u001b[0m\u001b[1;33m:\u001b[0m\u001b[1;33m\u001b[0m\u001b[1;33m\u001b[0m\u001b[0m\n",
      "\u001b[1;32m~\\.conda\\envs\\basic\\lib\\site-packages\\pandas\\io\\parsers\\readers.py\u001b[0m in \u001b[0;36m__init__\u001b[1;34m(self, f, engine, **kwds)\u001b[0m\n\u001b[0;32m    809\u001b[0m             \u001b[0mself\u001b[0m\u001b[1;33m.\u001b[0m\u001b[0moptions\u001b[0m\u001b[1;33m[\u001b[0m\u001b[1;34m\"has_index_names\"\u001b[0m\u001b[1;33m]\u001b[0m \u001b[1;33m=\u001b[0m \u001b[0mkwds\u001b[0m\u001b[1;33m[\u001b[0m\u001b[1;34m\"has_index_names\"\u001b[0m\u001b[1;33m]\u001b[0m\u001b[1;33m\u001b[0m\u001b[1;33m\u001b[0m\u001b[0m\n\u001b[0;32m    810\u001b[0m \u001b[1;33m\u001b[0m\u001b[0m\n\u001b[1;32m--> 811\u001b[1;33m         \u001b[0mself\u001b[0m\u001b[1;33m.\u001b[0m\u001b[0m_engine\u001b[0m \u001b[1;33m=\u001b[0m \u001b[0mself\u001b[0m\u001b[1;33m.\u001b[0m\u001b[0m_make_engine\u001b[0m\u001b[1;33m(\u001b[0m\u001b[0mself\u001b[0m\u001b[1;33m.\u001b[0m\u001b[0mengine\u001b[0m\u001b[1;33m)\u001b[0m\u001b[1;33m\u001b[0m\u001b[1;33m\u001b[0m\u001b[0m\n\u001b[0m\u001b[0;32m    812\u001b[0m \u001b[1;33m\u001b[0m\u001b[0m\n\u001b[0;32m    813\u001b[0m     \u001b[1;32mdef\u001b[0m \u001b[0mclose\u001b[0m\u001b[1;33m(\u001b[0m\u001b[0mself\u001b[0m\u001b[1;33m)\u001b[0m\u001b[1;33m:\u001b[0m\u001b[1;33m\u001b[0m\u001b[1;33m\u001b[0m\u001b[0m\n",
      "\u001b[1;32m~\\.conda\\envs\\basic\\lib\\site-packages\\pandas\\io\\parsers\\readers.py\u001b[0m in \u001b[0;36m_make_engine\u001b[1;34m(self, engine)\u001b[0m\n\u001b[0;32m   1038\u001b[0m             )\n\u001b[0;32m   1039\u001b[0m         \u001b[1;31m# error: Too many arguments for \"ParserBase\"\u001b[0m\u001b[1;33m\u001b[0m\u001b[1;33m\u001b[0m\u001b[1;33m\u001b[0m\u001b[0m\n\u001b[1;32m-> 1040\u001b[1;33m         \u001b[1;32mreturn\u001b[0m \u001b[0mmapping\u001b[0m\u001b[1;33m[\u001b[0m\u001b[0mengine\u001b[0m\u001b[1;33m]\u001b[0m\u001b[1;33m(\u001b[0m\u001b[0mself\u001b[0m\u001b[1;33m.\u001b[0m\u001b[0mf\u001b[0m\u001b[1;33m,\u001b[0m \u001b[1;33m**\u001b[0m\u001b[0mself\u001b[0m\u001b[1;33m.\u001b[0m\u001b[0moptions\u001b[0m\u001b[1;33m)\u001b[0m  \u001b[1;31m# type: ignore[call-arg]\u001b[0m\u001b[1;33m\u001b[0m\u001b[1;33m\u001b[0m\u001b[0m\n\u001b[0m\u001b[0;32m   1041\u001b[0m \u001b[1;33m\u001b[0m\u001b[0m\n\u001b[0;32m   1042\u001b[0m     \u001b[1;32mdef\u001b[0m \u001b[0m_failover_to_python\u001b[0m\u001b[1;33m(\u001b[0m\u001b[0mself\u001b[0m\u001b[1;33m)\u001b[0m\u001b[1;33m:\u001b[0m\u001b[1;33m\u001b[0m\u001b[1;33m\u001b[0m\u001b[0m\n",
      "\u001b[1;32m~\\.conda\\envs\\basic\\lib\\site-packages\\pandas\\io\\parsers\\c_parser_wrapper.py\u001b[0m in \u001b[0;36m__init__\u001b[1;34m(self, src, **kwds)\u001b[0m\n\u001b[0;32m     49\u001b[0m \u001b[1;33m\u001b[0m\u001b[0m\n\u001b[0;32m     50\u001b[0m         \u001b[1;31m# open handles\u001b[0m\u001b[1;33m\u001b[0m\u001b[1;33m\u001b[0m\u001b[1;33m\u001b[0m\u001b[0m\n\u001b[1;32m---> 51\u001b[1;33m         \u001b[0mself\u001b[0m\u001b[1;33m.\u001b[0m\u001b[0m_open_handles\u001b[0m\u001b[1;33m(\u001b[0m\u001b[0msrc\u001b[0m\u001b[1;33m,\u001b[0m \u001b[0mkwds\u001b[0m\u001b[1;33m)\u001b[0m\u001b[1;33m\u001b[0m\u001b[1;33m\u001b[0m\u001b[0m\n\u001b[0m\u001b[0;32m     52\u001b[0m         \u001b[1;32massert\u001b[0m \u001b[0mself\u001b[0m\u001b[1;33m.\u001b[0m\u001b[0mhandles\u001b[0m \u001b[1;32mis\u001b[0m \u001b[1;32mnot\u001b[0m \u001b[1;32mNone\u001b[0m\u001b[1;33m\u001b[0m\u001b[1;33m\u001b[0m\u001b[0m\n\u001b[0;32m     53\u001b[0m \u001b[1;33m\u001b[0m\u001b[0m\n",
      "\u001b[1;32m~\\.conda\\envs\\basic\\lib\\site-packages\\pandas\\io\\parsers\\base_parser.py\u001b[0m in \u001b[0;36m_open_handles\u001b[1;34m(self, src, kwds)\u001b[0m\n\u001b[0;32m    227\u001b[0m             \u001b[0mmemory_map\u001b[0m\u001b[1;33m=\u001b[0m\u001b[0mkwds\u001b[0m\u001b[1;33m.\u001b[0m\u001b[0mget\u001b[0m\u001b[1;33m(\u001b[0m\u001b[1;34m\"memory_map\"\u001b[0m\u001b[1;33m,\u001b[0m \u001b[1;32mFalse\u001b[0m\u001b[1;33m)\u001b[0m\u001b[1;33m,\u001b[0m\u001b[1;33m\u001b[0m\u001b[1;33m\u001b[0m\u001b[0m\n\u001b[0;32m    228\u001b[0m             \u001b[0mstorage_options\u001b[0m\u001b[1;33m=\u001b[0m\u001b[0mkwds\u001b[0m\u001b[1;33m.\u001b[0m\u001b[0mget\u001b[0m\u001b[1;33m(\u001b[0m\u001b[1;34m\"storage_options\"\u001b[0m\u001b[1;33m,\u001b[0m \u001b[1;32mNone\u001b[0m\u001b[1;33m)\u001b[0m\u001b[1;33m,\u001b[0m\u001b[1;33m\u001b[0m\u001b[1;33m\u001b[0m\u001b[0m\n\u001b[1;32m--> 229\u001b[1;33m             \u001b[0merrors\u001b[0m\u001b[1;33m=\u001b[0m\u001b[0mkwds\u001b[0m\u001b[1;33m.\u001b[0m\u001b[0mget\u001b[0m\u001b[1;33m(\u001b[0m\u001b[1;34m\"encoding_errors\"\u001b[0m\u001b[1;33m,\u001b[0m \u001b[1;34m\"strict\"\u001b[0m\u001b[1;33m)\u001b[0m\u001b[1;33m,\u001b[0m\u001b[1;33m\u001b[0m\u001b[1;33m\u001b[0m\u001b[0m\n\u001b[0m\u001b[0;32m    230\u001b[0m         )\n\u001b[0;32m    231\u001b[0m \u001b[1;33m\u001b[0m\u001b[0m\n",
      "\u001b[1;32m~\\.conda\\envs\\basic\\lib\\site-packages\\pandas\\io\\common.py\u001b[0m in \u001b[0;36mget_handle\u001b[1;34m(path_or_buf, mode, encoding, compression, memory_map, is_text, errors, storage_options)\u001b[0m\n\u001b[0;32m    705\u001b[0m                 \u001b[0mencoding\u001b[0m\u001b[1;33m=\u001b[0m\u001b[0mioargs\u001b[0m\u001b[1;33m.\u001b[0m\u001b[0mencoding\u001b[0m\u001b[1;33m,\u001b[0m\u001b[1;33m\u001b[0m\u001b[1;33m\u001b[0m\u001b[0m\n\u001b[0;32m    706\u001b[0m                 \u001b[0merrors\u001b[0m\u001b[1;33m=\u001b[0m\u001b[0merrors\u001b[0m\u001b[1;33m,\u001b[0m\u001b[1;33m\u001b[0m\u001b[1;33m\u001b[0m\u001b[0m\n\u001b[1;32m--> 707\u001b[1;33m                 \u001b[0mnewline\u001b[0m\u001b[1;33m=\u001b[0m\u001b[1;34m\"\"\u001b[0m\u001b[1;33m,\u001b[0m\u001b[1;33m\u001b[0m\u001b[1;33m\u001b[0m\u001b[0m\n\u001b[0m\u001b[0;32m    708\u001b[0m             )\n\u001b[0;32m    709\u001b[0m         \u001b[1;32melse\u001b[0m\u001b[1;33m:\u001b[0m\u001b[1;33m\u001b[0m\u001b[1;33m\u001b[0m\u001b[0m\n",
      "\u001b[1;31mFileNotFoundError\u001b[0m: [Errno 2] No such file or directory: 'gx_num_generics.csv'"
     ]
    }
   ],
   "source": [
    "generic = pd.read_csv(\"gx_num_generics.csv\").drop(columns=\"Unnamed: 0\")\n",
    "generic.head(1)"
   ]
  },
  {
   "cell_type": "markdown",
   "metadata": {},
   "source": [
    "### Package"
   ]
  },
  {
   "cell_type": "code",
   "execution_count": null,
   "metadata": {
    "ExecuteTime": {
     "end_time": "2020-11-26T18:22:31.108924Z",
     "start_time": "2020-11-26T18:22:31.092987Z"
    }
   },
   "outputs": [],
   "source": [
    "package = pd.read_csv(\"gx_package.csv\").drop(columns=\"Unnamed: 0\")\n",
    "package.head()"
   ]
  },
  {
   "cell_type": "code",
   "execution_count": null,
   "metadata": {
    "ExecuteTime": {
     "end_time": "2020-11-26T18:22:31.152913Z",
     "start_time": "2020-11-26T18:22:31.111238Z"
    }
   },
   "outputs": [],
   "source": [
    "package.presentation.unique()"
   ]
  },
  {
   "cell_type": "code",
   "execution_count": null,
   "metadata": {
    "ExecuteTime": {
     "end_time": "2020-11-26T18:22:31.184981Z",
     "start_time": "2020-11-26T18:22:31.174093Z"
    }
   },
   "outputs": [],
   "source": [
    "package.country.nunique()"
   ]
  },
  {
   "cell_type": "code",
   "execution_count": null,
   "metadata": {
    "ExecuteTime": {
     "end_time": "2020-11-26T18:22:31.199044Z",
     "start_time": "2020-11-26T18:22:31.190484Z"
    }
   },
   "outputs": [],
   "source": [
    "package.brand.nunique()"
   ]
  },
  {
   "cell_type": "code",
   "execution_count": null,
   "metadata": {
    "ExecuteTime": {
     "end_time": "2020-11-26T18:22:31.210328Z",
     "start_time": "2020-11-26T18:22:31.201599Z"
    }
   },
   "outputs": [],
   "source": [
    "package.brand.value_counts()"
   ]
  },
  {
   "cell_type": "markdown",
   "metadata": {},
   "source": [
    "### Panel"
   ]
  },
  {
   "cell_type": "code",
   "execution_count": null,
   "metadata": {
    "ExecuteTime": {
     "end_time": "2020-11-26T18:22:31.253428Z",
     "start_time": "2020-11-26T18:22:31.221861Z"
    }
   },
   "outputs": [],
   "source": [
    "panel = pd.read_csv(\"gx_panel.csv\").drop(columns=\"Unnamed: 0\")\n",
    "\n",
    "panel.head(2)"
   ]
  },
  {
   "cell_type": "code",
   "execution_count": null,
   "metadata": {
    "ExecuteTime": {
     "end_time": "2020-11-26T18:22:31.283285Z",
     "start_time": "2020-11-26T18:22:31.256424Z"
    }
   },
   "outputs": [],
   "source": [
    "panel.brand.nunique()"
   ]
  },
  {
   "cell_type": "code",
   "execution_count": null,
   "metadata": {
    "ExecuteTime": {
     "end_time": "2020-11-26T18:22:31.306328Z",
     "start_time": "2020-11-26T18:22:31.292551Z"
    }
   },
   "outputs": [],
   "source": [
    "panel.channel.unique()"
   ]
  },
  {
   "cell_type": "markdown",
   "metadata": {
    "heading_collapsed": true
   },
   "source": [
    "### Therapeutic"
   ]
  },
  {
   "cell_type": "code",
   "execution_count": null,
   "metadata": {
    "ExecuteTime": {
     "end_time": "2020-11-26T18:22:31.336648Z",
     "start_time": "2020-11-26T18:22:31.312780Z"
    },
    "hidden": true
   },
   "outputs": [],
   "source": [
    "therapeutic_area = pd.read_csv(\"gx_therapeutic_area.csv\").drop(columns=\"Unnamed: 0\")\n",
    "therapeutic_area.head(1)"
   ]
  },
  {
   "cell_type": "code",
   "execution_count": null,
   "metadata": {
    "ExecuteTime": {
     "end_time": "2020-11-26T18:22:31.367717Z",
     "start_time": "2020-11-26T18:22:31.352198Z"
    },
    "hidden": true,
    "scrolled": true
   },
   "outputs": [],
   "source": [
    "therapeutic_area.therapeutic_area.nunique()"
   ]
  },
  {
   "cell_type": "markdown",
   "metadata": {
    "heading_collapsed": true
   },
   "source": [
    "### Volume"
   ]
  },
  {
   "cell_type": "code",
   "execution_count": null,
   "metadata": {
    "ExecuteTime": {
     "end_time": "2020-11-26T18:22:31.461026Z",
     "start_time": "2020-11-26T18:22:31.370011Z"
    },
    "hidden": true,
    "scrolled": true
   },
   "outputs": [],
   "source": [
    "volume = pd.read_csv(\"gx_volume.csv\").drop(columns=\"Unnamed: 0\")\n",
    "volume.head(1)"
   ]
  },
  {
   "cell_type": "code",
   "execution_count": null,
   "metadata": {
    "ExecuteTime": {
     "end_time": "2020-11-26T18:22:31.496855Z",
     "start_time": "2020-11-26T18:22:31.464866Z"
    },
    "hidden": true
   },
   "outputs": [],
   "source": [
    "volume[(volume.country == \"country_1\") & (volume.brand == \"brand_3\")]"
   ]
  },
  {
   "cell_type": "markdown",
   "metadata": {
    "heading_collapsed": true
   },
   "source": [
    "### Subm"
   ]
  },
  {
   "cell_type": "code",
   "execution_count": null,
   "metadata": {
    "ExecuteTime": {
     "end_time": "2020-11-26T18:22:31.522560Z",
     "start_time": "2020-11-26T18:22:31.499679Z"
    },
    "hidden": true,
    "scrolled": false
   },
   "outputs": [],
   "source": [
    "subm = pd.read_csv(\"submission_template.csv\")\n",
    "subm"
   ]
  },
  {
   "cell_type": "code",
   "execution_count": null,
   "metadata": {
    "ExecuteTime": {
     "end_time": "2020-11-26T18:22:31.605228Z",
     "start_time": "2020-11-26T18:22:31.534189Z"
    },
    "hidden": true
   },
   "outputs": [],
   "source": [
    "pd.merge(\n",
    "    volume,\n",
    "    subm,\n",
    "    left_on=[\"country\", \"brand\", \"month_num\"],\n",
    "    right_on=[\"country\", \"brand\", \"month_num\"],\n",
    ")"
   ]
  },
  {
   "cell_type": "code",
   "execution_count": null,
   "metadata": {
    "ExecuteTime": {
     "end_time": "2020-11-26T18:22:31.614916Z",
     "start_time": "2020-11-26T18:22:31.608754Z"
    },
    "hidden": true
   },
   "outputs": [],
   "source": [
    "594 / 4584"
   ]
  },
  {
   "cell_type": "markdown",
   "metadata": {
    "heading_collapsed": true
   },
   "source": [
    "## Full"
   ]
  },
  {
   "cell_type": "code",
   "execution_count": null,
   "metadata": {
    "ExecuteTime": {
     "end_time": "2020-11-26T18:37:58.090981Z",
     "start_time": "2020-11-26T18:37:58.038937Z"
    },
    "hidden": true
   },
   "outputs": [],
   "source": [
    "volume"
   ]
  },
  {
   "cell_type": "code",
   "execution_count": null,
   "metadata": {
    "ExecuteTime": {
     "end_time": "2020-11-26T18:38:20.873418Z",
     "start_time": "2020-11-26T18:38:20.830483Z"
    },
    "hidden": true
   },
   "outputs": [],
   "source": [
    "generic"
   ]
  },
  {
   "cell_type": "code",
   "execution_count": null,
   "metadata": {
    "ExecuteTime": {
     "end_time": "2020-11-26T18:38:59.142597Z",
     "start_time": "2020-11-26T18:38:59.100926Z"
    },
    "hidden": true
   },
   "outputs": [],
   "source": [
    "a = pd.merge(\n",
    "    volume,\n",
    "    generic,\n",
    "    how=\"left\",\n",
    "    left_on=[\"country\", \"brand\"],\n",
    "    right_on=[\"country\", \"brand\"],\n",
    ")"
   ]
  },
  {
   "cell_type": "code",
   "execution_count": null,
   "metadata": {
    "ExecuteTime": {
     "end_time": "2020-11-26T18:39:57.869991Z",
     "start_time": "2020-11-26T18:39:57.753097Z"
    },
    "hidden": true
   },
   "outputs": [],
   "source": [
    "full = pd.merge(\n",
    "    volume,\n",
    "    generic,\n",
    "    how=\"left\",\n",
    "    left_on=[\"country\", \"brand\"],\n",
    "    right_on=[\"country\", \"brand\"],\n",
    ")\n",
    "\n",
    "\n",
    "# package\n",
    "full = pd.merge(\n",
    "    full,\n",
    "    package,\n",
    "    how=\"left\",\n",
    "    left_on=[\"country\", \"brand\"],\n",
    "    right_on=[\"country\", \"brand\"],\n",
    ")\n",
    "full"
   ]
  },
  {
   "cell_type": "code",
   "execution_count": null,
   "metadata": {
    "ExecuteTime": {
     "end_time": "2020-11-26T18:45:00.550152Z",
     "start_time": "2020-11-26T18:45:00.525802Z"
    },
    "hidden": true
   },
   "outputs": [],
   "source": [
    "panel"
   ]
  },
  {
   "cell_type": "code",
   "execution_count": null,
   "metadata": {
    "ExecuteTime": {
     "end_time": "2020-11-26T18:47:10.967335Z",
     "start_time": "2020-11-26T18:47:10.907325Z"
    },
    "hidden": true,
    "scrolled": false
   },
   "outputs": [],
   "source": [
    "panel.groupby([\"country\", \"brand\", \"channel\"], as_index=False).agg(\n",
    "    [\"min\", \"max\", \"sum\", \"mean\", \"median\"]\n",
    ")"
   ]
  },
  {
   "cell_type": "code",
   "execution_count": null,
   "metadata": {
    "ExecuteTime": {
     "end_time": "2020-11-26T18:39:18.032848Z",
     "start_time": "2020-11-26T18:39:17.989366Z"
    },
    "hidden": true,
    "scrolled": true
   },
   "outputs": [],
   "source": [
    "full"
   ]
  },
  {
   "cell_type": "code",
   "execution_count": null,
   "metadata": {
    "ExecuteTime": {
     "end_time": "2020-11-26T18:41:11.526929Z",
     "start_time": "2020-11-26T18:41:11.397594Z"
    },
    "hidden": true
   },
   "outputs": [],
   "source": [
    "# generic\n",
    "full = pd.merge(\n",
    "    volume,\n",
    "    generic,\n",
    "    how=\"left\",\n",
    "    left_on=[\"country\", \"brand\"],\n",
    "    right_on=[\"country\", \"brand\"],\n",
    ")\n",
    "\n",
    "\n",
    "# package\n",
    "full = pd.merge(\n",
    "    full,\n",
    "    package,\n",
    "    how=\"left\",\n",
    "    left_on=[\"country\", \"brand\"],\n",
    "    right_on=[\"country\", \"brand\"],\n",
    ")\n",
    "\n",
    "# panel\n",
    "full = pd.merge(\n",
    "    full, panel, how=\"left\", left_on=[\"country\", \"brand\"], right_on=[\"country\", \"brand\"]\n",
    ")\n",
    "full.shape"
   ]
  },
  {
   "cell_type": "code",
   "execution_count": null,
   "metadata": {
    "hidden": true
   },
   "outputs": [],
   "source": []
  },
  {
   "cell_type": "code",
   "execution_count": null,
   "metadata": {
    "ExecuteTime": {
     "end_time": "2020-11-26T18:22:31.774616Z",
     "start_time": "2020-11-26T18:22:31.617446Z"
    },
    "hidden": true,
    "scrolled": false
   },
   "outputs": [],
   "source": [
    "# generic\n",
    "full = pd.merge(\n",
    "    volume,\n",
    "    generic,\n",
    "    how=\"left\",\n",
    "    left_on=[\"country\", \"brand\"],\n",
    "    right_on=[\"country\", \"brand\"],\n",
    ")\n",
    "\n",
    "\n",
    "# package\n",
    "full = pd.merge(\n",
    "    full,\n",
    "    package,\n",
    "    how=\"left\",\n",
    "    left_on=[\"country\", \"brand\"],\n",
    "    right_on=[\"country\", \"brand\"],\n",
    ")\n",
    "\n",
    "# panel\n",
    "full = pd.merge(\n",
    "    full, panel, how=\"left\", left_on=[\"country\", \"brand\"], right_on=[\"country\", \"brand\"]\n",
    ")\n",
    "\n",
    "# therapeutic\n",
    "full = pd.merge(\n",
    "    full, therapeutic_area, how=\"left\", left_on=[\"brand\"], right_on=[\"brand\"]\n",
    ")\n",
    "full.head(1)"
   ]
  },
  {
   "cell_type": "code",
   "execution_count": null,
   "metadata": {
    "ExecuteTime": {
     "end_time": "2020-11-26T18:22:31.786039Z",
     "start_time": "2020-11-26T18:22:31.779042Z"
    },
    "hidden": true
   },
   "outputs": [],
   "source": [
    "full.shape"
   ]
  },
  {
   "cell_type": "markdown",
   "metadata": {},
   "source": [
    "## Adversarial Trainning"
   ]
  },
  {
   "cell_type": "code",
   "execution_count": null,
   "metadata": {
    "ExecuteTime": {
     "end_time": "2020-11-26T18:22:31.798698Z",
     "start_time": "2020-11-26T18:22:31.793450Z"
    }
   },
   "outputs": [],
   "source": [
    "from catboost import CatBoostClassifier\n",
    "from sklearn.model_selection import train_test_split\n",
    "from category_encoders.m_estimate import MEstimateEncoder"
   ]
  },
  {
   "cell_type": "code",
   "execution_count": null,
   "metadata": {
    "ExecuteTime": {
     "end_time": "2020-11-26T19:03:46.075751Z",
     "start_time": "2020-11-26T19:03:45.979248Z"
    }
   },
   "outputs": [],
   "source": [
    "adv = pd.read_csv(\"data/gx_merged.csv\")\n",
    "adv = adv.drop(\n",
    "    columns=[\n",
    "        \"month_name\",\n",
    "        \"volume\",\n",
    "        #'brand','B','C','D','num_generics'\n",
    "    ]\n",
    ")"
   ]
  },
  {
   "cell_type": "code",
   "execution_count": null,
   "metadata": {
    "ExecuteTime": {
     "end_time": "2020-11-26T19:03:46.216911Z",
     "start_time": "2020-11-26T19:03:46.210352Z"
    }
   },
   "outputs": [],
   "source": [
    "adv[\"random\"] = np.random.random(adv.shape[0])"
   ]
  },
  {
   "cell_type": "code",
   "execution_count": null,
   "metadata": {
    "ExecuteTime": {
     "end_time": "2020-11-26T19:03:46.402098Z",
     "start_time": "2020-11-26T19:03:46.385182Z"
    }
   },
   "outputs": [],
   "source": [
    "me = MEstimateEncoder()"
   ]
  },
  {
   "cell_type": "code",
   "execution_count": null,
   "metadata": {
    "ExecuteTime": {
     "end_time": "2020-11-26T19:03:46.564572Z",
     "start_time": "2020-11-26T19:03:46.543766Z"
    }
   },
   "outputs": [],
   "source": [
    "X = adv.drop(columns=[\"test\"])\n",
    "y = adv.test"
   ]
  },
  {
   "cell_type": "code",
   "execution_count": null,
   "metadata": {
    "ExecuteTime": {
     "end_time": "2020-11-26T19:03:46.978811Z",
     "start_time": "2020-11-26T19:03:46.700147Z"
    }
   },
   "outputs": [],
   "source": [
    "X = me.fit_transform(X, y)"
   ]
  },
  {
   "cell_type": "code",
   "execution_count": null,
   "metadata": {
    "ExecuteTime": {
     "end_time": "2020-11-26T19:03:47.032605Z",
     "start_time": "2020-11-26T19:03:47.004898Z"
    }
   },
   "outputs": [],
   "source": [
    "X_train, X_test, y_train, y_test = train_test_split(\n",
    "    X, y, test_size=0.33, random_state=42\n",
    ")"
   ]
  },
  {
   "cell_type": "code",
   "execution_count": null,
   "metadata": {
    "ExecuteTime": {
     "end_time": "2020-11-26T19:03:48.238973Z",
     "start_time": "2020-11-26T19:03:47.042880Z"
    }
   },
   "outputs": [],
   "source": [
    "cb = CatBoostClassifier(iterations=100, verbose=0)\n",
    "cb.fit(X_train, y_train)"
   ]
  },
  {
   "cell_type": "code",
   "execution_count": null,
   "metadata": {
    "ExecuteTime": {
     "end_time": "2020-11-26T19:03:48.785609Z",
     "start_time": "2020-11-26T19:03:48.246541Z"
    },
    "scrolled": false
   },
   "outputs": [],
   "source": [
    "plot_feature_importance(X.columns, cb.get_feature_importance())"
   ]
  },
  {
   "cell_type": "code",
   "execution_count": null,
   "metadata": {
    "ExecuteTime": {
     "end_time": "2020-11-26T19:03:48.841861Z",
     "start_time": "2020-11-26T19:03:48.796257Z"
    }
   },
   "outputs": [],
   "source": [
    "roc_auc_score(y_test, cb.predict(X_test))"
   ]
  },
  {
   "cell_type": "code",
   "execution_count": null,
   "metadata": {
    "ExecuteTime": {
     "end_time": "2020-11-26T19:03:50.042053Z",
     "start_time": "2020-11-26T19:03:50.029077Z"
    }
   },
   "outputs": [],
   "source": [
    "X.columns"
   ]
  },
  {
   "cell_type": "code",
   "execution_count": null,
   "metadata": {
    "ExecuteTime": {
     "end_time": "2020-11-26T19:13:49.985944Z",
     "start_time": "2020-11-26T19:13:49.951336Z"
    }
   },
   "outputs": [],
   "source": [
    "adv"
   ]
  },
  {
   "cell_type": "markdown",
   "metadata": {
    "ExecuteTime": {
     "end_time": "2020-11-26T19:13:56.153420Z",
     "start_time": "2020-11-26T19:13:56.149553Z"
    }
   },
   "source": [
    "## Splitting"
   ]
  },
  {
   "cell_type": "code",
   "execution_count": null,
   "metadata": {
    "ExecuteTime": {
     "end_time": "2020-11-27T05:01:23.552354Z",
     "start_time": "2020-11-27T05:01:23.445904Z"
    }
   },
   "outputs": [],
   "source": [
    "df = pd.read_csv(\"data/gx_merged.csv\")\n",
    "\n",
    "# Take out test\n",
    "df = df[df.test == 0]\n",
    "\n",
    "# Create our unique index variable\n",
    "df[\"count_brand\"] = df[\"country\"].astype(str) + \"-\" + df[\"brand\"]\n",
    "\n",
    "# Unique index\n",
    "lista = df[\"count_brand\"].unique()\n",
    "df[\"count_brand\"].nunique()"
   ]
  },
  {
   "cell_type": "code",
   "execution_count": null,
   "metadata": {
    "ExecuteTime": {
     "end_time": "2020-11-27T05:01:23.933216Z",
     "start_time": "2020-11-27T05:01:23.903841Z"
    }
   },
   "outputs": [],
   "source": [
    "# Get the ones that have not 24months\n",
    "a = pd.DataFrame(df.groupby([\"country\", \"brand\"]).month_num.max()).reset_index()\n",
    "a = a[a.month_num < 23]\n",
    "a[\"count_brand\"] = a[\"country\"].astype(str) + \"-\" + a[\"brand\"]\n",
    "deformed = a.count_brand.unique()"
   ]
  },
  {
   "cell_type": "code",
   "execution_count": null,
   "metadata": {
    "ExecuteTime": {
     "end_time": "2020-11-27T05:01:24.155416Z",
     "start_time": "2020-11-27T05:01:24.150539Z"
    }
   },
   "outputs": [],
   "source": [
    "buenos = list(set(lista) - set(list(deformed)))"
   ]
  },
  {
   "cell_type": "code",
   "execution_count": null,
   "metadata": {
    "ExecuteTime": {
     "end_time": "2020-11-27T05:01:25.513136Z",
     "start_time": "2020-11-27T05:01:25.508529Z"
    }
   },
   "outputs": [],
   "source": [
    "split = int(len(buenos) * 0.75)\n",
    "split_train_list = buenos[:split]\n",
    "split_valid_list = buenos[split:]"
   ]
  },
  {
   "cell_type": "code",
   "execution_count": null,
   "metadata": {
    "ExecuteTime": {
     "end_time": "2020-11-27T05:01:25.756791Z",
     "start_time": "2020-11-27T05:01:25.750028Z"
    }
   },
   "outputs": [],
   "source": [
    "len(split_train_list)"
   ]
  },
  {
   "cell_type": "code",
   "execution_count": null,
   "metadata": {
    "ExecuteTime": {
     "end_time": "2020-11-27T05:01:25.960009Z",
     "start_time": "2020-11-27T05:01:25.947746Z"
    }
   },
   "outputs": [],
   "source": [
    "len(split_valid_list)"
   ]
  },
  {
   "cell_type": "code",
   "execution_count": null,
   "metadata": {
    "ExecuteTime": {
     "end_time": "2020-11-27T05:01:26.180301Z",
     "start_time": "2020-11-27T05:01:26.144908Z"
    }
   },
   "outputs": [],
   "source": [
    "train_split = df[df[\"count_brand\"].isin(split_train_list)]\n",
    "valid_split = df[df[\"count_brand\"].isin(split_valid_list)]\n",
    "\n",
    "train_split = train_split[[\"country\", \"brand\"]]\n",
    "valid_split = valid_split[[\"country\", \"brand\"]]\n",
    "\n",
    "train_split.shape\n",
    "\n",
    "train_split.drop_duplicates().to_csv(\"data/train_split_noerror.csv\", index=False)\n",
    "valid_split.drop_duplicates().to_csv(\"data/valid_split.csv\", index=False)"
   ]
  },
  {
   "cell_type": "code",
   "execution_count": null,
   "metadata": {
    "ExecuteTime": {
     "end_time": "2020-11-27T05:01:26.321372Z",
     "start_time": "2020-11-27T05:01:26.317618Z"
    }
   },
   "outputs": [],
   "source": [
    "split_train_split_deformed = list(set((split_train_list + list(deformed))))"
   ]
  },
  {
   "cell_type": "code",
   "execution_count": null,
   "metadata": {
    "ExecuteTime": {
     "end_time": "2020-11-27T05:01:26.498403Z",
     "start_time": "2020-11-27T05:01:26.481492Z"
    }
   },
   "outputs": [],
   "source": [
    "train_split = df[df[\"count_brand\"].isin(split_train_split_deformed)]\n",
    "\n",
    "\n",
    "train_split = train_split[[\"country\", \"brand\"]]\n",
    "\n",
    "\n",
    "train_split.drop_duplicates().to_csv(\"data/train_split.csv\", index=False)"
   ]
  },
  {
   "cell_type": "code",
   "execution_count": null,
   "metadata": {
    "ExecuteTime": {
     "end_time": "2020-11-27T05:01:26.622656Z",
     "start_time": "2020-11-27T05:01:26.616697Z"
    }
   },
   "outputs": [],
   "source": [
    "576 / 768"
   ]
  },
  {
   "cell_type": "code",
   "execution_count": null,
   "metadata": {
    "ExecuteTime": {
     "end_time": "2020-11-27T05:01:27.041738Z",
     "start_time": "2020-11-27T05:01:27.036875Z"
    }
   },
   "outputs": [],
   "source": [
    "len(buenos)"
   ]
  },
  {
   "cell_type": "code",
   "execution_count": null,
   "metadata": {},
   "outputs": [],
   "source": []
  },
  {
   "cell_type": "code",
   "execution_count": null,
   "metadata": {
    "ExecuteTime": {
     "end_time": "2020-11-26T21:33:40.308781Z",
     "start_time": "2020-11-26T21:33:40.301930Z"
    }
   },
   "outputs": [],
   "source": [
    "pd.read_csv(\"data/train_split.csv\").shape"
   ]
  },
  {
   "cell_type": "code",
   "execution_count": null,
   "metadata": {
    "ExecuteTime": {
     "end_time": "2020-11-26T21:33:40.701385Z",
     "start_time": "2020-11-26T21:33:40.691806Z"
    }
   },
   "outputs": [],
   "source": [
    "pd.read_csv(\"data/valid_split.csv\").shape"
   ]
  },
  {
   "cell_type": "code",
   "execution_count": null,
   "metadata": {
    "ExecuteTime": {
     "end_time": "2020-11-26T21:33:40.914838Z",
     "start_time": "2020-11-26T21:33:40.903638Z"
    }
   },
   "outputs": [],
   "source": [
    "pd.read_csv(\"data/train_split_noerror.csv\").shape"
   ]
  },
  {
   "cell_type": "markdown",
   "metadata": {},
   "source": [
    "### Split test"
   ]
  },
  {
   "cell_type": "code",
   "execution_count": null,
   "metadata": {
    "ExecuteTime": {
     "end_time": "2020-11-27T05:29:24.080416Z",
     "start_time": "2020-11-27T05:29:24.022709Z"
    }
   },
   "outputs": [],
   "source": [
    "df = pd.read_csv(\"data/gx_merged.csv\")\n",
    "\n",
    "# Take out test\n",
    "df = df[df.test == 1]\n",
    "\n",
    "# Create our unique index variable\n",
    "df[\"count_brand\"] = df[\"country\"].astype(str) + \"-\" + df[\"brand\"]\n",
    "\n",
    "# Unique index\n",
    "lista = df[\"count_brand\"].unique()\n",
    "df[\"count_brand\"].nunique()"
   ]
  },
  {
   "cell_type": "code",
   "execution_count": null,
   "metadata": {
    "ExecuteTime": {
     "end_time": "2020-11-27T05:29:24.773153Z",
     "start_time": "2020-11-27T05:29:24.769302Z"
    }
   },
   "outputs": [],
   "source": [
    "split_test_list = lista"
   ]
  },
  {
   "cell_type": "code",
   "execution_count": null,
   "metadata": {
    "ExecuteTime": {
     "end_time": "2020-11-27T05:29:25.174611Z",
     "start_time": "2020-11-27T05:29:25.162985Z"
    }
   },
   "outputs": [],
   "source": [
    "test_split = df[df[\"count_brand\"].isin(split_test_list)]\n",
    "\n",
    "test_split = test_split[[\"country\", \"brand\"]]"
   ]
  },
  {
   "cell_type": "code",
   "execution_count": null,
   "metadata": {
    "ExecuteTime": {
     "end_time": "2020-11-27T05:29:25.448236Z",
     "start_time": "2020-11-27T05:29:25.432584Z"
    }
   },
   "outputs": [],
   "source": [
    "test_split.drop_duplicates().to_csv(\"data/test_split.csv\", index=False)"
   ]
  },
  {
   "cell_type": "code",
   "execution_count": null,
   "metadata": {},
   "outputs": [],
   "source": []
  }
 ],
 "metadata": {
  "kernelspec": {
   "display_name": "Python 3 (ipykernel)",
   "language": "python",
   "name": "python3"
  },
  "language_info": {
   "codemirror_mode": {
    "name": "ipython",
    "version": 3
   },
   "file_extension": ".py",
   "mimetype": "text/x-python",
   "name": "python",
   "nbconvert_exporter": "python",
   "pygments_lexer": "ipython3",
   "version": "3.7.11"
  }
 },
 "nbformat": 4,
 "nbformat_minor": 4
}
