{
 "cells": [
  {
   "cell_type": "markdown",
   "metadata": {
    "heading_collapsed": true
   },
   "source": [
    "#### Libraries"
   ]
  },
  {
   "cell_type": "code",
   "execution_count": 32,
   "metadata": {
    "ExecuteTime": {
     "end_time": "2020-11-27T05:01:17.709674Z",
     "start_time": "2020-11-27T05:01:17.698143Z"
    },
    "hidden": true
   },
   "outputs": [
    {
     "data": {
      "application/javascript": [
       "utils.load_extension('collapsible_headings/main')\n",
       "utils.load_extension('hide_input/main')\n",
       "utils.load_extension('autosavetime/main')\n",
       "utils.load_extension('execute_time/ExecuteTime')\n",
       "utils.load_extension('code_prettify/code_prettify')\n",
       "utils.load_extension('scroll_down/main')\n",
       "utils.load_extension('jupyter-js-widgets/extension')\n"
      ],
      "text/plain": [
       "<IPython.core.display.Javascript object>"
      ]
     },
     "metadata": {},
     "output_type": "display_data"
    }
   ],
   "source": [
    "\n",
    "%%javascript\n",
    "utils.load_extension('collapsible_headings/main')\n",
    "utils.load_extension('hide_input/main')\n",
    "utils.load_extension('autosavetime/main')\n",
    "utils.load_extension('execute_time/ExecuteTime')\n",
    "utils.load_extension('code_prettify/code_prettify')\n",
    "utils.load_extension('scroll_down/main')\n",
    "utils.load_extension('jupyter-js-widgets/extension')"
   ]
  },
  {
   "cell_type": "code",
   "execution_count": 33,
   "metadata": {
    "ExecuteTime": {
     "end_time": "2020-11-27T05:29:17.734724Z",
     "start_time": "2020-11-27T05:29:17.724367Z"
    },
    "hidden": true
   },
   "outputs": [],
   "source": [
    "import pandas as pd\n",
    "import numpy as np\n",
    "import matplotlib.pyplot as plt\n",
    "np.random.seed(0)\n",
    "\n",
    "from sklearn.metrics import roc_auc_score"
   ]
  },
  {
   "cell_type": "code",
   "execution_count": 34,
   "metadata": {
    "ExecuteTime": {
     "end_time": "2020-11-27T05:29:17.955967Z",
     "start_time": "2020-11-27T05:29:17.935769Z"
    },
    "hidden": true
   },
   "outputs": [],
   "source": [
    "def plot_feature_importance(\n",
    "    columnas, model_features, columns_ploted=10, model_name=\"Catboost\"\n",
    "):\n",
    "    \"\"\"\n",
    "    This method is yet non-tested\n",
    "    \n",
    "    This function receives a set of columns feeded to a model, and the importance of each of feature.\n",
    "    Returns a graphical visualization\n",
    "    \n",
    "    Call it fot catboost pipe example:\n",
    "    plot_feature_importance(pipe_best_estimator[:-1].transform(X_tr).columns,pipe_best_estimator.named_steps['cb'].get_feature_importance(),20)\n",
    "    \n",
    "    Call it for lasso pipe example:\n",
    "    plot_feature_importance(pipe_best_estimator[:-1].transform(X_tr).columns,np.array(pipe_best_estimator.named_steps['clf'].coef_.squeeze()),20)\n",
    "    \"\"\"\n",
    "\n",
    "    feature_importance = pd.Series(index=columnas, data=np.abs(model_features))\n",
    "    n_selected_features = (feature_importance > 0).sum()\n",
    "    print(\n",
    "        \"{0:d} features, reduction of {1:2.2f}%\".format(\n",
    "            n_selected_features,\n",
    "            (1 - n_selected_features / len(feature_importance)) * 100,\n",
    "        )\n",
    "    )\n",
    "    plt.figure()\n",
    "    feature_importance.sort_values().tail(columns_ploted).plot(\n",
    "        kind=\"bar\", figsize=(18, 6)\n",
    "    )\n",
    "    plt.title(\"Feature Importance for {}\".format(model_name))\n",
    "    plt.show()"
   ]
  },
  {
   "cell_type": "code",
   "execution_count": 35,
   "metadata": {
    "ExecuteTime": {
     "end_time": "2020-11-27T05:29:19.267158Z",
     "start_time": "2020-11-27T05:29:19.135040Z"
    },
    "hidden": true
   },
   "outputs": [
    {
     "name": "stdout",
     "output_type": "stream",
     "text": [
      "Base.ipynb                  datathon_metrics.ipynb\r\n",
      "LICENSE                     \u001b[34meda\u001b[m\u001b[m\r\n",
      "\u001b[34mNN_files\u001b[m\u001b[m                    \u001b[34mmodels\u001b[m\u001b[m\r\n",
      "README.md                   \u001b[34moutput\u001b[m\u001b[m\r\n",
      "Untitled.ipynb              \u001b[34mpre-datathon\u001b[m\u001b[m\r\n",
      "Untitled1.ipynb             submission_instructions.pdf\r\n",
      "\u001b[34mcatboost_info\u001b[m\u001b[m               \u001b[34msubmissions\u001b[m\u001b[m\r\n",
      "\u001b[34mdata\u001b[m\u001b[m                        test_split.csv\r\n",
      "datathon_metrics.R          \u001b[34mtools\u001b[m\u001b[m\r\n"
     ]
    }
   ],
   "source": [
    "!ls"
   ]
  },
  {
   "cell_type": "markdown",
   "metadata": {},
   "source": [
    "## Joins"
   ]
  },
  {
   "cell_type": "markdown",
   "metadata": {},
   "source": [
    "### Generic"
   ]
  },
  {
   "cell_type": "code",
   "execution_count": 209,
   "metadata": {
    "ExecuteTime": {
     "end_time": "2020-11-26T18:36:21.208868Z",
     "start_time": "2020-11-26T18:36:21.114931Z"
    },
    "scrolled": false
   },
   "outputs": [
    {
     "data": {
      "text/html": [
       "<div>\n",
       "<style scoped>\n",
       "    .dataframe tbody tr th:only-of-type {\n",
       "        vertical-align: middle;\n",
       "    }\n",
       "\n",
       "    .dataframe tbody tr th {\n",
       "        vertical-align: top;\n",
       "    }\n",
       "\n",
       "    .dataframe thead th {\n",
       "        text-align: right;\n",
       "    }\n",
       "</style>\n",
       "<table border=\"1\" class=\"dataframe\">\n",
       "  <thead>\n",
       "    <tr style=\"text-align: right;\">\n",
       "      <th></th>\n",
       "      <th>country</th>\n",
       "      <th>brand</th>\n",
       "      <th>num_generics</th>\n",
       "    </tr>\n",
       "  </thead>\n",
       "  <tbody>\n",
       "    <tr>\n",
       "      <th>0</th>\n",
       "      <td>country_1</td>\n",
       "      <td>brand_3</td>\n",
       "      <td>3</td>\n",
       "    </tr>\n",
       "  </tbody>\n",
       "</table>\n",
       "</div>"
      ],
      "text/plain": [
       "     country    brand  num_generics\n",
       "0  country_1  brand_3             3"
      ]
     },
     "execution_count": 209,
     "metadata": {},
     "output_type": "execute_result"
    }
   ],
   "source": [
    "generic = pd.read_csv('gx_num_generics.csv').drop(columns='Unnamed: 0')\n",
    "generic.head(1)"
   ]
  },
  {
   "cell_type": "markdown",
   "metadata": {},
   "source": [
    "### Package"
   ]
  },
  {
   "cell_type": "code",
   "execution_count": 158,
   "metadata": {
    "ExecuteTime": {
     "end_time": "2020-11-26T18:22:31.108924Z",
     "start_time": "2020-11-26T18:22:31.092987Z"
    }
   },
   "outputs": [
    {
     "data": {
      "text/html": [
       "<div>\n",
       "<style scoped>\n",
       "    .dataframe tbody tr th:only-of-type {\n",
       "        vertical-align: middle;\n",
       "    }\n",
       "\n",
       "    .dataframe tbody tr th {\n",
       "        vertical-align: top;\n",
       "    }\n",
       "\n",
       "    .dataframe thead th {\n",
       "        text-align: right;\n",
       "    }\n",
       "</style>\n",
       "<table border=\"1\" class=\"dataframe\">\n",
       "  <thead>\n",
       "    <tr style=\"text-align: right;\">\n",
       "      <th></th>\n",
       "      <th>country</th>\n",
       "      <th>brand</th>\n",
       "      <th>presentation</th>\n",
       "    </tr>\n",
       "  </thead>\n",
       "  <tbody>\n",
       "    <tr>\n",
       "      <th>0</th>\n",
       "      <td>country_1</td>\n",
       "      <td>brand_3</td>\n",
       "      <td>PILL</td>\n",
       "    </tr>\n",
       "    <tr>\n",
       "      <th>1</th>\n",
       "      <td>country_1</td>\n",
       "      <td>brand_4</td>\n",
       "      <td>PILL</td>\n",
       "    </tr>\n",
       "    <tr>\n",
       "      <th>2</th>\n",
       "      <td>country_1</td>\n",
       "      <td>brand_10</td>\n",
       "      <td>PILL</td>\n",
       "    </tr>\n",
       "    <tr>\n",
       "      <th>3</th>\n",
       "      <td>country_1</td>\n",
       "      <td>brand_14</td>\n",
       "      <td>PILL</td>\n",
       "    </tr>\n",
       "    <tr>\n",
       "      <th>4</th>\n",
       "      <td>country_1</td>\n",
       "      <td>brand_18</td>\n",
       "      <td>CREAM</td>\n",
       "    </tr>\n",
       "  </tbody>\n",
       "</table>\n",
       "</div>"
      ],
      "text/plain": [
       "     country     brand presentation\n",
       "0  country_1   brand_3         PILL\n",
       "1  country_1   brand_4         PILL\n",
       "2  country_1  brand_10         PILL\n",
       "3  country_1  brand_14         PILL\n",
       "4  country_1  brand_18        CREAM"
      ]
     },
     "execution_count": 158,
     "metadata": {},
     "output_type": "execute_result"
    }
   ],
   "source": [
    "package = pd.read_csv('gx_package.csv').drop(columns='Unnamed: 0')\n",
    "package.head()"
   ]
  },
  {
   "cell_type": "code",
   "execution_count": 159,
   "metadata": {
    "ExecuteTime": {
     "end_time": "2020-11-26T18:22:31.152913Z",
     "start_time": "2020-11-26T18:22:31.111238Z"
    }
   },
   "outputs": [
    {
     "data": {
      "text/plain": [
       "array(['PILL', 'CREAM', 'INJECTION', 'OTHER', 'PATCH', 'EYE_DROP',\n",
       "       'INHALER'], dtype=object)"
      ]
     },
     "execution_count": 159,
     "metadata": {},
     "output_type": "execute_result"
    }
   ],
   "source": [
    "package.presentation.unique()"
   ]
  },
  {
   "cell_type": "code",
   "execution_count": 160,
   "metadata": {
    "ExecuteTime": {
     "end_time": "2020-11-26T18:22:31.184981Z",
     "start_time": "2020-11-26T18:22:31.174093Z"
    }
   },
   "outputs": [
    {
     "data": {
      "text/plain": [
       "16"
      ]
     },
     "execution_count": 160,
     "metadata": {},
     "output_type": "execute_result"
    }
   ],
   "source": [
    "package.country.nunique()"
   ]
  },
  {
   "cell_type": "code",
   "execution_count": 161,
   "metadata": {
    "ExecuteTime": {
     "end_time": "2020-11-26T18:22:31.199044Z",
     "start_time": "2020-11-26T18:22:31.190484Z"
    }
   },
   "outputs": [
    {
     "data": {
      "text/plain": [
       "484"
      ]
     },
     "execution_count": 161,
     "metadata": {},
     "output_type": "execute_result"
    }
   ],
   "source": [
    "package.brand.nunique()"
   ]
  },
  {
   "cell_type": "code",
   "execution_count": 162,
   "metadata": {
    "ExecuteTime": {
     "end_time": "2020-11-26T18:22:31.210328Z",
     "start_time": "2020-11-26T18:22:31.201599Z"
    }
   },
   "outputs": [
    {
     "data": {
      "text/plain": [
       "brand_187    13\n",
       "brand_477    10\n",
       "brand_133     9\n",
       "brand_167     9\n",
       "brand_47      8\n",
       "             ..\n",
       "brand_11      1\n",
       "brand_209     1\n",
       "brand_208     1\n",
       "brand_204     1\n",
       "brand_148     1\n",
       "Name: brand, Length: 484, dtype: int64"
      ]
     },
     "execution_count": 162,
     "metadata": {},
     "output_type": "execute_result"
    }
   ],
   "source": [
    "package.brand.value_counts()"
   ]
  },
  {
   "cell_type": "markdown",
   "metadata": {},
   "source": [
    "### Panel"
   ]
  },
  {
   "cell_type": "code",
   "execution_count": 163,
   "metadata": {
    "ExecuteTime": {
     "end_time": "2020-11-26T18:22:31.253428Z",
     "start_time": "2020-11-26T18:22:31.221861Z"
    }
   },
   "outputs": [
    {
     "data": {
      "text/html": [
       "<div>\n",
       "<style scoped>\n",
       "    .dataframe tbody tr th:only-of-type {\n",
       "        vertical-align: middle;\n",
       "    }\n",
       "\n",
       "    .dataframe tbody tr th {\n",
       "        vertical-align: top;\n",
       "    }\n",
       "\n",
       "    .dataframe thead th {\n",
       "        text-align: right;\n",
       "    }\n",
       "</style>\n",
       "<table border=\"1\" class=\"dataframe\">\n",
       "  <thead>\n",
       "    <tr style=\"text-align: right;\">\n",
       "      <th></th>\n",
       "      <th>country</th>\n",
       "      <th>brand</th>\n",
       "      <th>channel</th>\n",
       "      <th>channel_rate</th>\n",
       "    </tr>\n",
       "  </thead>\n",
       "  <tbody>\n",
       "    <tr>\n",
       "      <th>0</th>\n",
       "      <td>country_1</td>\n",
       "      <td>brand_3</td>\n",
       "      <td>B</td>\n",
       "      <td>1.189704</td>\n",
       "    </tr>\n",
       "    <tr>\n",
       "      <th>1</th>\n",
       "      <td>country_1</td>\n",
       "      <td>brand_3</td>\n",
       "      <td>D</td>\n",
       "      <td>98.810296</td>\n",
       "    </tr>\n",
       "  </tbody>\n",
       "</table>\n",
       "</div>"
      ],
      "text/plain": [
       "     country    brand channel  channel_rate\n",
       "0  country_1  brand_3       B      1.189704\n",
       "1  country_1  brand_3       D     98.810296"
      ]
     },
     "execution_count": 163,
     "metadata": {},
     "output_type": "execute_result"
    }
   ],
   "source": [
    "panel = pd.read_csv('gx_panel.csv').drop(columns='Unnamed: 0')\n",
    "\n",
    "panel.head(2)"
   ]
  },
  {
   "cell_type": "code",
   "execution_count": 164,
   "metadata": {
    "ExecuteTime": {
     "end_time": "2020-11-26T18:22:31.283285Z",
     "start_time": "2020-11-26T18:22:31.256424Z"
    }
   },
   "outputs": [
    {
     "data": {
      "text/plain": [
       "484"
      ]
     },
     "execution_count": 164,
     "metadata": {},
     "output_type": "execute_result"
    }
   ],
   "source": [
    "panel.brand.nunique()"
   ]
  },
  {
   "cell_type": "code",
   "execution_count": 165,
   "metadata": {
    "ExecuteTime": {
     "end_time": "2020-11-26T18:22:31.306328Z",
     "start_time": "2020-11-26T18:22:31.292551Z"
    }
   },
   "outputs": [
    {
     "data": {
      "text/plain": [
       "array(['B', 'D', 'C', 'A'], dtype=object)"
      ]
     },
     "execution_count": 165,
     "metadata": {},
     "output_type": "execute_result"
    }
   ],
   "source": [
    "panel.channel.unique()"
   ]
  },
  {
   "cell_type": "markdown",
   "metadata": {
    "heading_collapsed": true
   },
   "source": [
    "### Therapeutic"
   ]
  },
  {
   "cell_type": "code",
   "execution_count": 166,
   "metadata": {
    "ExecuteTime": {
     "end_time": "2020-11-26T18:22:31.336648Z",
     "start_time": "2020-11-26T18:22:31.312780Z"
    },
    "hidden": true
   },
   "outputs": [
    {
     "data": {
      "text/html": [
       "<div>\n",
       "<style scoped>\n",
       "    .dataframe tbody tr th:only-of-type {\n",
       "        vertical-align: middle;\n",
       "    }\n",
       "\n",
       "    .dataframe tbody tr th {\n",
       "        vertical-align: top;\n",
       "    }\n",
       "\n",
       "    .dataframe thead th {\n",
       "        text-align: right;\n",
       "    }\n",
       "</style>\n",
       "<table border=\"1\" class=\"dataframe\">\n",
       "  <thead>\n",
       "    <tr style=\"text-align: right;\">\n",
       "      <th></th>\n",
       "      <th>brand</th>\n",
       "      <th>therapeutic_area</th>\n",
       "    </tr>\n",
       "  </thead>\n",
       "  <tbody>\n",
       "    <tr>\n",
       "      <th>0</th>\n",
       "      <td>brand_1</td>\n",
       "      <td>Nervous_system</td>\n",
       "    </tr>\n",
       "  </tbody>\n",
       "</table>\n",
       "</div>"
      ],
      "text/plain": [
       "     brand therapeutic_area\n",
       "0  brand_1   Nervous_system"
      ]
     },
     "execution_count": 166,
     "metadata": {},
     "output_type": "execute_result"
    }
   ],
   "source": [
    "therapeutic_area = pd.read_csv('gx_therapeutic_area.csv').drop(columns='Unnamed: 0')\n",
    "therapeutic_area.head(1)"
   ]
  },
  {
   "cell_type": "code",
   "execution_count": 167,
   "metadata": {
    "ExecuteTime": {
     "end_time": "2020-11-26T18:22:31.367717Z",
     "start_time": "2020-11-26T18:22:31.352198Z"
    },
    "hidden": true,
    "scrolled": true
   },
   "outputs": [
    {
     "data": {
      "text/plain": [
       "14"
      ]
     },
     "execution_count": 167,
     "metadata": {},
     "output_type": "execute_result"
    }
   ],
   "source": [
    "therapeutic_area.therapeutic_area.nunique()"
   ]
  },
  {
   "cell_type": "markdown",
   "metadata": {
    "heading_collapsed": true
   },
   "source": [
    "### Volume"
   ]
  },
  {
   "cell_type": "code",
   "execution_count": 168,
   "metadata": {
    "ExecuteTime": {
     "end_time": "2020-11-26T18:22:31.461026Z",
     "start_time": "2020-11-26T18:22:31.370011Z"
    },
    "hidden": true,
    "scrolled": true
   },
   "outputs": [
    {
     "data": {
      "text/html": [
       "<div>\n",
       "<style scoped>\n",
       "    .dataframe tbody tr th:only-of-type {\n",
       "        vertical-align: middle;\n",
       "    }\n",
       "\n",
       "    .dataframe tbody tr th {\n",
       "        vertical-align: top;\n",
       "    }\n",
       "\n",
       "    .dataframe thead th {\n",
       "        text-align: right;\n",
       "    }\n",
       "</style>\n",
       "<table border=\"1\" class=\"dataframe\">\n",
       "  <thead>\n",
       "    <tr style=\"text-align: right;\">\n",
       "      <th></th>\n",
       "      <th>country</th>\n",
       "      <th>brand</th>\n",
       "      <th>volume</th>\n",
       "      <th>month_num</th>\n",
       "      <th>month_name</th>\n",
       "    </tr>\n",
       "  </thead>\n",
       "  <tbody>\n",
       "    <tr>\n",
       "      <th>0</th>\n",
       "      <td>country_1</td>\n",
       "      <td>brand_3</td>\n",
       "      <td>18509088.6</td>\n",
       "      <td>-88</td>\n",
       "      <td>Jul</td>\n",
       "    </tr>\n",
       "  </tbody>\n",
       "</table>\n",
       "</div>"
      ],
      "text/plain": [
       "     country    brand      volume  month_num month_name\n",
       "0  country_1  brand_3  18509088.6        -88        Jul"
      ]
     },
     "execution_count": 168,
     "metadata": {},
     "output_type": "execute_result"
    }
   ],
   "source": [
    "volume = pd.read_csv('gx_volume.csv').drop(columns='Unnamed: 0')\n",
    "volume.head(1)"
   ]
  },
  {
   "cell_type": "code",
   "execution_count": 169,
   "metadata": {
    "ExecuteTime": {
     "end_time": "2020-11-26T18:22:31.496855Z",
     "start_time": "2020-11-26T18:22:31.464866Z"
    },
    "hidden": true
   },
   "outputs": [
    {
     "data": {
      "text/html": [
       "<div>\n",
       "<style scoped>\n",
       "    .dataframe tbody tr th:only-of-type {\n",
       "        vertical-align: middle;\n",
       "    }\n",
       "\n",
       "    .dataframe tbody tr th {\n",
       "        vertical-align: top;\n",
       "    }\n",
       "\n",
       "    .dataframe thead th {\n",
       "        text-align: right;\n",
       "    }\n",
       "</style>\n",
       "<table border=\"1\" class=\"dataframe\">\n",
       "  <thead>\n",
       "    <tr style=\"text-align: right;\">\n",
       "      <th></th>\n",
       "      <th>country</th>\n",
       "      <th>brand</th>\n",
       "      <th>volume</th>\n",
       "      <th>month_num</th>\n",
       "      <th>month_name</th>\n",
       "    </tr>\n",
       "  </thead>\n",
       "  <tbody>\n",
       "    <tr>\n",
       "      <th>0</th>\n",
       "      <td>country_1</td>\n",
       "      <td>brand_3</td>\n",
       "      <td>18509088.6</td>\n",
       "      <td>-88</td>\n",
       "      <td>Jul</td>\n",
       "    </tr>\n",
       "    <tr>\n",
       "      <th>1</th>\n",
       "      <td>country_1</td>\n",
       "      <td>brand_3</td>\n",
       "      <td>19697508.0</td>\n",
       "      <td>-87</td>\n",
       "      <td>Aug</td>\n",
       "    </tr>\n",
       "    <tr>\n",
       "      <th>2</th>\n",
       "      <td>country_1</td>\n",
       "      <td>brand_3</td>\n",
       "      <td>18315721.8</td>\n",
       "      <td>-86</td>\n",
       "      <td>Sep</td>\n",
       "    </tr>\n",
       "    <tr>\n",
       "      <th>3</th>\n",
       "      <td>country_1</td>\n",
       "      <td>brand_3</td>\n",
       "      <td>19831199.4</td>\n",
       "      <td>-85</td>\n",
       "      <td>Oct</td>\n",
       "    </tr>\n",
       "    <tr>\n",
       "      <th>4</th>\n",
       "      <td>country_1</td>\n",
       "      <td>brand_3</td>\n",
       "      <td>18593281.8</td>\n",
       "      <td>-84</td>\n",
       "      <td>Nov</td>\n",
       "    </tr>\n",
       "    <tr>\n",
       "      <th>...</th>\n",
       "      <td>...</td>\n",
       "      <td>...</td>\n",
       "      <td>...</td>\n",
       "      <td>...</td>\n",
       "      <td>...</td>\n",
       "    </tr>\n",
       "    <tr>\n",
       "      <th>107</th>\n",
       "      <td>country_1</td>\n",
       "      <td>brand_3</td>\n",
       "      <td>2233432.8</td>\n",
       "      <td>19</td>\n",
       "      <td>Jun</td>\n",
       "    </tr>\n",
       "    <tr>\n",
       "      <th>108</th>\n",
       "      <td>country_1</td>\n",
       "      <td>brand_3</td>\n",
       "      <td>2317163.4</td>\n",
       "      <td>20</td>\n",
       "      <td>Jul</td>\n",
       "    </tr>\n",
       "    <tr>\n",
       "      <th>109</th>\n",
       "      <td>country_1</td>\n",
       "      <td>brand_3</td>\n",
       "      <td>2290332.6</td>\n",
       "      <td>21</td>\n",
       "      <td>Aug</td>\n",
       "    </tr>\n",
       "    <tr>\n",
       "      <th>110</th>\n",
       "      <td>country_1</td>\n",
       "      <td>brand_3</td>\n",
       "      <td>2529034.2</td>\n",
       "      <td>22</td>\n",
       "      <td>Sep</td>\n",
       "    </tr>\n",
       "    <tr>\n",
       "      <th>111</th>\n",
       "      <td>country_1</td>\n",
       "      <td>brand_3</td>\n",
       "      <td>2469358.8</td>\n",
       "      <td>23</td>\n",
       "      <td>Oct</td>\n",
       "    </tr>\n",
       "  </tbody>\n",
       "</table>\n",
       "<p>112 rows × 5 columns</p>\n",
       "</div>"
      ],
      "text/plain": [
       "       country    brand      volume  month_num month_name\n",
       "0    country_1  brand_3  18509088.6        -88        Jul\n",
       "1    country_1  brand_3  19697508.0        -87        Aug\n",
       "2    country_1  brand_3  18315721.8        -86        Sep\n",
       "3    country_1  brand_3  19831199.4        -85        Oct\n",
       "4    country_1  brand_3  18593281.8        -84        Nov\n",
       "..         ...      ...         ...        ...        ...\n",
       "107  country_1  brand_3   2233432.8         19        Jun\n",
       "108  country_1  brand_3   2317163.4         20        Jul\n",
       "109  country_1  brand_3   2290332.6         21        Aug\n",
       "110  country_1  brand_3   2529034.2         22        Sep\n",
       "111  country_1  brand_3   2469358.8         23        Oct\n",
       "\n",
       "[112 rows x 5 columns]"
      ]
     },
     "execution_count": 169,
     "metadata": {},
     "output_type": "execute_result"
    }
   ],
   "source": [
    "volume[(volume.country=='country_1') & (volume.brand=='brand_3')]"
   ]
  },
  {
   "cell_type": "markdown",
   "metadata": {
    "heading_collapsed": true
   },
   "source": [
    "### Subm"
   ]
  },
  {
   "cell_type": "code",
   "execution_count": 170,
   "metadata": {
    "ExecuteTime": {
     "end_time": "2020-11-26T18:22:31.522560Z",
     "start_time": "2020-11-26T18:22:31.499679Z"
    },
    "hidden": true,
    "scrolled": false
   },
   "outputs": [
    {
     "data": {
      "text/html": [
       "<div>\n",
       "<style scoped>\n",
       "    .dataframe tbody tr th:only-of-type {\n",
       "        vertical-align: middle;\n",
       "    }\n",
       "\n",
       "    .dataframe tbody tr th {\n",
       "        vertical-align: top;\n",
       "    }\n",
       "\n",
       "    .dataframe thead th {\n",
       "        text-align: right;\n",
       "    }\n",
       "</style>\n",
       "<table border=\"1\" class=\"dataframe\">\n",
       "  <thead>\n",
       "    <tr style=\"text-align: right;\">\n",
       "      <th></th>\n",
       "      <th>country</th>\n",
       "      <th>brand</th>\n",
       "      <th>month_num</th>\n",
       "      <th>pred_95_low</th>\n",
       "      <th>prediction</th>\n",
       "      <th>pred_95_high</th>\n",
       "    </tr>\n",
       "  </thead>\n",
       "  <tbody>\n",
       "    <tr>\n",
       "      <th>0</th>\n",
       "      <td>country_1</td>\n",
       "      <td>brand_121</td>\n",
       "      <td>0</td>\n",
       "      <td>NaN</td>\n",
       "      <td>NaN</td>\n",
       "      <td>NaN</td>\n",
       "    </tr>\n",
       "    <tr>\n",
       "      <th>1</th>\n",
       "      <td>country_1</td>\n",
       "      <td>brand_121</td>\n",
       "      <td>1</td>\n",
       "      <td>NaN</td>\n",
       "      <td>NaN</td>\n",
       "      <td>NaN</td>\n",
       "    </tr>\n",
       "    <tr>\n",
       "      <th>2</th>\n",
       "      <td>country_1</td>\n",
       "      <td>brand_121</td>\n",
       "      <td>2</td>\n",
       "      <td>NaN</td>\n",
       "      <td>NaN</td>\n",
       "      <td>NaN</td>\n",
       "    </tr>\n",
       "    <tr>\n",
       "      <th>3</th>\n",
       "      <td>country_1</td>\n",
       "      <td>brand_121</td>\n",
       "      <td>3</td>\n",
       "      <td>NaN</td>\n",
       "      <td>NaN</td>\n",
       "      <td>NaN</td>\n",
       "    </tr>\n",
       "    <tr>\n",
       "      <th>4</th>\n",
       "      <td>country_1</td>\n",
       "      <td>brand_121</td>\n",
       "      <td>4</td>\n",
       "      <td>NaN</td>\n",
       "      <td>NaN</td>\n",
       "      <td>NaN</td>\n",
       "    </tr>\n",
       "    <tr>\n",
       "      <th>...</th>\n",
       "      <td>...</td>\n",
       "      <td>...</td>\n",
       "      <td>...</td>\n",
       "      <td>...</td>\n",
       "      <td>...</td>\n",
       "      <td>...</td>\n",
       "    </tr>\n",
       "    <tr>\n",
       "      <th>4579</th>\n",
       "      <td>country_9</td>\n",
       "      <td>brand_187</td>\n",
       "      <td>19</td>\n",
       "      <td>NaN</td>\n",
       "      <td>NaN</td>\n",
       "      <td>NaN</td>\n",
       "    </tr>\n",
       "    <tr>\n",
       "      <th>4580</th>\n",
       "      <td>country_9</td>\n",
       "      <td>brand_187</td>\n",
       "      <td>20</td>\n",
       "      <td>NaN</td>\n",
       "      <td>NaN</td>\n",
       "      <td>NaN</td>\n",
       "    </tr>\n",
       "    <tr>\n",
       "      <th>4581</th>\n",
       "      <td>country_9</td>\n",
       "      <td>brand_187</td>\n",
       "      <td>21</td>\n",
       "      <td>NaN</td>\n",
       "      <td>NaN</td>\n",
       "      <td>NaN</td>\n",
       "    </tr>\n",
       "    <tr>\n",
       "      <th>4582</th>\n",
       "      <td>country_9</td>\n",
       "      <td>brand_187</td>\n",
       "      <td>22</td>\n",
       "      <td>NaN</td>\n",
       "      <td>NaN</td>\n",
       "      <td>NaN</td>\n",
       "    </tr>\n",
       "    <tr>\n",
       "      <th>4583</th>\n",
       "      <td>country_9</td>\n",
       "      <td>brand_187</td>\n",
       "      <td>23</td>\n",
       "      <td>NaN</td>\n",
       "      <td>NaN</td>\n",
       "      <td>NaN</td>\n",
       "    </tr>\n",
       "  </tbody>\n",
       "</table>\n",
       "<p>4584 rows × 6 columns</p>\n",
       "</div>"
      ],
      "text/plain": [
       "        country      brand  month_num  pred_95_low  prediction  pred_95_high\n",
       "0     country_1  brand_121          0          NaN         NaN           NaN\n",
       "1     country_1  brand_121          1          NaN         NaN           NaN\n",
       "2     country_1  brand_121          2          NaN         NaN           NaN\n",
       "3     country_1  brand_121          3          NaN         NaN           NaN\n",
       "4     country_1  brand_121          4          NaN         NaN           NaN\n",
       "...         ...        ...        ...          ...         ...           ...\n",
       "4579  country_9  brand_187         19          NaN         NaN           NaN\n",
       "4580  country_9  brand_187         20          NaN         NaN           NaN\n",
       "4581  country_9  brand_187         21          NaN         NaN           NaN\n",
       "4582  country_9  brand_187         22          NaN         NaN           NaN\n",
       "4583  country_9  brand_187         23          NaN         NaN           NaN\n",
       "\n",
       "[4584 rows x 6 columns]"
      ]
     },
     "execution_count": 170,
     "metadata": {},
     "output_type": "execute_result"
    }
   ],
   "source": [
    "subm = pd.read_csv('submission_template.csv')\n",
    "subm"
   ]
  },
  {
   "cell_type": "code",
   "execution_count": 171,
   "metadata": {
    "ExecuteTime": {
     "end_time": "2020-11-26T18:22:31.605228Z",
     "start_time": "2020-11-26T18:22:31.534189Z"
    },
    "hidden": true
   },
   "outputs": [
    {
     "data": {
      "text/html": [
       "<div>\n",
       "<style scoped>\n",
       "    .dataframe tbody tr th:only-of-type {\n",
       "        vertical-align: middle;\n",
       "    }\n",
       "\n",
       "    .dataframe tbody tr th {\n",
       "        vertical-align: top;\n",
       "    }\n",
       "\n",
       "    .dataframe thead th {\n",
       "        text-align: right;\n",
       "    }\n",
       "</style>\n",
       "<table border=\"1\" class=\"dataframe\">\n",
       "  <thead>\n",
       "    <tr style=\"text-align: right;\">\n",
       "      <th></th>\n",
       "      <th>country</th>\n",
       "      <th>brand</th>\n",
       "      <th>volume</th>\n",
       "      <th>month_num</th>\n",
       "      <th>month_name</th>\n",
       "      <th>pred_95_low</th>\n",
       "      <th>prediction</th>\n",
       "      <th>pred_95_high</th>\n",
       "    </tr>\n",
       "  </thead>\n",
       "  <tbody>\n",
       "    <tr>\n",
       "      <th>0</th>\n",
       "      <td>country_1</td>\n",
       "      <td>brand_121</td>\n",
       "      <td>3.327128e+07</td>\n",
       "      <td>0</td>\n",
       "      <td>Jun</td>\n",
       "      <td>NaN</td>\n",
       "      <td>NaN</td>\n",
       "      <td>NaN</td>\n",
       "    </tr>\n",
       "    <tr>\n",
       "      <th>1</th>\n",
       "      <td>country_1</td>\n",
       "      <td>brand_121</td>\n",
       "      <td>1.276786e+07</td>\n",
       "      <td>1</td>\n",
       "      <td>Jul</td>\n",
       "      <td>NaN</td>\n",
       "      <td>NaN</td>\n",
       "      <td>NaN</td>\n",
       "    </tr>\n",
       "    <tr>\n",
       "      <th>2</th>\n",
       "      <td>country_1</td>\n",
       "      <td>brand_121</td>\n",
       "      <td>7.870697e+06</td>\n",
       "      <td>2</td>\n",
       "      <td>Aug</td>\n",
       "      <td>NaN</td>\n",
       "      <td>NaN</td>\n",
       "      <td>NaN</td>\n",
       "    </tr>\n",
       "    <tr>\n",
       "      <th>3</th>\n",
       "      <td>country_1</td>\n",
       "      <td>brand_121</td>\n",
       "      <td>6.978249e+06</td>\n",
       "      <td>3</td>\n",
       "      <td>Sep</td>\n",
       "      <td>NaN</td>\n",
       "      <td>NaN</td>\n",
       "      <td>NaN</td>\n",
       "    </tr>\n",
       "    <tr>\n",
       "      <th>4</th>\n",
       "      <td>country_1</td>\n",
       "      <td>brand_121</td>\n",
       "      <td>7.223489e+06</td>\n",
       "      <td>4</td>\n",
       "      <td>Oct</td>\n",
       "      <td>NaN</td>\n",
       "      <td>NaN</td>\n",
       "      <td>NaN</td>\n",
       "    </tr>\n",
       "    <tr>\n",
       "      <th>...</th>\n",
       "      <td>...</td>\n",
       "      <td>...</td>\n",
       "      <td>...</td>\n",
       "      <td>...</td>\n",
       "      <td>...</td>\n",
       "      <td>...</td>\n",
       "      <td>...</td>\n",
       "      <td>...</td>\n",
       "    </tr>\n",
       "    <tr>\n",
       "      <th>589</th>\n",
       "      <td>country_8</td>\n",
       "      <td>brand_70</td>\n",
       "      <td>2.698856e+08</td>\n",
       "      <td>0</td>\n",
       "      <td>Oct</td>\n",
       "      <td>NaN</td>\n",
       "      <td>NaN</td>\n",
       "      <td>NaN</td>\n",
       "    </tr>\n",
       "    <tr>\n",
       "      <th>590</th>\n",
       "      <td>country_8</td>\n",
       "      <td>brand_70</td>\n",
       "      <td>2.491100e+08</td>\n",
       "      <td>1</td>\n",
       "      <td>Nov</td>\n",
       "      <td>NaN</td>\n",
       "      <td>NaN</td>\n",
       "      <td>NaN</td>\n",
       "    </tr>\n",
       "    <tr>\n",
       "      <th>591</th>\n",
       "      <td>country_8</td>\n",
       "      <td>brand_70</td>\n",
       "      <td>3.027820e+08</td>\n",
       "      <td>2</td>\n",
       "      <td>Dec</td>\n",
       "      <td>NaN</td>\n",
       "      <td>NaN</td>\n",
       "      <td>NaN</td>\n",
       "    </tr>\n",
       "    <tr>\n",
       "      <th>592</th>\n",
       "      <td>country_8</td>\n",
       "      <td>brand_70</td>\n",
       "      <td>1.983534e+08</td>\n",
       "      <td>3</td>\n",
       "      <td>Jan</td>\n",
       "      <td>NaN</td>\n",
       "      <td>NaN</td>\n",
       "      <td>NaN</td>\n",
       "    </tr>\n",
       "    <tr>\n",
       "      <th>593</th>\n",
       "      <td>country_8</td>\n",
       "      <td>brand_70</td>\n",
       "      <td>1.757023e+08</td>\n",
       "      <td>4</td>\n",
       "      <td>Feb</td>\n",
       "      <td>NaN</td>\n",
       "      <td>NaN</td>\n",
       "      <td>NaN</td>\n",
       "    </tr>\n",
       "  </tbody>\n",
       "</table>\n",
       "<p>594 rows × 8 columns</p>\n",
       "</div>"
      ],
      "text/plain": [
       "       country      brand        volume  month_num month_name  pred_95_low  \\\n",
       "0    country_1  brand_121  3.327128e+07          0        Jun          NaN   \n",
       "1    country_1  brand_121  1.276786e+07          1        Jul          NaN   \n",
       "2    country_1  brand_121  7.870697e+06          2        Aug          NaN   \n",
       "3    country_1  brand_121  6.978249e+06          3        Sep          NaN   \n",
       "4    country_1  brand_121  7.223489e+06          4        Oct          NaN   \n",
       "..         ...        ...           ...        ...        ...          ...   \n",
       "589  country_8   brand_70  2.698856e+08          0        Oct          NaN   \n",
       "590  country_8   brand_70  2.491100e+08          1        Nov          NaN   \n",
       "591  country_8   brand_70  3.027820e+08          2        Dec          NaN   \n",
       "592  country_8   brand_70  1.983534e+08          3        Jan          NaN   \n",
       "593  country_8   brand_70  1.757023e+08          4        Feb          NaN   \n",
       "\n",
       "     prediction  pred_95_high  \n",
       "0           NaN           NaN  \n",
       "1           NaN           NaN  \n",
       "2           NaN           NaN  \n",
       "3           NaN           NaN  \n",
       "4           NaN           NaN  \n",
       "..          ...           ...  \n",
       "589         NaN           NaN  \n",
       "590         NaN           NaN  \n",
       "591         NaN           NaN  \n",
       "592         NaN           NaN  \n",
       "593         NaN           NaN  \n",
       "\n",
       "[594 rows x 8 columns]"
      ]
     },
     "execution_count": 171,
     "metadata": {},
     "output_type": "execute_result"
    }
   ],
   "source": [
    "pd.merge(volume, subm,left_on=['country','brand','month_num'], right_on = ['country','brand','month_num'])"
   ]
  },
  {
   "cell_type": "code",
   "execution_count": 172,
   "metadata": {
    "ExecuteTime": {
     "end_time": "2020-11-26T18:22:31.614916Z",
     "start_time": "2020-11-26T18:22:31.608754Z"
    },
    "hidden": true
   },
   "outputs": [
    {
     "data": {
      "text/plain": [
       "0.12958115183246074"
      ]
     },
     "execution_count": 172,
     "metadata": {},
     "output_type": "execute_result"
    }
   ],
   "source": [
    "594/4584"
   ]
  },
  {
   "cell_type": "markdown",
   "metadata": {
    "heading_collapsed": true
   },
   "source": [
    "## Full"
   ]
  },
  {
   "cell_type": "code",
   "execution_count": 211,
   "metadata": {
    "ExecuteTime": {
     "end_time": "2020-11-26T18:37:58.090981Z",
     "start_time": "2020-11-26T18:37:58.038937Z"
    },
    "hidden": true
   },
   "outputs": [
    {
     "data": {
      "text/html": [
       "<div>\n",
       "<style scoped>\n",
       "    .dataframe tbody tr th:only-of-type {\n",
       "        vertical-align: middle;\n",
       "    }\n",
       "\n",
       "    .dataframe tbody tr th {\n",
       "        vertical-align: top;\n",
       "    }\n",
       "\n",
       "    .dataframe thead th {\n",
       "        text-align: right;\n",
       "    }\n",
       "</style>\n",
       "<table border=\"1\" class=\"dataframe\">\n",
       "  <thead>\n",
       "    <tr style=\"text-align: right;\">\n",
       "      <th></th>\n",
       "      <th>country</th>\n",
       "      <th>brand</th>\n",
       "      <th>volume</th>\n",
       "      <th>month_num</th>\n",
       "      <th>month_name</th>\n",
       "    </tr>\n",
       "  </thead>\n",
       "  <tbody>\n",
       "    <tr>\n",
       "      <th>0</th>\n",
       "      <td>country_1</td>\n",
       "      <td>brand_3</td>\n",
       "      <td>18509088.60</td>\n",
       "      <td>-88</td>\n",
       "      <td>Jul</td>\n",
       "    </tr>\n",
       "    <tr>\n",
       "      <th>1</th>\n",
       "      <td>country_1</td>\n",
       "      <td>brand_3</td>\n",
       "      <td>19697508.00</td>\n",
       "      <td>-87</td>\n",
       "      <td>Aug</td>\n",
       "    </tr>\n",
       "    <tr>\n",
       "      <th>2</th>\n",
       "      <td>country_1</td>\n",
       "      <td>brand_3</td>\n",
       "      <td>18315721.80</td>\n",
       "      <td>-86</td>\n",
       "      <td>Sep</td>\n",
       "    </tr>\n",
       "    <tr>\n",
       "      <th>3</th>\n",
       "      <td>country_1</td>\n",
       "      <td>brand_3</td>\n",
       "      <td>19831199.40</td>\n",
       "      <td>-85</td>\n",
       "      <td>Oct</td>\n",
       "    </tr>\n",
       "    <tr>\n",
       "      <th>4</th>\n",
       "      <td>country_1</td>\n",
       "      <td>brand_3</td>\n",
       "      <td>18593281.80</td>\n",
       "      <td>-84</td>\n",
       "      <td>Nov</td>\n",
       "    </tr>\n",
       "    <tr>\n",
       "      <th>...</th>\n",
       "      <td>...</td>\n",
       "      <td>...</td>\n",
       "      <td>...</td>\n",
       "      <td>...</td>\n",
       "      <td>...</td>\n",
       "    </tr>\n",
       "    <tr>\n",
       "      <th>94949</th>\n",
       "      <td>country_16</td>\n",
       "      <td>brand_484</td>\n",
       "      <td>2228935.30</td>\n",
       "      <td>-5</td>\n",
       "      <td>Feb</td>\n",
       "    </tr>\n",
       "    <tr>\n",
       "      <th>94950</th>\n",
       "      <td>country_16</td>\n",
       "      <td>brand_484</td>\n",
       "      <td>2716993.72</td>\n",
       "      <td>-4</td>\n",
       "      <td>Mar</td>\n",
       "    </tr>\n",
       "    <tr>\n",
       "      <th>94951</th>\n",
       "      <td>country_16</td>\n",
       "      <td>brand_484</td>\n",
       "      <td>2018832.66</td>\n",
       "      <td>-3</td>\n",
       "      <td>Apr</td>\n",
       "    </tr>\n",
       "    <tr>\n",
       "      <th>94952</th>\n",
       "      <td>country_16</td>\n",
       "      <td>brand_484</td>\n",
       "      <td>1997465.68</td>\n",
       "      <td>-2</td>\n",
       "      <td>May</td>\n",
       "    </tr>\n",
       "    <tr>\n",
       "      <th>94953</th>\n",
       "      <td>country_16</td>\n",
       "      <td>brand_484</td>\n",
       "      <td>2306204.92</td>\n",
       "      <td>-1</td>\n",
       "      <td>Jun</td>\n",
       "    </tr>\n",
       "  </tbody>\n",
       "</table>\n",
       "<p>94954 rows × 5 columns</p>\n",
       "</div>"
      ],
      "text/plain": [
       "          country      brand       volume  month_num month_name\n",
       "0       country_1    brand_3  18509088.60        -88        Jul\n",
       "1       country_1    brand_3  19697508.00        -87        Aug\n",
       "2       country_1    brand_3  18315721.80        -86        Sep\n",
       "3       country_1    brand_3  19831199.40        -85        Oct\n",
       "4       country_1    brand_3  18593281.80        -84        Nov\n",
       "...           ...        ...          ...        ...        ...\n",
       "94949  country_16  brand_484   2228935.30         -5        Feb\n",
       "94950  country_16  brand_484   2716993.72         -4        Mar\n",
       "94951  country_16  brand_484   2018832.66         -3        Apr\n",
       "94952  country_16  brand_484   1997465.68         -2        May\n",
       "94953  country_16  brand_484   2306204.92         -1        Jun\n",
       "\n",
       "[94954 rows x 5 columns]"
      ]
     },
     "execution_count": 211,
     "metadata": {},
     "output_type": "execute_result"
    }
   ],
   "source": [
    "volume"
   ]
  },
  {
   "cell_type": "code",
   "execution_count": 212,
   "metadata": {
    "ExecuteTime": {
     "end_time": "2020-11-26T18:38:20.873418Z",
     "start_time": "2020-11-26T18:38:20.830483Z"
    },
    "hidden": true
   },
   "outputs": [
    {
     "data": {
      "text/html": [
       "<div>\n",
       "<style scoped>\n",
       "    .dataframe tbody tr th:only-of-type {\n",
       "        vertical-align: middle;\n",
       "    }\n",
       "\n",
       "    .dataframe tbody tr th {\n",
       "        vertical-align: top;\n",
       "    }\n",
       "\n",
       "    .dataframe thead th {\n",
       "        text-align: right;\n",
       "    }\n",
       "</style>\n",
       "<table border=\"1\" class=\"dataframe\">\n",
       "  <thead>\n",
       "    <tr style=\"text-align: right;\">\n",
       "      <th></th>\n",
       "      <th>country</th>\n",
       "      <th>brand</th>\n",
       "      <th>num_generics</th>\n",
       "    </tr>\n",
       "  </thead>\n",
       "  <tbody>\n",
       "    <tr>\n",
       "      <th>0</th>\n",
       "      <td>country_1</td>\n",
       "      <td>brand_3</td>\n",
       "      <td>3</td>\n",
       "    </tr>\n",
       "    <tr>\n",
       "      <th>1</th>\n",
       "      <td>country_1</td>\n",
       "      <td>brand_4</td>\n",
       "      <td>1</td>\n",
       "    </tr>\n",
       "    <tr>\n",
       "      <th>2</th>\n",
       "      <td>country_1</td>\n",
       "      <td>brand_10</td>\n",
       "      <td>6</td>\n",
       "    </tr>\n",
       "    <tr>\n",
       "      <th>3</th>\n",
       "      <td>country_1</td>\n",
       "      <td>brand_14</td>\n",
       "      <td>1</td>\n",
       "    </tr>\n",
       "    <tr>\n",
       "      <th>4</th>\n",
       "      <td>country_1</td>\n",
       "      <td>brand_18</td>\n",
       "      <td>1</td>\n",
       "    </tr>\n",
       "    <tr>\n",
       "      <th>...</th>\n",
       "      <td>...</td>\n",
       "      <td>...</td>\n",
       "      <td>...</td>\n",
       "    </tr>\n",
       "    <tr>\n",
       "      <th>1073</th>\n",
       "      <td>country_16</td>\n",
       "      <td>brand_477</td>\n",
       "      <td>1</td>\n",
       "    </tr>\n",
       "    <tr>\n",
       "      <th>1074</th>\n",
       "      <td>country_16</td>\n",
       "      <td>brand_478</td>\n",
       "      <td>1</td>\n",
       "    </tr>\n",
       "    <tr>\n",
       "      <th>1075</th>\n",
       "      <td>country_16</td>\n",
       "      <td>brand_481</td>\n",
       "      <td>1</td>\n",
       "    </tr>\n",
       "    <tr>\n",
       "      <th>1076</th>\n",
       "      <td>country_16</td>\n",
       "      <td>brand_483</td>\n",
       "      <td>1</td>\n",
       "    </tr>\n",
       "    <tr>\n",
       "      <th>1077</th>\n",
       "      <td>country_16</td>\n",
       "      <td>brand_484</td>\n",
       "      <td>1</td>\n",
       "    </tr>\n",
       "  </tbody>\n",
       "</table>\n",
       "<p>1078 rows × 3 columns</p>\n",
       "</div>"
      ],
      "text/plain": [
       "         country      brand  num_generics\n",
       "0      country_1    brand_3             3\n",
       "1      country_1    brand_4             1\n",
       "2      country_1   brand_10             6\n",
       "3      country_1   brand_14             1\n",
       "4      country_1   brand_18             1\n",
       "...          ...        ...           ...\n",
       "1073  country_16  brand_477             1\n",
       "1074  country_16  brand_478             1\n",
       "1075  country_16  brand_481             1\n",
       "1076  country_16  brand_483             1\n",
       "1077  country_16  brand_484             1\n",
       "\n",
       "[1078 rows x 3 columns]"
      ]
     },
     "execution_count": 212,
     "metadata": {},
     "output_type": "execute_result"
    }
   ],
   "source": [
    "generic"
   ]
  },
  {
   "cell_type": "code",
   "execution_count": 214,
   "metadata": {
    "ExecuteTime": {
     "end_time": "2020-11-26T18:38:59.142597Z",
     "start_time": "2020-11-26T18:38:59.100926Z"
    },
    "hidden": true
   },
   "outputs": [],
   "source": [
    "a = pd.merge(volume, generic,how='left',left_on=['country','brand'], right_on = ['country','brand'])"
   ]
  },
  {
   "cell_type": "code",
   "execution_count": 220,
   "metadata": {
    "ExecuteTime": {
     "end_time": "2020-11-26T18:39:57.869991Z",
     "start_time": "2020-11-26T18:39:57.753097Z"
    },
    "hidden": true
   },
   "outputs": [
    {
     "data": {
      "text/html": [
       "<div>\n",
       "<style scoped>\n",
       "    .dataframe tbody tr th:only-of-type {\n",
       "        vertical-align: middle;\n",
       "    }\n",
       "\n",
       "    .dataframe tbody tr th {\n",
       "        vertical-align: top;\n",
       "    }\n",
       "\n",
       "    .dataframe thead th {\n",
       "        text-align: right;\n",
       "    }\n",
       "</style>\n",
       "<table border=\"1\" class=\"dataframe\">\n",
       "  <thead>\n",
       "    <tr style=\"text-align: right;\">\n",
       "      <th></th>\n",
       "      <th>country</th>\n",
       "      <th>brand</th>\n",
       "      <th>volume</th>\n",
       "      <th>month_num</th>\n",
       "      <th>month_name</th>\n",
       "      <th>num_generics</th>\n",
       "      <th>presentation</th>\n",
       "    </tr>\n",
       "  </thead>\n",
       "  <tbody>\n",
       "    <tr>\n",
       "      <th>0</th>\n",
       "      <td>country_1</td>\n",
       "      <td>brand_3</td>\n",
       "      <td>18509088.60</td>\n",
       "      <td>-88</td>\n",
       "      <td>Jul</td>\n",
       "      <td>3</td>\n",
       "      <td>PILL</td>\n",
       "    </tr>\n",
       "    <tr>\n",
       "      <th>1</th>\n",
       "      <td>country_1</td>\n",
       "      <td>brand_3</td>\n",
       "      <td>19697508.00</td>\n",
       "      <td>-87</td>\n",
       "      <td>Aug</td>\n",
       "      <td>3</td>\n",
       "      <td>PILL</td>\n",
       "    </tr>\n",
       "    <tr>\n",
       "      <th>2</th>\n",
       "      <td>country_1</td>\n",
       "      <td>brand_3</td>\n",
       "      <td>18315721.80</td>\n",
       "      <td>-86</td>\n",
       "      <td>Sep</td>\n",
       "      <td>3</td>\n",
       "      <td>PILL</td>\n",
       "    </tr>\n",
       "    <tr>\n",
       "      <th>3</th>\n",
       "      <td>country_1</td>\n",
       "      <td>brand_3</td>\n",
       "      <td>19831199.40</td>\n",
       "      <td>-85</td>\n",
       "      <td>Oct</td>\n",
       "      <td>3</td>\n",
       "      <td>PILL</td>\n",
       "    </tr>\n",
       "    <tr>\n",
       "      <th>4</th>\n",
       "      <td>country_1</td>\n",
       "      <td>brand_3</td>\n",
       "      <td>18593281.80</td>\n",
       "      <td>-84</td>\n",
       "      <td>Nov</td>\n",
       "      <td>3</td>\n",
       "      <td>PILL</td>\n",
       "    </tr>\n",
       "    <tr>\n",
       "      <th>...</th>\n",
       "      <td>...</td>\n",
       "      <td>...</td>\n",
       "      <td>...</td>\n",
       "      <td>...</td>\n",
       "      <td>...</td>\n",
       "      <td>...</td>\n",
       "      <td>...</td>\n",
       "    </tr>\n",
       "    <tr>\n",
       "      <th>94949</th>\n",
       "      <td>country_16</td>\n",
       "      <td>brand_484</td>\n",
       "      <td>2228935.30</td>\n",
       "      <td>-5</td>\n",
       "      <td>Feb</td>\n",
       "      <td>1</td>\n",
       "      <td>OTHER</td>\n",
       "    </tr>\n",
       "    <tr>\n",
       "      <th>94950</th>\n",
       "      <td>country_16</td>\n",
       "      <td>brand_484</td>\n",
       "      <td>2716993.72</td>\n",
       "      <td>-4</td>\n",
       "      <td>Mar</td>\n",
       "      <td>1</td>\n",
       "      <td>OTHER</td>\n",
       "    </tr>\n",
       "    <tr>\n",
       "      <th>94951</th>\n",
       "      <td>country_16</td>\n",
       "      <td>brand_484</td>\n",
       "      <td>2018832.66</td>\n",
       "      <td>-3</td>\n",
       "      <td>Apr</td>\n",
       "      <td>1</td>\n",
       "      <td>OTHER</td>\n",
       "    </tr>\n",
       "    <tr>\n",
       "      <th>94952</th>\n",
       "      <td>country_16</td>\n",
       "      <td>brand_484</td>\n",
       "      <td>1997465.68</td>\n",
       "      <td>-2</td>\n",
       "      <td>May</td>\n",
       "      <td>1</td>\n",
       "      <td>OTHER</td>\n",
       "    </tr>\n",
       "    <tr>\n",
       "      <th>94953</th>\n",
       "      <td>country_16</td>\n",
       "      <td>brand_484</td>\n",
       "      <td>2306204.92</td>\n",
       "      <td>-1</td>\n",
       "      <td>Jun</td>\n",
       "      <td>1</td>\n",
       "      <td>OTHER</td>\n",
       "    </tr>\n",
       "  </tbody>\n",
       "</table>\n",
       "<p>94954 rows × 7 columns</p>\n",
       "</div>"
      ],
      "text/plain": [
       "          country      brand       volume  month_num month_name  num_generics  \\\n",
       "0       country_1    brand_3  18509088.60        -88        Jul             3   \n",
       "1       country_1    brand_3  19697508.00        -87        Aug             3   \n",
       "2       country_1    brand_3  18315721.80        -86        Sep             3   \n",
       "3       country_1    brand_3  19831199.40        -85        Oct             3   \n",
       "4       country_1    brand_3  18593281.80        -84        Nov             3   \n",
       "...           ...        ...          ...        ...        ...           ...   \n",
       "94949  country_16  brand_484   2228935.30         -5        Feb             1   \n",
       "94950  country_16  brand_484   2716993.72         -4        Mar             1   \n",
       "94951  country_16  brand_484   2018832.66         -3        Apr             1   \n",
       "94952  country_16  brand_484   1997465.68         -2        May             1   \n",
       "94953  country_16  brand_484   2306204.92         -1        Jun             1   \n",
       "\n",
       "      presentation  \n",
       "0             PILL  \n",
       "1             PILL  \n",
       "2             PILL  \n",
       "3             PILL  \n",
       "4             PILL  \n",
       "...            ...  \n",
       "94949        OTHER  \n",
       "94950        OTHER  \n",
       "94951        OTHER  \n",
       "94952        OTHER  \n",
       "94953        OTHER  \n",
       "\n",
       "[94954 rows x 7 columns]"
      ]
     },
     "execution_count": 220,
     "metadata": {},
     "output_type": "execute_result"
    }
   ],
   "source": [
    "full = pd.merge(volume, generic,how='left',left_on=['country','brand'], right_on = ['country','brand'])\n",
    "\n",
    "\n",
    "# package \n",
    "full = pd.merge(full, package,how='left',left_on=['country','brand'], right_on = ['country','brand'])\n",
    "full"
   ]
  },
  {
   "cell_type": "code",
   "execution_count": 232,
   "metadata": {
    "ExecuteTime": {
     "end_time": "2020-11-26T18:45:00.550152Z",
     "start_time": "2020-11-26T18:45:00.525802Z"
    },
    "hidden": true
   },
   "outputs": [
    {
     "data": {
      "text/html": [
       "<div>\n",
       "<style scoped>\n",
       "    .dataframe tbody tr th:only-of-type {\n",
       "        vertical-align: middle;\n",
       "    }\n",
       "\n",
       "    .dataframe tbody tr th {\n",
       "        vertical-align: top;\n",
       "    }\n",
       "\n",
       "    .dataframe thead th {\n",
       "        text-align: right;\n",
       "    }\n",
       "</style>\n",
       "<table border=\"1\" class=\"dataframe\">\n",
       "  <thead>\n",
       "    <tr style=\"text-align: right;\">\n",
       "      <th></th>\n",
       "      <th>country</th>\n",
       "      <th>brand</th>\n",
       "      <th>channel</th>\n",
       "      <th>channel_rate</th>\n",
       "    </tr>\n",
       "  </thead>\n",
       "  <tbody>\n",
       "    <tr>\n",
       "      <th>0</th>\n",
       "      <td>country_1</td>\n",
       "      <td>brand_3</td>\n",
       "      <td>B</td>\n",
       "      <td>1.189704</td>\n",
       "    </tr>\n",
       "    <tr>\n",
       "      <th>1</th>\n",
       "      <td>country_1</td>\n",
       "      <td>brand_3</td>\n",
       "      <td>D</td>\n",
       "      <td>98.810296</td>\n",
       "    </tr>\n",
       "    <tr>\n",
       "      <th>2</th>\n",
       "      <td>country_1</td>\n",
       "      <td>brand_4</td>\n",
       "      <td>B</td>\n",
       "      <td>0.090229</td>\n",
       "    </tr>\n",
       "    <tr>\n",
       "      <th>3</th>\n",
       "      <td>country_1</td>\n",
       "      <td>brand_4</td>\n",
       "      <td>D</td>\n",
       "      <td>99.909771</td>\n",
       "    </tr>\n",
       "    <tr>\n",
       "      <th>4</th>\n",
       "      <td>country_1</td>\n",
       "      <td>brand_10</td>\n",
       "      <td>B</td>\n",
       "      <td>1.015697</td>\n",
       "    </tr>\n",
       "    <tr>\n",
       "      <th>...</th>\n",
       "      <td>...</td>\n",
       "      <td>...</td>\n",
       "      <td>...</td>\n",
       "      <td>...</td>\n",
       "    </tr>\n",
       "    <tr>\n",
       "      <th>2366</th>\n",
       "      <td>country_16</td>\n",
       "      <td>brand_483</td>\n",
       "      <td>C</td>\n",
       "      <td>1.637647</td>\n",
       "    </tr>\n",
       "    <tr>\n",
       "      <th>2367</th>\n",
       "      <td>country_16</td>\n",
       "      <td>brand_483</td>\n",
       "      <td>D</td>\n",
       "      <td>96.945568</td>\n",
       "    </tr>\n",
       "    <tr>\n",
       "      <th>2368</th>\n",
       "      <td>country_16</td>\n",
       "      <td>brand_484</td>\n",
       "      <td>B</td>\n",
       "      <td>48.216226</td>\n",
       "    </tr>\n",
       "    <tr>\n",
       "      <th>2369</th>\n",
       "      <td>country_16</td>\n",
       "      <td>brand_484</td>\n",
       "      <td>C</td>\n",
       "      <td>2.557450</td>\n",
       "    </tr>\n",
       "    <tr>\n",
       "      <th>2370</th>\n",
       "      <td>country_16</td>\n",
       "      <td>brand_484</td>\n",
       "      <td>D</td>\n",
       "      <td>49.226323</td>\n",
       "    </tr>\n",
       "  </tbody>\n",
       "</table>\n",
       "<p>2371 rows × 4 columns</p>\n",
       "</div>"
      ],
      "text/plain": [
       "         country      brand channel  channel_rate\n",
       "0      country_1    brand_3       B      1.189704\n",
       "1      country_1    brand_3       D     98.810296\n",
       "2      country_1    brand_4       B      0.090229\n",
       "3      country_1    brand_4       D     99.909771\n",
       "4      country_1   brand_10       B      1.015697\n",
       "...          ...        ...     ...           ...\n",
       "2366  country_16  brand_483       C      1.637647\n",
       "2367  country_16  brand_483       D     96.945568\n",
       "2368  country_16  brand_484       B     48.216226\n",
       "2369  country_16  brand_484       C      2.557450\n",
       "2370  country_16  brand_484       D     49.226323\n",
       "\n",
       "[2371 rows x 4 columns]"
      ]
     },
     "execution_count": 232,
     "metadata": {},
     "output_type": "execute_result"
    }
   ],
   "source": [
    "panel"
   ]
  },
  {
   "cell_type": "code",
   "execution_count": 236,
   "metadata": {
    "ExecuteTime": {
     "end_time": "2020-11-26T18:47:10.967335Z",
     "start_time": "2020-11-26T18:47:10.907325Z"
    },
    "hidden": true,
    "scrolled": false
   },
   "outputs": [
    {
     "data": {
      "text/html": [
       "<div>\n",
       "<style scoped>\n",
       "    .dataframe tbody tr th:only-of-type {\n",
       "        vertical-align: middle;\n",
       "    }\n",
       "\n",
       "    .dataframe tbody tr th {\n",
       "        vertical-align: top;\n",
       "    }\n",
       "\n",
       "    .dataframe thead tr th {\n",
       "        text-align: left;\n",
       "    }\n",
       "\n",
       "    .dataframe thead tr:last-of-type th {\n",
       "        text-align: right;\n",
       "    }\n",
       "</style>\n",
       "<table border=\"1\" class=\"dataframe\">\n",
       "  <thead>\n",
       "    <tr>\n",
       "      <th></th>\n",
       "      <th></th>\n",
       "      <th></th>\n",
       "      <th colspan=\"5\" halign=\"left\">channel_rate</th>\n",
       "    </tr>\n",
       "    <tr>\n",
       "      <th></th>\n",
       "      <th></th>\n",
       "      <th></th>\n",
       "      <th>min</th>\n",
       "      <th>max</th>\n",
       "      <th>sum</th>\n",
       "      <th>mean</th>\n",
       "      <th>median</th>\n",
       "    </tr>\n",
       "    <tr>\n",
       "      <th>country</th>\n",
       "      <th>brand</th>\n",
       "      <th>channel</th>\n",
       "      <th></th>\n",
       "      <th></th>\n",
       "      <th></th>\n",
       "      <th></th>\n",
       "      <th></th>\n",
       "    </tr>\n",
       "  </thead>\n",
       "  <tbody>\n",
       "    <tr>\n",
       "      <th rowspan=\"5\" valign=\"top\">country_1</th>\n",
       "      <th rowspan=\"2\" valign=\"top\">brand_10</th>\n",
       "      <th>B</th>\n",
       "      <td>1.015697</td>\n",
       "      <td>1.015697</td>\n",
       "      <td>1.015697</td>\n",
       "      <td>1.015697</td>\n",
       "      <td>1.015697</td>\n",
       "    </tr>\n",
       "    <tr>\n",
       "      <th>D</th>\n",
       "      <td>98.984303</td>\n",
       "      <td>98.984303</td>\n",
       "      <td>98.984303</td>\n",
       "      <td>98.984303</td>\n",
       "      <td>98.984303</td>\n",
       "    </tr>\n",
       "    <tr>\n",
       "      <th rowspan=\"2\" valign=\"top\">brand_102</th>\n",
       "      <th>B</th>\n",
       "      <td>0.109766</td>\n",
       "      <td>0.109766</td>\n",
       "      <td>0.109766</td>\n",
       "      <td>0.109766</td>\n",
       "      <td>0.109766</td>\n",
       "    </tr>\n",
       "    <tr>\n",
       "      <th>D</th>\n",
       "      <td>99.890234</td>\n",
       "      <td>99.890234</td>\n",
       "      <td>99.890234</td>\n",
       "      <td>99.890234</td>\n",
       "      <td>99.890234</td>\n",
       "    </tr>\n",
       "    <tr>\n",
       "      <th>brand_115</th>\n",
       "      <th>B</th>\n",
       "      <td>1.992728</td>\n",
       "      <td>1.992728</td>\n",
       "      <td>1.992728</td>\n",
       "      <td>1.992728</td>\n",
       "      <td>1.992728</td>\n",
       "    </tr>\n",
       "    <tr>\n",
       "      <th>...</th>\n",
       "      <th>...</th>\n",
       "      <th>...</th>\n",
       "      <td>...</td>\n",
       "      <td>...</td>\n",
       "      <td>...</td>\n",
       "      <td>...</td>\n",
       "      <td>...</td>\n",
       "    </tr>\n",
       "    <tr>\n",
       "      <th rowspan=\"5\" valign=\"top\">country_9</th>\n",
       "      <th rowspan=\"2\" valign=\"top\">brand_167</th>\n",
       "      <th>B</th>\n",
       "      <td>26.524011</td>\n",
       "      <td>26.524011</td>\n",
       "      <td>26.524011</td>\n",
       "      <td>26.524011</td>\n",
       "      <td>26.524011</td>\n",
       "    </tr>\n",
       "    <tr>\n",
       "      <th>C</th>\n",
       "      <td>73.475989</td>\n",
       "      <td>73.475989</td>\n",
       "      <td>73.475989</td>\n",
       "      <td>73.475989</td>\n",
       "      <td>73.475989</td>\n",
       "    </tr>\n",
       "    <tr>\n",
       "      <th>brand_187</th>\n",
       "      <th>B</th>\n",
       "      <td>100.000000</td>\n",
       "      <td>100.000000</td>\n",
       "      <td>100.000000</td>\n",
       "      <td>100.000000</td>\n",
       "      <td>100.000000</td>\n",
       "    </tr>\n",
       "    <tr>\n",
       "      <th rowspan=\"2\" valign=\"top\">brand_477</th>\n",
       "      <th>B</th>\n",
       "      <td>6.811816</td>\n",
       "      <td>6.811816</td>\n",
       "      <td>6.811816</td>\n",
       "      <td>6.811816</td>\n",
       "      <td>6.811816</td>\n",
       "    </tr>\n",
       "    <tr>\n",
       "      <th>C</th>\n",
       "      <td>93.188184</td>\n",
       "      <td>93.188184</td>\n",
       "      <td>93.188184</td>\n",
       "      <td>93.188184</td>\n",
       "      <td>93.188184</td>\n",
       "    </tr>\n",
       "  </tbody>\n",
       "</table>\n",
       "<p>2371 rows × 5 columns</p>\n",
       "</div>"
      ],
      "text/plain": [
       "                            channel_rate                                      \\\n",
       "                                     min         max         sum        mean   \n",
       "country   brand     channel                                                    \n",
       "country_1 brand_10  B           1.015697    1.015697    1.015697    1.015697   \n",
       "                    D          98.984303   98.984303   98.984303   98.984303   \n",
       "          brand_102 B           0.109766    0.109766    0.109766    0.109766   \n",
       "                    D          99.890234   99.890234   99.890234   99.890234   \n",
       "          brand_115 B           1.992728    1.992728    1.992728    1.992728   \n",
       "...                                  ...         ...         ...         ...   \n",
       "country_9 brand_167 B          26.524011   26.524011   26.524011   26.524011   \n",
       "                    C          73.475989   73.475989   73.475989   73.475989   \n",
       "          brand_187 B         100.000000  100.000000  100.000000  100.000000   \n",
       "          brand_477 B           6.811816    6.811816    6.811816    6.811816   \n",
       "                    C          93.188184   93.188184   93.188184   93.188184   \n",
       "\n",
       "                                         \n",
       "                                 median  \n",
       "country   brand     channel              \n",
       "country_1 brand_10  B          1.015697  \n",
       "                    D         98.984303  \n",
       "          brand_102 B          0.109766  \n",
       "                    D         99.890234  \n",
       "          brand_115 B          1.992728  \n",
       "...                                 ...  \n",
       "country_9 brand_167 B         26.524011  \n",
       "                    C         73.475989  \n",
       "          brand_187 B        100.000000  \n",
       "          brand_477 B          6.811816  \n",
       "                    C         93.188184  \n",
       "\n",
       "[2371 rows x 5 columns]"
      ]
     },
     "execution_count": 236,
     "metadata": {},
     "output_type": "execute_result"
    }
   ],
   "source": [
    "panel.groupby(['country', 'brand','channel'], as_index=False).agg(['min', 'max','sum','mean','median'])"
   ]
  },
  {
   "cell_type": "code",
   "execution_count": 217,
   "metadata": {
    "ExecuteTime": {
     "end_time": "2020-11-26T18:39:18.032848Z",
     "start_time": "2020-11-26T18:39:17.989366Z"
    },
    "hidden": true,
    "scrolled": true
   },
   "outputs": [
    {
     "data": {
      "text/html": [
       "<div>\n",
       "<style scoped>\n",
       "    .dataframe tbody tr th:only-of-type {\n",
       "        vertical-align: middle;\n",
       "    }\n",
       "\n",
       "    .dataframe tbody tr th {\n",
       "        vertical-align: top;\n",
       "    }\n",
       "\n",
       "    .dataframe thead th {\n",
       "        text-align: right;\n",
       "    }\n",
       "</style>\n",
       "<table border=\"1\" class=\"dataframe\">\n",
       "  <thead>\n",
       "    <tr style=\"text-align: right;\">\n",
       "      <th></th>\n",
       "      <th>country</th>\n",
       "      <th>brand</th>\n",
       "      <th>volume</th>\n",
       "      <th>month_num</th>\n",
       "      <th>month_name</th>\n",
       "      <th>num_generics</th>\n",
       "      <th>presentation</th>\n",
       "    </tr>\n",
       "  </thead>\n",
       "  <tbody>\n",
       "    <tr>\n",
       "      <th>0</th>\n",
       "      <td>country_1</td>\n",
       "      <td>brand_3</td>\n",
       "      <td>18509088.60</td>\n",
       "      <td>-88</td>\n",
       "      <td>Jul</td>\n",
       "      <td>3</td>\n",
       "      <td>PILL</td>\n",
       "    </tr>\n",
       "    <tr>\n",
       "      <th>1</th>\n",
       "      <td>country_1</td>\n",
       "      <td>brand_3</td>\n",
       "      <td>19697508.00</td>\n",
       "      <td>-87</td>\n",
       "      <td>Aug</td>\n",
       "      <td>3</td>\n",
       "      <td>PILL</td>\n",
       "    </tr>\n",
       "    <tr>\n",
       "      <th>2</th>\n",
       "      <td>country_1</td>\n",
       "      <td>brand_3</td>\n",
       "      <td>18315721.80</td>\n",
       "      <td>-86</td>\n",
       "      <td>Sep</td>\n",
       "      <td>3</td>\n",
       "      <td>PILL</td>\n",
       "    </tr>\n",
       "    <tr>\n",
       "      <th>3</th>\n",
       "      <td>country_1</td>\n",
       "      <td>brand_3</td>\n",
       "      <td>19831199.40</td>\n",
       "      <td>-85</td>\n",
       "      <td>Oct</td>\n",
       "      <td>3</td>\n",
       "      <td>PILL</td>\n",
       "    </tr>\n",
       "    <tr>\n",
       "      <th>4</th>\n",
       "      <td>country_1</td>\n",
       "      <td>brand_3</td>\n",
       "      <td>18593281.80</td>\n",
       "      <td>-84</td>\n",
       "      <td>Nov</td>\n",
       "      <td>3</td>\n",
       "      <td>PILL</td>\n",
       "    </tr>\n",
       "    <tr>\n",
       "      <th>...</th>\n",
       "      <td>...</td>\n",
       "      <td>...</td>\n",
       "      <td>...</td>\n",
       "      <td>...</td>\n",
       "      <td>...</td>\n",
       "      <td>...</td>\n",
       "      <td>...</td>\n",
       "    </tr>\n",
       "    <tr>\n",
       "      <th>94949</th>\n",
       "      <td>country_16</td>\n",
       "      <td>brand_484</td>\n",
       "      <td>2228935.30</td>\n",
       "      <td>-5</td>\n",
       "      <td>Feb</td>\n",
       "      <td>1</td>\n",
       "      <td>OTHER</td>\n",
       "    </tr>\n",
       "    <tr>\n",
       "      <th>94950</th>\n",
       "      <td>country_16</td>\n",
       "      <td>brand_484</td>\n",
       "      <td>2716993.72</td>\n",
       "      <td>-4</td>\n",
       "      <td>Mar</td>\n",
       "      <td>1</td>\n",
       "      <td>OTHER</td>\n",
       "    </tr>\n",
       "    <tr>\n",
       "      <th>94951</th>\n",
       "      <td>country_16</td>\n",
       "      <td>brand_484</td>\n",
       "      <td>2018832.66</td>\n",
       "      <td>-3</td>\n",
       "      <td>Apr</td>\n",
       "      <td>1</td>\n",
       "      <td>OTHER</td>\n",
       "    </tr>\n",
       "    <tr>\n",
       "      <th>94952</th>\n",
       "      <td>country_16</td>\n",
       "      <td>brand_484</td>\n",
       "      <td>1997465.68</td>\n",
       "      <td>-2</td>\n",
       "      <td>May</td>\n",
       "      <td>1</td>\n",
       "      <td>OTHER</td>\n",
       "    </tr>\n",
       "    <tr>\n",
       "      <th>94953</th>\n",
       "      <td>country_16</td>\n",
       "      <td>brand_484</td>\n",
       "      <td>2306204.92</td>\n",
       "      <td>-1</td>\n",
       "      <td>Jun</td>\n",
       "      <td>1</td>\n",
       "      <td>OTHER</td>\n",
       "    </tr>\n",
       "  </tbody>\n",
       "</table>\n",
       "<p>94954 rows × 7 columns</p>\n",
       "</div>"
      ],
      "text/plain": [
       "          country      brand       volume  month_num month_name  num_generics  \\\n",
       "0       country_1    brand_3  18509088.60        -88        Jul             3   \n",
       "1       country_1    brand_3  19697508.00        -87        Aug             3   \n",
       "2       country_1    brand_3  18315721.80        -86        Sep             3   \n",
       "3       country_1    brand_3  19831199.40        -85        Oct             3   \n",
       "4       country_1    brand_3  18593281.80        -84        Nov             3   \n",
       "...           ...        ...          ...        ...        ...           ...   \n",
       "94949  country_16  brand_484   2228935.30         -5        Feb             1   \n",
       "94950  country_16  brand_484   2716993.72         -4        Mar             1   \n",
       "94951  country_16  brand_484   2018832.66         -3        Apr             1   \n",
       "94952  country_16  brand_484   1997465.68         -2        May             1   \n",
       "94953  country_16  brand_484   2306204.92         -1        Jun             1   \n",
       "\n",
       "      presentation  \n",
       "0             PILL  \n",
       "1             PILL  \n",
       "2             PILL  \n",
       "3             PILL  \n",
       "4             PILL  \n",
       "...            ...  \n",
       "94949        OTHER  \n",
       "94950        OTHER  \n",
       "94951        OTHER  \n",
       "94952        OTHER  \n",
       "94953        OTHER  \n",
       "\n",
       "[94954 rows x 7 columns]"
      ]
     },
     "execution_count": 217,
     "metadata": {},
     "output_type": "execute_result"
    }
   ],
   "source": [
    "full"
   ]
  },
  {
   "cell_type": "code",
   "execution_count": 224,
   "metadata": {
    "ExecuteTime": {
     "end_time": "2020-11-26T18:41:11.526929Z",
     "start_time": "2020-11-26T18:41:11.397594Z"
    },
    "hidden": true
   },
   "outputs": [
    {
     "data": {
      "text/plain": [
       "(207765, 9)"
      ]
     },
     "execution_count": 224,
     "metadata": {},
     "output_type": "execute_result"
    }
   ],
   "source": [
    "# generic\n",
    "full = pd.merge(volume, generic,how='left',left_on=['country','brand'], right_on = ['country','brand'])\n",
    "\n",
    "\n",
    "# package \n",
    "full = pd.merge(full, package,how='left',left_on=['country','brand'], right_on = ['country','brand'])\n",
    "\n",
    "# panel\n",
    "full = pd.merge(full, panel, how='left',left_on=['country','brand'], right_on = ['country','brand'])\n",
    "full.shape"
   ]
  },
  {
   "cell_type": "code",
   "execution_count": null,
   "metadata": {
    "hidden": true
   },
   "outputs": [],
   "source": []
  },
  {
   "cell_type": "code",
   "execution_count": 173,
   "metadata": {
    "ExecuteTime": {
     "end_time": "2020-11-26T18:22:31.774616Z",
     "start_time": "2020-11-26T18:22:31.617446Z"
    },
    "hidden": true,
    "scrolled": false
   },
   "outputs": [
    {
     "data": {
      "text/html": [
       "<div>\n",
       "<style scoped>\n",
       "    .dataframe tbody tr th:only-of-type {\n",
       "        vertical-align: middle;\n",
       "    }\n",
       "\n",
       "    .dataframe tbody tr th {\n",
       "        vertical-align: top;\n",
       "    }\n",
       "\n",
       "    .dataframe thead th {\n",
       "        text-align: right;\n",
       "    }\n",
       "</style>\n",
       "<table border=\"1\" class=\"dataframe\">\n",
       "  <thead>\n",
       "    <tr style=\"text-align: right;\">\n",
       "      <th></th>\n",
       "      <th>country</th>\n",
       "      <th>brand</th>\n",
       "      <th>volume</th>\n",
       "      <th>month_num</th>\n",
       "      <th>month_name</th>\n",
       "      <th>num_generics</th>\n",
       "      <th>presentation</th>\n",
       "      <th>channel</th>\n",
       "      <th>channel_rate</th>\n",
       "      <th>therapeutic_area</th>\n",
       "    </tr>\n",
       "  </thead>\n",
       "  <tbody>\n",
       "    <tr>\n",
       "      <th>0</th>\n",
       "      <td>country_1</td>\n",
       "      <td>brand_3</td>\n",
       "      <td>18509088.6</td>\n",
       "      <td>-88</td>\n",
       "      <td>Jul</td>\n",
       "      <td>3</td>\n",
       "      <td>PILL</td>\n",
       "      <td>B</td>\n",
       "      <td>1.189704</td>\n",
       "      <td>Cardiovascular_Metabolic</td>\n",
       "    </tr>\n",
       "  </tbody>\n",
       "</table>\n",
       "</div>"
      ],
      "text/plain": [
       "     country    brand      volume  month_num month_name  num_generics  \\\n",
       "0  country_1  brand_3  18509088.6        -88        Jul             3   \n",
       "\n",
       "  presentation channel  channel_rate          therapeutic_area  \n",
       "0         PILL       B      1.189704  Cardiovascular_Metabolic  "
      ]
     },
     "execution_count": 173,
     "metadata": {},
     "output_type": "execute_result"
    }
   ],
   "source": [
    "# generic\n",
    "full = pd.merge(volume, generic,how='left',left_on=['country','brand'], right_on = ['country','brand'])\n",
    "\n",
    "\n",
    "# package \n",
    "full = pd.merge(full, package,how='left',left_on=['country','brand'], right_on = ['country','brand'])\n",
    "\n",
    "# panel\n",
    "full = pd.merge(full, panel, how='left',left_on=['country','brand'], right_on = ['country','brand'])\n",
    "\n",
    "# therapeutic\n",
    "full = pd.merge(full, therapeutic_area,how='left',left_on=['brand'], right_on = ['brand'])\n",
    "full.head(1)"
   ]
  },
  {
   "cell_type": "code",
   "execution_count": 174,
   "metadata": {
    "ExecuteTime": {
     "end_time": "2020-11-26T18:22:31.786039Z",
     "start_time": "2020-11-26T18:22:31.779042Z"
    },
    "hidden": true
   },
   "outputs": [
    {
     "data": {
      "text/plain": [
       "(207765, 10)"
      ]
     },
     "execution_count": 174,
     "metadata": {},
     "output_type": "execute_result"
    }
   ],
   "source": [
    "full.shape"
   ]
  },
  {
   "cell_type": "markdown",
   "metadata": {},
   "source": [
    "## Adversarial Trainning"
   ]
  },
  {
   "cell_type": "code",
   "execution_count": 175,
   "metadata": {
    "ExecuteTime": {
     "end_time": "2020-11-26T18:22:31.798698Z",
     "start_time": "2020-11-26T18:22:31.793450Z"
    }
   },
   "outputs": [],
   "source": [
    "from catboost import CatBoostClassifier\n",
    "from sklearn.model_selection import train_test_split\n",
    "from category_encoders.m_estimate import MEstimateEncoder"
   ]
  },
  {
   "cell_type": "code",
   "execution_count": 310,
   "metadata": {
    "ExecuteTime": {
     "end_time": "2020-11-26T19:03:46.075751Z",
     "start_time": "2020-11-26T19:03:45.979248Z"
    }
   },
   "outputs": [],
   "source": [
    "adv = pd.read_csv('data/gx_merged.csv')\n",
    "adv = adv.drop(columns=['month_name','volume',\n",
    "                        #'brand','B','C','D','num_generics'\n",
    "                       ])"
   ]
  },
  {
   "cell_type": "code",
   "execution_count": 311,
   "metadata": {
    "ExecuteTime": {
     "end_time": "2020-11-26T19:03:46.216911Z",
     "start_time": "2020-11-26T19:03:46.210352Z"
    }
   },
   "outputs": [],
   "source": [
    "adv['random'] = np.random.random(adv.shape[0])"
   ]
  },
  {
   "cell_type": "code",
   "execution_count": 312,
   "metadata": {
    "ExecuteTime": {
     "end_time": "2020-11-26T19:03:46.402098Z",
     "start_time": "2020-11-26T19:03:46.385182Z"
    }
   },
   "outputs": [],
   "source": [
    "me = MEstimateEncoder()"
   ]
  },
  {
   "cell_type": "code",
   "execution_count": 313,
   "metadata": {
    "ExecuteTime": {
     "end_time": "2020-11-26T19:03:46.564572Z",
     "start_time": "2020-11-26T19:03:46.543766Z"
    }
   },
   "outputs": [],
   "source": [
    "X = adv.drop(columns=['test'])\n",
    "y = adv.test"
   ]
  },
  {
   "cell_type": "code",
   "execution_count": 314,
   "metadata": {
    "ExecuteTime": {
     "end_time": "2020-11-26T19:03:46.978811Z",
     "start_time": "2020-11-26T19:03:46.700147Z"
    }
   },
   "outputs": [
    {
     "name": "stderr",
     "output_type": "stream",
     "text": [
      "/opt/anaconda3/lib/python3.7/site-packages/category_encoders/utils.py:21: FutureWarning: is_categorical is deprecated and will be removed in a future version.  Use is_categorical_dtype instead\n",
      "  elif pd.api.types.is_categorical(cols):\n"
     ]
    }
   ],
   "source": [
    "X = me.fit_transform(X,y)"
   ]
  },
  {
   "cell_type": "code",
   "execution_count": 315,
   "metadata": {
    "ExecuteTime": {
     "end_time": "2020-11-26T19:03:47.032605Z",
     "start_time": "2020-11-26T19:03:47.004898Z"
    }
   },
   "outputs": [],
   "source": [
    "X_train, X_test, y_train, y_test = train_test_split(X,y, test_size=0.33, random_state=42)"
   ]
  },
  {
   "cell_type": "code",
   "execution_count": 316,
   "metadata": {
    "ExecuteTime": {
     "end_time": "2020-11-26T19:03:48.238973Z",
     "start_time": "2020-11-26T19:03:47.042880Z"
    }
   },
   "outputs": [
    {
     "data": {
      "text/plain": [
       "<catboost.core.CatBoostClassifier at 0x7ff86f2beb50>"
      ]
     },
     "execution_count": 316,
     "metadata": {},
     "output_type": "execute_result"
    }
   ],
   "source": [
    "cb = CatBoostClassifier(iterations=100,verbose=0)\n",
    "cb.fit(X_train,y_train)"
   ]
  },
  {
   "cell_type": "code",
   "execution_count": 317,
   "metadata": {
    "ExecuteTime": {
     "end_time": "2020-11-26T19:03:48.785609Z",
     "start_time": "2020-11-26T19:03:48.246541Z"
    },
    "scrolled": false
   },
   "outputs": [
    {
     "name": "stdout",
     "output_type": "stream",
     "text": [
      "10 features, reduction of 9.09%\n"
     ]
    },
    {
     "data": {
      "image/png": "[encoded data removed]",
      "text/plain": [
       "<Figure size 1296x432 with 1 Axes>"
      ]
     },
     "metadata": {
      "needs_background": "light"
     },
     "output_type": "display_data"
    }
   ],
   "source": [
    "plot_feature_importance(X.columns,cb.get_feature_importance())"
   ]
  },
  {
   "cell_type": "code",
   "execution_count": 318,
   "metadata": {
    "ExecuteTime": {
     "end_time": "2020-11-26T19:03:48.841861Z",
     "start_time": "2020-11-26T19:03:48.796257Z"
    }
   },
   "outputs": [
    {
     "data": {
      "text/plain": [
       "0.9540375847924777"
      ]
     },
     "execution_count": 318,
     "metadata": {},
     "output_type": "execute_result"
    }
   ],
   "source": [
    "roc_auc_score(y_test,cb.predict(X_test))"
   ]
  },
  {
   "cell_type": "code",
   "execution_count": 319,
   "metadata": {
    "ExecuteTime": {
     "end_time": "2020-11-26T19:03:50.042053Z",
     "start_time": "2020-11-26T19:03:50.029077Z"
    }
   },
   "outputs": [
    {
     "data": {
      "text/plain": [
       "Index(['country', 'brand', 'month_num', 'num_generics', 'therapeutic_area',\n",
       "       'presentation', 'B', 'D', 'C', 'A', 'random'],\n",
       "      dtype='object')"
      ]
     },
     "execution_count": 319,
     "metadata": {},
     "output_type": "execute_result"
    }
   ],
   "source": [
    "X.columns"
   ]
  },
  {
   "cell_type": "code",
   "execution_count": 320,
   "metadata": {
    "ExecuteTime": {
     "end_time": "2020-11-26T19:13:49.985944Z",
     "start_time": "2020-11-26T19:13:49.951336Z"
    }
   },
   "outputs": [
    {
     "data": {
      "text/html": [
       "<div>\n",
       "<style scoped>\n",
       "    .dataframe tbody tr th:only-of-type {\n",
       "        vertical-align: middle;\n",
       "    }\n",
       "\n",
       "    .dataframe tbody tr th {\n",
       "        vertical-align: top;\n",
       "    }\n",
       "\n",
       "    .dataframe thead th {\n",
       "        text-align: right;\n",
       "    }\n",
       "</style>\n",
       "<table border=\"1\" class=\"dataframe\">\n",
       "  <thead>\n",
       "    <tr style=\"text-align: right;\">\n",
       "      <th></th>\n",
       "      <th>country</th>\n",
       "      <th>brand</th>\n",
       "      <th>month_num</th>\n",
       "      <th>test</th>\n",
       "      <th>num_generics</th>\n",
       "      <th>therapeutic_area</th>\n",
       "      <th>presentation</th>\n",
       "      <th>B</th>\n",
       "      <th>D</th>\n",
       "      <th>C</th>\n",
       "      <th>A</th>\n",
       "      <th>random</th>\n",
       "    </tr>\n",
       "  </thead>\n",
       "  <tbody>\n",
       "    <tr>\n",
       "      <th>0</th>\n",
       "      <td>country_1</td>\n",
       "      <td>brand_3</td>\n",
       "      <td>0</td>\n",
       "      <td>0</td>\n",
       "      <td>3</td>\n",
       "      <td>Cardiovascular_Metabolic</td>\n",
       "      <td>PILL</td>\n",
       "      <td>1.189704</td>\n",
       "      <td>98.810296</td>\n",
       "      <td>0.0</td>\n",
       "      <td>0</td>\n",
       "      <td>0.127658</td>\n",
       "    </tr>\n",
       "    <tr>\n",
       "      <th>1</th>\n",
       "      <td>country_1</td>\n",
       "      <td>brand_3</td>\n",
       "      <td>1</td>\n",
       "      <td>0</td>\n",
       "      <td>3</td>\n",
       "      <td>Cardiovascular_Metabolic</td>\n",
       "      <td>PILL</td>\n",
       "      <td>1.189704</td>\n",
       "      <td>98.810296</td>\n",
       "      <td>0.0</td>\n",
       "      <td>0</td>\n",
       "      <td>0.754429</td>\n",
       "    </tr>\n",
       "    <tr>\n",
       "      <th>2</th>\n",
       "      <td>country_1</td>\n",
       "      <td>brand_3</td>\n",
       "      <td>2</td>\n",
       "      <td>0</td>\n",
       "      <td>3</td>\n",
       "      <td>Cardiovascular_Metabolic</td>\n",
       "      <td>PILL</td>\n",
       "      <td>1.189704</td>\n",
       "      <td>98.810296</td>\n",
       "      <td>0.0</td>\n",
       "      <td>0</td>\n",
       "      <td>0.905608</td>\n",
       "    </tr>\n",
       "    <tr>\n",
       "      <th>3</th>\n",
       "      <td>country_1</td>\n",
       "      <td>brand_3</td>\n",
       "      <td>3</td>\n",
       "      <td>0</td>\n",
       "      <td>3</td>\n",
       "      <td>Cardiovascular_Metabolic</td>\n",
       "      <td>PILL</td>\n",
       "      <td>1.189704</td>\n",
       "      <td>98.810296</td>\n",
       "      <td>0.0</td>\n",
       "      <td>0</td>\n",
       "      <td>0.739566</td>\n",
       "    </tr>\n",
       "    <tr>\n",
       "      <th>4</th>\n",
       "      <td>country_1</td>\n",
       "      <td>brand_3</td>\n",
       "      <td>4</td>\n",
       "      <td>0</td>\n",
       "      <td>3</td>\n",
       "      <td>Cardiovascular_Metabolic</td>\n",
       "      <td>PILL</td>\n",
       "      <td>1.189704</td>\n",
       "      <td>98.810296</td>\n",
       "      <td>0.0</td>\n",
       "      <td>0</td>\n",
       "      <td>0.978756</td>\n",
       "    </tr>\n",
       "    <tr>\n",
       "      <th>...</th>\n",
       "      <td>...</td>\n",
       "      <td>...</td>\n",
       "      <td>...</td>\n",
       "      <td>...</td>\n",
       "      <td>...</td>\n",
       "      <td>...</td>\n",
       "      <td>...</td>\n",
       "      <td>...</td>\n",
       "      <td>...</td>\n",
       "      <td>...</td>\n",
       "      <td>...</td>\n",
       "      <td>...</td>\n",
       "    </tr>\n",
       "    <tr>\n",
       "      <th>25307</th>\n",
       "      <td>country_9</td>\n",
       "      <td>brand_187</td>\n",
       "      <td>19</td>\n",
       "      <td>1</td>\n",
       "      <td>1</td>\n",
       "      <td>Antineoplastic_and_immunology</td>\n",
       "      <td>PILL</td>\n",
       "      <td>100.000000</td>\n",
       "      <td>0.000000</td>\n",
       "      <td>0.0</td>\n",
       "      <td>0</td>\n",
       "      <td>0.713975</td>\n",
       "    </tr>\n",
       "    <tr>\n",
       "      <th>25308</th>\n",
       "      <td>country_9</td>\n",
       "      <td>brand_187</td>\n",
       "      <td>20</td>\n",
       "      <td>1</td>\n",
       "      <td>1</td>\n",
       "      <td>Antineoplastic_and_immunology</td>\n",
       "      <td>PILL</td>\n",
       "      <td>100.000000</td>\n",
       "      <td>0.000000</td>\n",
       "      <td>0.0</td>\n",
       "      <td>0</td>\n",
       "      <td>0.659026</td>\n",
       "    </tr>\n",
       "    <tr>\n",
       "      <th>25309</th>\n",
       "      <td>country_9</td>\n",
       "      <td>brand_187</td>\n",
       "      <td>21</td>\n",
       "      <td>1</td>\n",
       "      <td>1</td>\n",
       "      <td>Antineoplastic_and_immunology</td>\n",
       "      <td>PILL</td>\n",
       "      <td>100.000000</td>\n",
       "      <td>0.000000</td>\n",
       "      <td>0.0</td>\n",
       "      <td>0</td>\n",
       "      <td>0.140628</td>\n",
       "    </tr>\n",
       "    <tr>\n",
       "      <th>25310</th>\n",
       "      <td>country_9</td>\n",
       "      <td>brand_187</td>\n",
       "      <td>22</td>\n",
       "      <td>1</td>\n",
       "      <td>1</td>\n",
       "      <td>Antineoplastic_and_immunology</td>\n",
       "      <td>PILL</td>\n",
       "      <td>100.000000</td>\n",
       "      <td>0.000000</td>\n",
       "      <td>0.0</td>\n",
       "      <td>0</td>\n",
       "      <td>0.394381</td>\n",
       "    </tr>\n",
       "    <tr>\n",
       "      <th>25311</th>\n",
       "      <td>country_9</td>\n",
       "      <td>brand_187</td>\n",
       "      <td>23</td>\n",
       "      <td>1</td>\n",
       "      <td>1</td>\n",
       "      <td>Antineoplastic_and_immunology</td>\n",
       "      <td>PILL</td>\n",
       "      <td>100.000000</td>\n",
       "      <td>0.000000</td>\n",
       "      <td>0.0</td>\n",
       "      <td>0</td>\n",
       "      <td>0.364123</td>\n",
       "    </tr>\n",
       "  </tbody>\n",
       "</table>\n",
       "<p>25312 rows × 12 columns</p>\n",
       "</div>"
      ],
      "text/plain": [
       "         country      brand  month_num  test  num_generics  \\\n",
       "0      country_1    brand_3          0     0             3   \n",
       "1      country_1    brand_3          1     0             3   \n",
       "2      country_1    brand_3          2     0             3   \n",
       "3      country_1    brand_3          3     0             3   \n",
       "4      country_1    brand_3          4     0             3   \n",
       "...          ...        ...        ...   ...           ...   \n",
       "25307  country_9  brand_187         19     1             1   \n",
       "25308  country_9  brand_187         20     1             1   \n",
       "25309  country_9  brand_187         21     1             1   \n",
       "25310  country_9  brand_187         22     1             1   \n",
       "25311  country_9  brand_187         23     1             1   \n",
       "\n",
       "                    therapeutic_area presentation           B          D    C  \\\n",
       "0           Cardiovascular_Metabolic         PILL    1.189704  98.810296  0.0   \n",
       "1           Cardiovascular_Metabolic         PILL    1.189704  98.810296  0.0   \n",
       "2           Cardiovascular_Metabolic         PILL    1.189704  98.810296  0.0   \n",
       "3           Cardiovascular_Metabolic         PILL    1.189704  98.810296  0.0   \n",
       "4           Cardiovascular_Metabolic         PILL    1.189704  98.810296  0.0   \n",
       "...                              ...          ...         ...        ...  ...   \n",
       "25307  Antineoplastic_and_immunology         PILL  100.000000   0.000000  0.0   \n",
       "25308  Antineoplastic_and_immunology         PILL  100.000000   0.000000  0.0   \n",
       "25309  Antineoplastic_and_immunology         PILL  100.000000   0.000000  0.0   \n",
       "25310  Antineoplastic_and_immunology         PILL  100.000000   0.000000  0.0   \n",
       "25311  Antineoplastic_and_immunology         PILL  100.000000   0.000000  0.0   \n",
       "\n",
       "       A    random  \n",
       "0      0  0.127658  \n",
       "1      0  0.754429  \n",
       "2      0  0.905608  \n",
       "3      0  0.739566  \n",
       "4      0  0.978756  \n",
       "...   ..       ...  \n",
       "25307  0  0.713975  \n",
       "25308  0  0.659026  \n",
       "25309  0  0.140628  \n",
       "25310  0  0.394381  \n",
       "25311  0  0.364123  \n",
       "\n",
       "[25312 rows x 12 columns]"
      ]
     },
     "execution_count": 320,
     "metadata": {},
     "output_type": "execute_result"
    }
   ],
   "source": [
    "\n",
    "adv"
   ]
  },
  {
   "cell_type": "markdown",
   "metadata": {
    "ExecuteTime": {
     "end_time": "2020-11-26T19:13:56.153420Z",
     "start_time": "2020-11-26T19:13:56.149553Z"
    }
   },
   "source": [
    "## Splitting"
   ]
  },
  {
   "cell_type": "code",
   "execution_count": 5,
   "metadata": {
    "ExecuteTime": {
     "end_time": "2020-11-27T05:01:23.552354Z",
     "start_time": "2020-11-27T05:01:23.445904Z"
    }
   },
   "outputs": [
    {
     "data": {
      "text/plain": [
       "982"
      ]
     },
     "execution_count": 5,
     "metadata": {},
     "output_type": "execute_result"
    }
   ],
   "source": [
    "df = pd.read_csv('data/gx_merged.csv')\n",
    "\n",
    "# Take out test\n",
    "df = df[df.test==0]\n",
    "\n",
    "# Create our unique index variable\n",
    "df['count_brand'] = df[\"country\"].astype(str) + '-'+ df[\"brand\"]\n",
    "\n",
    "# Unique index\n",
    "lista = df['count_brand'].unique()\n",
    "df['count_brand'].nunique()"
   ]
  },
  {
   "cell_type": "code",
   "execution_count": 6,
   "metadata": {
    "ExecuteTime": {
     "end_time": "2020-11-27T05:01:23.933216Z",
     "start_time": "2020-11-27T05:01:23.903841Z"
    }
   },
   "outputs": [],
   "source": [
    "# Get the ones that have not 24months\n",
    "a = pd.DataFrame(df.groupby([\"country\", \"brand\"]).month_num.max()).reset_index()\n",
    "a = a[a.month_num < 23]\n",
    "a[\"count_brand\"] = a[\"country\"].astype(str) + \"-\" + a[\"brand\"]\n",
    "deformed = a.count_brand.unique()"
   ]
  },
  {
   "cell_type": "code",
   "execution_count": 7,
   "metadata": {
    "ExecuteTime": {
     "end_time": "2020-11-27T05:01:24.155416Z",
     "start_time": "2020-11-27T05:01:24.150539Z"
    }
   },
   "outputs": [],
   "source": [
    "buenos = list(set(lista) - set(list(deformed)))"
   ]
  },
  {
   "cell_type": "code",
   "execution_count": 8,
   "metadata": {
    "ExecuteTime": {
     "end_time": "2020-11-27T05:01:25.513136Z",
     "start_time": "2020-11-27T05:01:25.508529Z"
    }
   },
   "outputs": [],
   "source": [
    "split = int(len(buenos)*0.75)\n",
    "split_train_list = buenos[:split]\n",
    "split_valid_list = buenos[split:]\n"
   ]
  },
  {
   "cell_type": "code",
   "execution_count": 9,
   "metadata": {
    "ExecuteTime": {
     "end_time": "2020-11-27T05:01:25.756791Z",
     "start_time": "2020-11-27T05:01:25.750028Z"
    }
   },
   "outputs": [
    {
     "data": {
      "text/plain": [
       "576"
      ]
     },
     "execution_count": 9,
     "metadata": {},
     "output_type": "execute_result"
    }
   ],
   "source": [
    "len(split_train_list)"
   ]
  },
  {
   "cell_type": "code",
   "execution_count": 10,
   "metadata": {
    "ExecuteTime": {
     "end_time": "2020-11-27T05:01:25.960009Z",
     "start_time": "2020-11-27T05:01:25.947746Z"
    }
   },
   "outputs": [
    {
     "data": {
      "text/plain": [
       "192"
      ]
     },
     "execution_count": 10,
     "metadata": {},
     "output_type": "execute_result"
    }
   ],
   "source": [
    "len(split_valid_list)"
   ]
  },
  {
   "cell_type": "code",
   "execution_count": 11,
   "metadata": {
    "ExecuteTime": {
     "end_time": "2020-11-27T05:01:26.180301Z",
     "start_time": "2020-11-27T05:01:26.144908Z"
    }
   },
   "outputs": [],
   "source": [
    "train_split = df[df['count_brand'].isin(split_train_list)]\n",
    "valid_split = df[df['count_brand'].isin(split_valid_list)]\n",
    "\n",
    "train_split = train_split[['country','brand']]\n",
    "valid_split = valid_split[['country','brand']]\n",
    "\n",
    "train_split.shape\n",
    "\n",
    "train_split.drop_duplicates().to_csv('data/train_split_noerror.csv',index=False)\n",
    "valid_split.drop_duplicates().to_csv('data/valid_split.csv',index=False)"
   ]
  },
  {
   "cell_type": "code",
   "execution_count": 12,
   "metadata": {
    "ExecuteTime": {
     "end_time": "2020-11-27T05:01:26.321372Z",
     "start_time": "2020-11-27T05:01:26.317618Z"
    }
   },
   "outputs": [],
   "source": [
    "split_train_split_deformed = list(set((split_train_list + list(deformed))))"
   ]
  },
  {
   "cell_type": "code",
   "execution_count": 13,
   "metadata": {
    "ExecuteTime": {
     "end_time": "2020-11-27T05:01:26.498403Z",
     "start_time": "2020-11-27T05:01:26.481492Z"
    }
   },
   "outputs": [],
   "source": [
    "train_split = df[df['count_brand'].isin(split_train_split_deformed)]\n",
    "\n",
    "\n",
    "train_split = train_split[['country','brand']]\n",
    "\n",
    "\n",
    "\n",
    "train_split.drop_duplicates().to_csv('data/train_split.csv',index=False)\n"
   ]
  },
  {
   "cell_type": "code",
   "execution_count": 14,
   "metadata": {
    "ExecuteTime": {
     "end_time": "2020-11-27T05:01:26.622656Z",
     "start_time": "2020-11-27T05:01:26.616697Z"
    }
   },
   "outputs": [
    {
     "data": {
      "text/plain": [
       "0.75"
      ]
     },
     "execution_count": 14,
     "metadata": {},
     "output_type": "execute_result"
    }
   ],
   "source": [
    "576/768"
   ]
  },
  {
   "cell_type": "code",
   "execution_count": 15,
   "metadata": {
    "ExecuteTime": {
     "end_time": "2020-11-27T05:01:27.041738Z",
     "start_time": "2020-11-27T05:01:27.036875Z"
    }
   },
   "outputs": [
    {
     "data": {
      "text/plain": [
       "768"
      ]
     },
     "execution_count": 15,
     "metadata": {},
     "output_type": "execute_result"
    }
   ],
   "source": [
    "len(buenos)"
   ]
  },
  {
   "cell_type": "code",
   "execution_count": null,
   "metadata": {},
   "outputs": [],
   "source": []
  },
  {
   "cell_type": "code",
   "execution_count": 15,
   "metadata": {
    "ExecuteTime": {
     "end_time": "2020-11-26T21:33:40.308781Z",
     "start_time": "2020-11-26T21:33:40.301930Z"
    }
   },
   "outputs": [
    {
     "data": {
      "text/plain": [
       "(790, 2)"
      ]
     },
     "execution_count": 15,
     "metadata": {},
     "output_type": "execute_result"
    }
   ],
   "source": [
    "pd.read_csv('data/train_split.csv').shape"
   ]
  },
  {
   "cell_type": "code",
   "execution_count": 16,
   "metadata": {
    "ExecuteTime": {
     "end_time": "2020-11-26T21:33:40.701385Z",
     "start_time": "2020-11-26T21:33:40.691806Z"
    }
   },
   "outputs": [
    {
     "data": {
      "text/plain": [
       "(192, 2)"
      ]
     },
     "execution_count": 16,
     "metadata": {},
     "output_type": "execute_result"
    }
   ],
   "source": [
    "pd.read_csv('data/valid_split.csv').shape"
   ]
  },
  {
   "cell_type": "code",
   "execution_count": 17,
   "metadata": {
    "ExecuteTime": {
     "end_time": "2020-11-26T21:33:40.914838Z",
     "start_time": "2020-11-26T21:33:40.903638Z"
    }
   },
   "outputs": [
    {
     "data": {
      "text/plain": [
       "(576, 2)"
      ]
     },
     "execution_count": 17,
     "metadata": {},
     "output_type": "execute_result"
    }
   ],
   "source": [
    "pd.read_csv('data/train_split_noerror.csv').shape"
   ]
  },
  {
   "cell_type": "markdown",
   "metadata": {},
   "source": [
    "### Split test"
   ]
  },
  {
   "cell_type": "code",
   "execution_count": 36,
   "metadata": {
    "ExecuteTime": {
     "end_time": "2020-11-27T05:29:24.080416Z",
     "start_time": "2020-11-27T05:29:24.022709Z"
    }
   },
   "outputs": [
    {
     "data": {
      "text/plain": [
       "191"
      ]
     },
     "execution_count": 36,
     "metadata": {},
     "output_type": "execute_result"
    }
   ],
   "source": [
    "df = pd.read_csv('data/gx_merged.csv')\n",
    "\n",
    "# Take out test\n",
    "df = df[df.test==1]\n",
    "\n",
    "# Create our unique index variable\n",
    "df['count_brand'] = df[\"country\"].astype(str) + '-'+ df[\"brand\"]\n",
    "\n",
    "# Unique index\n",
    "lista = df['count_brand'].unique()\n",
    "df['count_brand'].nunique()"
   ]
  },
  {
   "cell_type": "code",
   "execution_count": 37,
   "metadata": {
    "ExecuteTime": {
     "end_time": "2020-11-27T05:29:24.773153Z",
     "start_time": "2020-11-27T05:29:24.769302Z"
    }
   },
   "outputs": [],
   "source": [
    "split_test_list = lista "
   ]
  },
  {
   "cell_type": "code",
   "execution_count": 38,
   "metadata": {
    "ExecuteTime": {
     "end_time": "2020-11-27T05:29:25.174611Z",
     "start_time": "2020-11-27T05:29:25.162985Z"
    }
   },
   "outputs": [],
   "source": [
    "test_split = df[df['count_brand'].isin(split_test_list)]\n",
    "\n",
    "test_split = test_split[['country','brand']]"
   ]
  },
  {
   "cell_type": "code",
   "execution_count": 39,
   "metadata": {
    "ExecuteTime": {
     "end_time": "2020-11-27T05:29:25.448236Z",
     "start_time": "2020-11-27T05:29:25.432584Z"
    }
   },
   "outputs": [],
   "source": [
    "test_split.drop_duplicates().to_csv('data/test_split.csv',index=False)"
   ]
  },
  {
   "cell_type": "code",
   "execution_count": null,
   "metadata": {},
   "outputs": [],
   "source": []
  }
 ],
 "metadata": {
  "kernelspec": {
   "display_name": "Python 3",
   "language": "python",
   "name": "python3"
  },
  "language_info": {
   "codemirror_mode": {
    "name": "ipython",
    "version": 3
   },
   "file_extension": ".py",
   "mimetype": "text/x-python",
   "name": "python",
   "nbconvert_exporter": "python",
   "pygments_lexer": "ipython3",
   "version": "3.8.5"
  }
 },
 "nbformat": 4,
 "nbformat_minor": 4
}
